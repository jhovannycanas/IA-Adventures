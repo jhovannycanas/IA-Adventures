{
 "cells": [
  {
   "cell_type": "markdown",
   "metadata": {},
   "source": [
    "# Convolutional Neural Network en Keras"
   ]
  },
  {
   "cell_type": "markdown",
   "metadata": {},
   "source": [
    "Vamos a implementar una red CNN, utilizando el dataset fashion_mnist, el cual es un dataset de imagenes compuesto de 60 mil imagenes de bolsos, camisas, zapatos, chaquetas, entre otros objetos de moda, para un total de 10 clases."
   ]
  },
  {
   "cell_type": "code",
   "execution_count": 27,
   "metadata": {},
   "outputs": [],
   "source": [
    "from __future__ import print_function\n",
    "import keras\n",
    "from keras.datasets import fashion_mnist  \n",
    "from keras.models import Sequential\n",
    "from keras.layers import Dense, Dropout, Flatten\n",
    "from keras.layers import Conv2D, MaxPooling2D\n",
    "from keras import backend as K"
   ]
  },
  {
   "cell_type": "code",
   "execution_count": 28,
   "metadata": {},
   "outputs": [],
   "source": [
    "#suprmir mensajes de advertencia\n",
    "import os\n",
    "os.environ['TF_CPP_MIN_LOG_LEVEL'] = '3' "
   ]
  },
  {
   "cell_type": "code",
   "execution_count": 29,
   "metadata": {},
   "outputs": [],
   "source": [
    "n_clases = 10"
   ]
  },
  {
   "cell_type": "code",
   "execution_count": 30,
   "metadata": {},
   "outputs": [],
   "source": [
    "#espcificamos el tamaño del lote y las epocas\n",
    "batch_size = 128\n",
    "epochs = 24\n"
   ]
  },
  {
   "cell_type": "code",
   "execution_count": 31,
   "metadata": {},
   "outputs": [],
   "source": [
    "# definimos las dimensiones de las imagenes\n",
    "img_rows, img_cols = 28, 28"
   ]
  },
  {
   "cell_type": "code",
   "execution_count": 32,
   "metadata": {},
   "outputs": [],
   "source": [
    "#cargamos los datos y dividimos dos lotes: entrenamiento y prueba\n",
    "(x_train, y_train), (x_test, y_test) = fashion_mnist.load_data()  "
   ]
  },
  {
   "cell_type": "code",
   "execution_count": 33,
   "metadata": {},
   "outputs": [],
   "source": [
    "#   Deal with format issues between different backends.  Some put the # of channels in the image before the width and height of image.\n",
    "if K.image_data_format() == 'channels_first':\n",
    "    x_train = x_train.reshape(x_train.shape[0], 1, img_rows, img_cols)\n",
    "    x_test = X_test.reshape(x_test.shape[0], 1, img_rows, img_cols)\n",
    "    input_shape = (1, img_rows, img_cols)\n",
    "else:\n",
    "    x_train = x_train.reshape(x_train.shape[0], img_rows, img_cols, 1)\n",
    "    x_test = x_test.reshape(x_test.shape[0], img_rows, img_cols, 1)\n",
    "    input_shape = (img_rows, img_cols, 1)"
   ]
  },
  {
   "cell_type": "code",
   "execution_count": 34,
   "metadata": {},
   "outputs": [],
   "source": [
    "# convertir el tipo de dato y escalar los datos de entrenamiento y prueba\n",
    "x_train = x_train.astype('float32')\n",
    "x_test = x_test.astype('float32')\n",
    "x_train /= 255\n",
    "x_test /= 255"
   ]
  },
  {
   "cell_type": "code",
   "execution_count": 35,
   "metadata": {},
   "outputs": [],
   "source": [
    "# convertir la columna de un solo numero a una matriz de una sola posicion. one-hot encoding\n",
    "#  3 => 0 0 0 1 0 0 0 0 0 0 and 1 => 0 1 0 0 0 0 0 0 0 0 \n",
    "y_train = keras.utils.to_categorical(y_train, n_clases)\n",
    "y_test = keras.utils.to_categorical(y_test, n_clases)\n"
   ]
  },
  {
   "cell_type": "code",
   "execution_count": 36,
   "metadata": {},
   "outputs": [],
   "source": [
    "# luego definimos el modelo\n",
    "model = Sequential()"
   ]
  },
  {
   "cell_type": "code",
   "execution_count": 37,
   "metadata": {},
   "outputs": [],
   "source": [
    "model.add(Conv2D(32, kernel_size=(3, 3),\n",
    "                 activation='relu',\n",
    "                 input_shape=input_shape))\n",
    "model.add(MaxPooling2D(pool_size=(2, 2)))\n",
    "model.add(Conv2D(32, (3, 3), activation='relu'))\n",
    "model.add(MaxPooling2D(pool_size=(2, 2)))\n",
    "model.add(Flatten())\n",
    "model.add(Dense(128, activation='relu'))\n",
    "model.add(Dropout(0.5))\n",
    "model.add(Dense(n_clases, activation='softmax'))"
   ]
  },
  {
   "cell_type": "code",
   "execution_count": 38,
   "metadata": {},
   "outputs": [
    {
     "name": "stdout",
     "output_type": "stream",
     "text": [
      "WARNING:tensorflow:From c:\\users\\jhovanny\\appdata\\local\\programs\\python\\python36\\lib\\site-packages\\tensorflow\\python\\ops\\math_ops.py:3066: to_int32 (from tensorflow.python.ops.math_ops) is deprecated and will be removed in a future version.\n",
      "Instructions for updating:\n",
      "Use tf.cast instead.\n",
      "Train on 60000 samples, validate on 10000 samples\n",
      "Epoch 1/24\n",
      "60000/60000 [==============================] - 38s 625us/step - loss: 0.6891 - acc: 0.7483 - val_loss: 0.4746 - val_acc: 0.8175\n",
      "Epoch 2/24\n",
      "60000/60000 [==============================] - 37s 612us/step - loss: 0.4447 - acc: 0.8402 - val_loss: 0.3990 - val_acc: 0.8494\n",
      "Epoch 3/24\n",
      "60000/60000 [==============================] - 37s 623us/step - loss: 0.3899 - acc: 0.8597 - val_loss: 0.3737 - val_acc: 0.8608\n",
      "Epoch 4/24\n",
      "60000/60000 [==============================] - 38s 630us/step - loss: 0.3583 - acc: 0.8722 - val_loss: 0.3293 - val_acc: 0.8799\n",
      "Epoch 5/24\n",
      "60000/60000 [==============================] - 38s 632us/step - loss: 0.3318 - acc: 0.8801 - val_loss: 0.3138 - val_acc: 0.8864\n",
      "Epoch 6/24\n",
      "60000/60000 [==============================] - 39s 642us/step - loss: 0.3192 - acc: 0.8855 - val_loss: 0.3089 - val_acc: 0.8891\n",
      "Epoch 7/24\n",
      "60000/60000 [==============================] - 39s 649us/step - loss: 0.3041 - acc: 0.8918 - val_loss: 0.2887 - val_acc: 0.8960\n",
      "Epoch 8/24\n",
      "60000/60000 [==============================] - 41s 691us/step - loss: 0.2918 - acc: 0.8950 - val_loss: 0.2919 - val_acc: 0.8947\n",
      "Epoch 9/24\n",
      "60000/60000 [==============================] - 41s 685us/step - loss: 0.2795 - acc: 0.9000 - val_loss: 0.2872 - val_acc: 0.8977\n",
      "Epoch 10/24\n",
      "60000/60000 [==============================] - 43s 725us/step - loss: 0.2707 - acc: 0.9020 - val_loss: 0.2735 - val_acc: 0.9005\n",
      "Epoch 11/24\n",
      "60000/60000 [==============================] - 45s 752us/step - loss: 0.2606 - acc: 0.9062 - val_loss: 0.2724 - val_acc: 0.9008\n",
      "Epoch 12/24\n",
      "60000/60000 [==============================] - 45s 748us/step - loss: 0.2525 - acc: 0.9082 - val_loss: 0.2786 - val_acc: 0.8993\n",
      "Epoch 13/24\n",
      "60000/60000 [==============================] - 47s 777us/step - loss: 0.2443 - acc: 0.9108 - val_loss: 0.2634 - val_acc: 0.9027loss: 0.2446 - acc: 0 - ETA: 3s - loss: 0.2445 - acc:  - ETA\n",
      "Epoch 14/24\n",
      "60000/60000 [==============================] - 45s 744us/step - loss: 0.2400 - acc: 0.9142 - val_loss: 0.2719 - val_acc: 0.9039\n",
      "Epoch 15/24\n",
      "60000/60000 [==============================] - 41s 691us/step - loss: 0.2335 - acc: 0.9149 - val_loss: 0.2569 - val_acc: 0.9090\n",
      "Epoch 16/24\n",
      "60000/60000 [==============================] - 41s 691us/step - loss: 0.2278 - acc: 0.9189 - val_loss: 0.2621 - val_acc: 0.9073\n",
      "Epoch 17/24\n",
      "60000/60000 [==============================] - 40s 661us/step - loss: 0.2207 - acc: 0.9193 - val_loss: 0.2723 - val_acc: 0.9006\n",
      "Epoch 18/24\n",
      "60000/60000 [==============================] - 41s 689us/step - loss: 0.2172 - acc: 0.9222 - val_loss: 0.2563 - val_acc: 0.9088\n",
      "Epoch 19/24\n",
      "60000/60000 [==============================] - 46s 773us/step - loss: 0.2125 - acc: 0.9225 - val_loss: 0.2626 - val_acc: 0.9081\n",
      "Epoch 20/24\n",
      "60000/60000 [==============================] - 66s 1ms/step - loss: 0.2058 - acc: 0.9262 - val_loss: 0.2504 - val_acc: 0.9104\n",
      "Epoch 21/24\n",
      "60000/60000 [==============================] - 59s 990us/step - loss: 0.2032 - acc: 0.9262 - val_loss: 0.2488 - val_acc: 0.9090\n",
      "Epoch 22/24\n",
      "60000/60000 [==============================] - 49s 820us/step - loss: 0.1988 - acc: 0.9273 - val_loss: 0.2612 - val_acc: 0.9055\n",
      "Epoch 23/24\n",
      "60000/60000 [==============================] - 49s 815us/step - loss: 0.1964 - acc: 0.9295 - val_loss: 0.2563 - val_acc: 0.9122\n",
      "Epoch 24/24\n",
      "60000/60000 [==============================] - 50s 840us/step - loss: 0.1926 - acc: 0.9312 - val_loss: 0.2581 - val_acc: 0.9100\n",
      "Test loss: 0.2580632059633732\n",
      "Test accuracy: 0.91\n"
     ]
    },
    {
     "data": {
      "text/plain": [
       "<Figure size 640x480 with 1 Axes>"
      ]
     },
     "metadata": {},
     "output_type": "display_data"
    }
   ],
   "source": [
    "#   define compile to minimize categorical loss, use ada delta optimized, and optimize to maximizing accuracy\n",
    "model.compile(loss=keras.losses.categorical_crossentropy,\n",
    "              optimizer=keras.optimizers.Adadelta(),\n",
    "              metrics=['accuracy'])\n",
    "\n",
    "#   Train the model and test/validate the mode with the test data after each cycle (epoch) through the training data\n",
    "#   Return history of loss and accuracy for each epoch\n",
    "hist = model.fit(x_train, y_train,\n",
    "          batch_size=batch_size,\n",
    "          epochs=epochs,\n",
    "          verbose=1,\n",
    "          validation_data=(x_test, y_test))\n",
    "\n",
    "#   Evaluate the model with the test data to get the scores on \"real\" data.\n",
    "score = model.evaluate(x_test, y_test, verbose=0)\n",
    "print('Test loss:', score[0])\n",
    "print('Test accuracy:', score[1])\n",
    "\n",
    "#   Plot data to see relationships in training and validation data\n",
    "import numpy as np\n",
    "import matplotlib.pyplot as plt\n",
    "epoch_list = list(range(1, len(hist.history['acc']) + 1))  # values for x axis [1, 2, ..., # of epochs]\n",
    "plt.plot(epoch_list, hist.history['acc'], epoch_list, hist.history['val_acc'])\n",
    "plt.legend(('Training Accuracy', 'Validation Accuracy'))\n",
    "plt.show()"
   ]
  }
 ],
 "metadata": {
  "kernelspec": {
   "display_name": "Python 3",
   "language": "python",
   "name": "python3"
  },
  "language_info": {
   "codemirror_mode": {
    "name": "ipython",
    "version": 3
   },
   "file_extension": ".py",
   "mimetype": "text/x-python",
   "name": "python",
   "nbconvert_exporter": "python",
   "pygments_lexer": "ipython3",
   "version": "3.6.7"
  }
 },
 "nbformat": 4,
 "nbformat_minor": 2
}

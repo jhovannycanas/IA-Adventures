{
 "cells": [
  {
   "cell_type": "markdown",
   "metadata": {},
   "source": [
    "Para esta practiva vamos a utilizar el dataset disponible en Kaggle de la competencia para clasificar perros y gatos, disponible en el siguiente enlace: https://www.kaggle.com/c/dogs-vs-cats/data."
   ]
  },
  {
   "cell_type": "markdown",
   "metadata": {},
   "source": [
    "Este conjunto de datos contiene 25 imagenes de perros y gatos para ser utilizadas durante el entrenamiento del modelo, y 15 imagenes para test."
   ]
  },
  {
   "cell_type": "markdown",
   "metadata": {},
   "source": [
    "Descargar las imagenes y ubicarlas en dos carpetas, entrenamiento y prueba respectivamente."
   ]
  },
  {
   "cell_type": "code",
   "execution_count": 23,
   "metadata": {},
   "outputs": [
    {
     "name": "stdout",
     "output_type": "stream",
     "text": [
      "Requirement already satisfied: opencv-python in c:\\users\\jhovanny\\appdata\\local\\programs\\python\\python36\\lib\\site-packages (4.1.0.25)\n",
      "Requirement already satisfied: numpy>=1.11.3 in c:\\users\\jhovanny\\appdata\\local\\programs\\python\\python36\\lib\\site-packages (from opencv-python) (1.16.1)\n",
      "Requirement already satisfied: np_utils in c:\\users\\jhovanny\\appdata\\local\\programs\\python\\python36\\lib\\site-packages (0.5.10.0)\n",
      "Requirement already satisfied: future>=0.16 in c:\\users\\jhovanny\\appdata\\local\\programs\\python\\python36\\lib\\site-packages (from np_utils) (0.17.1)\n",
      "Requirement already satisfied: numpy>=1.0 in c:\\users\\jhovanny\\appdata\\local\\programs\\python\\python36\\lib\\site-packages (from np_utils) (1.16.1)\n"
     ]
    }
   ],
   "source": [
    "!pip install opencv-python\n",
    "\n",
    "import os, cv2, itertools\n",
    "import numpy as np\n",
    "import pandas as pd\n",
    "\n",
    "import matplotlib.pyplot as plt\n",
    "%matplotlib inline\n",
    "\n",
    "!pip install np_utils\n",
    "\n",
    "from keras.utils.np_utils import to_categorical\n",
    "\n",
    "from keras.models import Sequential\n",
    "from keras.layers import Conv2D\n",
    "from keras.layers import MaxPooling2D\n",
    "from keras.layers import Flatten\n",
    "from keras.layers import Dense\n",
    "from keras.layers import Dropout\n",
    "\n",
    "from sklearn.utils import shuffle\n",
    "\n",
    "import sklearn\n",
    "from sklearn.model_selection import train_test_split"
   ]
  },
  {
   "cell_type": "markdown",
   "metadata": {},
   "source": [
    "Definimos las siguiente variables:"
   ]
  },
  {
   "cell_type": "code",
   "execution_count": 24,
   "metadata": {},
   "outputs": [],
   "source": [
    "ENTRENAMIENTO_DIR = 'data/entrenamiento/'\n",
    "TEST_DIR = 'data/pruebas/'\n",
    "\n",
    "#definimos el shape de las imagenes\n",
    "ROWS = 64\n",
    "COLS = 64\n",
    "CHANNELS = 3"
   ]
  },
  {
   "cell_type": "markdown",
   "metadata": {},
   "source": [
    "La siguiente instruccion permite llenar la lista con las rutas relativas de las imagenes para su posterior manipulacion, se utiliza list comprehension python, una forma pythonista de hacerlo, otra forma es por medio de un range, la funcion os.listdir retorna los archivos disponibles en la carpeta."
   ]
  },
  {
   "cell_type": "code",
   "execution_count": 25,
   "metadata": {},
   "outputs": [],
   "source": [
    "train_images = [ENTRENAMIENTO_DIR+i for i in os.listdir(ENTRENAMIENTO_DIR)]\n",
    "test_images = [TEST_DIR+i for i in os.listdir(TEST_DIR)]"
   ]
  },
  {
   "cell_type": "markdown",
   "metadata": {},
   "source": [
    "La siguiente instruccion permite leer una imagen pasandole una ruta especifica:"
   ]
  },
  {
   "cell_type": "code",
   "execution_count": 26,
   "metadata": {},
   "outputs": [],
   "source": [
    "def read_image(file_path):\n",
    "  #print(file_path)\n",
    "  img = cv2.imread(file_path, cv2.IMREAD_COLOR)\n",
    "  #print(img)\n",
    "  return cv2.resize(img, (ROWS, COLS), interpolation=cv2.INTER_CUBIC)"
   ]
  },
  {
   "cell_type": "markdown",
   "metadata": {},
   "source": [
    "La siguiente funcion toma una lista de rutas de imagenes, para convertirla en el formato requerido por una CNN."
   ]
  },
  {
   "cell_type": "code",
   "execution_count": 27,
   "metadata": {},
   "outputs": [],
   "source": [
    "def prep_data(images):\n",
    "  m = len(images)\n",
    "  n_x = ROWS*COLS*CHANNELS\n",
    "  \n",
    "  X = np.ndarray((m,ROWS,COLS,CHANNELS), dtype=np.uint8)\n",
    "  y = np.zeros((m,1))\n",
    "  print(\"X.shape is {}\".format(X.shape))\n",
    "  \n",
    "  for i,image_file in enumerate(images) :\n",
    "    image = read_image(image_file)\n",
    "    X[i,:] = np.squeeze(image.reshape((ROWS, COLS, CHANNELS)))\n",
    "    if 'dog' in image_file.lower() :\n",
    "      y[i,0] = 1\n",
    "    elif 'cat' in image_file.lower() :\n",
    "      y[i,0] = 0\n",
    "    else : # for test data\n",
    "      y[i,0] = image_file.split('/')[-1].split('.')[0]\n",
    "      \n",
    "    if i%5000 == 0 :\n",
    "      print(\"Proceed {} of {}\".format(i, m))\n",
    "    \n",
    "  return X,y"
   ]
  },
  {
   "cell_type": "markdown",
   "metadata": {},
   "source": [
    "Hacemos un llamado a la funcion prep_data, para obtener los datos requeridos para entrenar y evaluar la CNN."
   ]
  },
  {
   "cell_type": "code",
   "execution_count": 28,
   "metadata": {},
   "outputs": [
    {
     "name": "stdout",
     "output_type": "stream",
     "text": [
      "X.shape is (25000, 64, 64, 3)\n",
      "Proceed 0 of 25000\n",
      "Proceed 5000 of 25000\n",
      "Proceed 10000 of 25000\n",
      "Proceed 15000 of 25000\n",
      "Proceed 20000 of 25000\n",
      "X.shape is (12500, 64, 64, 3)\n",
      "Proceed 0 of 12500\n",
      "Proceed 5000 of 12500\n",
      "Proceed 10000 of 12500\n"
     ]
    }
   ],
   "source": [
    "X_train, y_train = prep_data(train_images)\n",
    "X_test, test_idx = prep_data(test_images)"
   ]
  },
  {
   "cell_type": "code",
   "execution_count": 11,
   "metadata": {},
   "outputs": [
    {
     "name": "stdout",
     "output_type": "stream",
     "text": [
      "Train shape: (25000, 64, 64, 3)\n",
      "Test shape: (12500, 64, 64, 3)\n"
     ]
    }
   ],
   "source": [
    "print(\"Train shape: {}\".format(X_train.shape))\n",
    "print(\"Test shape: {}\".format(X_test.shape))"
   ]
  },
  {
   "cell_type": "markdown",
   "metadata": {},
   "source": [
    "La siguiente instruccion permite barajar o combinar los datos:"
   ]
  },
  {
   "cell_type": "code",
   "execution_count": 29,
   "metadata": {},
   "outputs": [],
   "source": [
    "X, y = shuffle(X_train, y_train)"
   ]
  },
  {
   "cell_type": "markdown",
   "metadata": {},
   "source": [
    "Definimos la clase 1 para denotar perro, 0 para denotar gato."
   ]
  },
  {
   "cell_type": "code",
   "execution_count": 16,
   "metadata": {},
   "outputs": [],
   "source": [
    "classes = {0: 'cats',\n",
    "           1: 'dogs'}"
   ]
  },
  {
   "cell_type": "markdown",
   "metadata": {},
   "source": [
    "Subdivimos los datos para entrenamiento y para prueba un 20%."
   ]
  },
  {
   "cell_type": "code",
   "execution_count": 31,
   "metadata": {},
   "outputs": [
    {
     "name": "stdout",
     "output_type": "stream",
     "text": [
      "Train shape: (20000, 64, 64, 3)\n",
      "Train label shape: (20000, 1)\n",
      "Validation shape: (5000, 64, 64, 3)\n",
      "Validation label shape: (5000, 1)\n"
     ]
    }
   ],
   "source": [
    "X_train, X_val, y_train, y_val = train_test_split(X, y, test_size=0.2, random_state=1)\n",
    "\n",
    "print(\"Train shape: {}\".format(X_train.shape))\n",
    "print(\"Train label shape: {}\".format(y_train.shape))\n",
    "print(\"Validation shape: {}\".format(X_val.shape))\n",
    "print(\"Validation label shape: {}\".format(y_val.shape))"
   ]
  },
  {
   "cell_type": "markdown",
   "metadata": {},
   "source": [
    "Luego convertimos las etiquetas de los conjuntos de datos en una representacion de vector, mediante one-hot-encoding"
   ]
  },
  {
   "cell_type": "code",
   "execution_count": 32,
   "metadata": {},
   "outputs": [
    {
     "name": "stdout",
     "output_type": "stream",
     "text": [
      "(20000, 2)\n",
      "2\n",
      "(5000, 2)\n"
     ]
    }
   ],
   "source": [
    "y_train_one_hot = to_categorical(y_train)\n",
    "print(y_train_one_hot.shape)\n",
    "\n",
    "num_classes = y_train_one_hot.shape[1]\n",
    "print(num_classes)\n",
    "\n",
    "y_val_one_hot = to_categorical(y_val)\n",
    "print(y_val_one_hot.shape)"
   ]
  },
  {
   "cell_type": "code",
   "execution_count": 35,
   "metadata": {},
   "outputs": [
    {
     "data": {
      "text/plain": [
       "array([0., 1.], dtype=float32)"
      ]
     },
     "execution_count": 35,
     "metadata": {},
     "output_type": "execute_result"
    }
   ],
   "source": [
    "y_train_one_hot[1000]"
   ]
  },
  {
   "cell_type": "markdown",
   "metadata": {},
   "source": [
    "Normalizamos los datos."
   ]
  },
  {
   "cell_type": "code",
   "execution_count": 36,
   "metadata": {},
   "outputs": [],
   "source": [
    "X_train_norm = X_train / 255\n",
    "X_val_norm = X_val / 255"
   ]
  },
  {
   "cell_type": "markdown",
   "metadata": {},
   "source": [
    "Implementar la CNN."
   ]
  },
  {
   "cell_type": "code",
   "execution_count": 37,
   "metadata": {},
   "outputs": [
    {
     "name": "stdout",
     "output_type": "stream",
     "text": [
      "_________________________________________________________________\n",
      "Layer (type)                 Output Shape              Param #   \n",
      "=================================================================\n",
      "conv2d_6 (Conv2D)            (None, 62, 62, 32)        896       \n",
      "_________________________________________________________________\n",
      "max_pooling2d_5 (MaxPooling2 (None, 31, 31, 32)        0         \n",
      "_________________________________________________________________\n",
      "conv2d_7 (Conv2D)            (None, 29, 29, 64)        18496     \n",
      "_________________________________________________________________\n",
      "max_pooling2d_6 (MaxPooling2 (None, 14, 14, 64)        0         \n",
      "_________________________________________________________________\n",
      "dropout_5 (Dropout)          (None, 14, 14, 64)        0         \n",
      "_________________________________________________________________\n",
      "conv2d_8 (Conv2D)            (None, 12, 12, 128)       73856     \n",
      "_________________________________________________________________\n",
      "max_pooling2d_7 (MaxPooling2 (None, 6, 6, 128)         0         \n",
      "_________________________________________________________________\n",
      "dropout_6 (Dropout)          (None, 6, 6, 128)         0         \n",
      "_________________________________________________________________\n",
      "conv2d_9 (Conv2D)            (None, 4, 4, 256)         295168    \n",
      "_________________________________________________________________\n",
      "max_pooling2d_8 (MaxPooling2 (None, 2, 2, 256)         0         \n",
      "_________________________________________________________________\n",
      "dropout_7 (Dropout)          (None, 2, 2, 256)         0         \n",
      "_________________________________________________________________\n",
      "conv2d_10 (Conv2D)           (None, 2, 2, 512)         131584    \n",
      "_________________________________________________________________\n",
      "flatten_2 (Flatten)          (None, 2048)              0         \n",
      "_________________________________________________________________\n",
      "dropout_8 (Dropout)          (None, 2048)              0         \n",
      "_________________________________________________________________\n",
      "dense_3 (Dense)              (None, 120)               245880    \n",
      "_________________________________________________________________\n",
      "dense_4 (Dense)              (None, 2)                 242       \n",
      "=================================================================\n",
      "Total params: 766,122\n",
      "Trainable params: 766,122\n",
      "Non-trainable params: 0\n",
      "_________________________________________________________________\n"
     ]
    }
   ],
   "source": [
    "model = Sequential()\n",
    "\n",
    "model.add(Conv2D(32, (3,3), input_shape=(ROWS, COLS, CHANNELS), activation='relu'))\n",
    "model.add(MaxPooling2D(pool_size = (2,2)))\n",
    "\n",
    "model.add(Conv2D(64, (3,3), activation='relu'))\n",
    "model.add(MaxPooling2D(pool_size = (2,2)))\n",
    "model.add(Dropout(0.4))\n",
    "\n",
    "model.add(Conv2D(128, (3,3), activation='relu'))\n",
    "model.add(MaxPooling2D(pool_size = (2,2)))\n",
    "model.add(Dropout(0.4))\n",
    "\n",
    "model.add(Conv2D(256, (3,3), activation='relu'))\n",
    "model.add(MaxPooling2D(pool_size = (2,2)))\n",
    "model.add(Dropout(0.4))\n",
    "\n",
    "model.add(Conv2D(512, (1,1), activation='relu'))\n",
    "#model.add(MaxPooling2D(pool_size = (2,2)))\n",
    "\n",
    "model.add(Flatten())\n",
    "model.add(Dropout(0.4))\n",
    "\n",
    "model.add(Dense(units=120, activation='relu'))\n",
    "model.add(Dense(units=2, activation='sigmoid'))\n",
    "\n",
    "model.compile(optimizer='adam', loss='categorical_crossentropy', metrics=['accuracy'])\n",
    "model.summary()"
   ]
  },
  {
   "cell_type": "code",
   "execution_count": 38,
   "metadata": {},
   "outputs": [
    {
     "name": "stdout",
     "output_type": "stream",
     "text": [
      "Train on 20000 samples, validate on 5000 samples\n",
      "Epoch 1/5\n",
      "20000/20000 [==============================] - 132s 7ms/step - loss: 0.6785 - acc: 0.5631 - val_loss: 0.6316 - val_acc: 0.6542\n",
      "Epoch 2/5\n",
      "20000/20000 [==============================] - 129s 6ms/step - loss: 0.6022 - acc: 0.6771 - val_loss: 0.5443 - val_acc: 0.7408\n",
      "Epoch 3/5\n",
      "20000/20000 [==============================] - 140s 7ms/step - loss: 0.5411 - acc: 0.7279 - val_loss: 0.4947 - val_acc: 0.7608\n",
      "Epoch 4/5\n",
      "20000/20000 [==============================] - 131s 7ms/step - loss: 0.4891 - acc: 0.7632 - val_loss: 0.4579 - val_acc: 0.7928\n",
      "Epoch 5/5\n",
      "20000/20000 [==============================] - 131s 7ms/step - loss: 0.4512 - acc: 0.7919 - val_loss: 0.4169 - val_acc: 0.8104\n"
     ]
    },
    {
     "data": {
      "text/plain": [
       "<keras.callbacks.History at 0x1ebac7c80b8>"
      ]
     },
     "execution_count": 38,
     "metadata": {},
     "output_type": "execute_result"
    }
   ],
   "source": [
    "model.fit(X_train_norm, y_train_one_hot, validation_data=(X_val_norm, y_val_one_hot), epochs=5, batch_size = 64)"
   ]
  },
  {
   "cell_type": "code",
   "execution_count": 39,
   "metadata": {},
   "outputs": [
    {
     "name": "stdout",
     "output_type": "stream",
     "text": [
      "Test loss: 0.4168608283042908\n",
      "Test accuracy: 0.8104\n"
     ]
    }
   ],
   "source": [
    "score = model.evaluate(X_val_norm, y_val_one_hot, verbose=0)\n",
    "print('Test loss:', score[0])\n",
    "print('Test accuracy:', score[1])"
   ]
  },
  {
   "cell_type": "markdown",
   "metadata": {},
   "source": [
    "Verificar algunas predicciones del modelo"
   ]
  },
  {
   "cell_type": "code",
   "execution_count": 41,
   "metadata": {},
   "outputs": [],
   "source": [
    "def show_images(X, y, idx) :\n",
    "  image = X[idx]\n",
    "  #image = image.reshape((ROWS, COLS, CHANNELS))\n",
    "  plt.figure(figsize=(4,2))\n",
    "  plt.imshow(image)\n",
    "  plt.title(\"This is a {}\".format(classes[y[idx,0]]))\n",
    "  plt.show()"
   ]
  },
  {
   "cell_type": "code",
   "execution_count": 42,
   "metadata": {},
   "outputs": [
    {
     "data": {
      "image/png": "[encoded data removed]",
      "text/plain": [
       "<Figure size 288x144 with 1 Axes>"
      ]
     },
     "metadata": {
      "needs_background": "light"
     },
     "output_type": "display_data"
    },
    {
     "name": "stdout",
     "output_type": "stream",
     "text": [
      "Our Model Prediction: [0]\n"
     ]
    }
   ],
   "source": [
    "image = X_train[0]\n",
    "test_pred = model.predict_classes(image.reshape(1, 64, 64, 3))\n",
    "\n",
    "show_images(X_train, y_train,0)\n",
    "\n",
    "print(\"La prediccion del modelo es: {}\".format(test_pred))"
   ]
  },
  {
   "cell_type": "code",
   "execution_count": null,
   "metadata": {},
   "outputs": [],
   "source": []
  }
 ],
 "metadata": {
  "kernelspec": {
   "display_name": "Python 3",
   "language": "python",
   "name": "python3"
  },
  "language_info": {
   "codemirror_mode": {
    "name": "ipython",
    "version": 3
   },
   "file_extension": ".py",
   "mimetype": "text/x-python",
   "name": "python",
   "nbconvert_exporter": "python",
   "pygments_lexer": "ipython3",
   "version": "3.6.7"
  }
 },
 "nbformat": 4,
 "nbformat_minor": 2
}

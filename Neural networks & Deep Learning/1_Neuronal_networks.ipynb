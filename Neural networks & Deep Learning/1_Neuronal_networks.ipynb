{
 "cells": [
  {
   "cell_type": "markdown",
   "metadata": {},
   "source": [
    "# Redes neuroales"
   ]
  },
  {
   "cell_type": "markdown",
   "metadata": {},
   "source": [
    "Los inicios de las redes neuronales se remotan a la decada de los años 40 del siglo anterior, donde Warren McCulloch y Walter Pits, tratando de entender como funciona el cerebro biologico, para poder diseñar una para la inteligencia artificial, publicaron un articulo donde presentaron el primer concepto de neurona simplificada de las  celular cerebrales, tambien llamada la neurona McCulloch-Pitts(MCP)[1943](A logical calculos of the ideas immanent i Nervius Activity, W.S McCulloch y W Pitts, bulletinof MatheMathematical Biophysics, 5(4): 115-133, 1943)[http://www.cse.chalmers.se/~coquand/AUTOMATA/mcp.pdf]"
   ]
  },
  {
   "cell_type": "markdown",
   "metadata": {},
   "source": [
    "Las neuronas son células nerviosas interconectadas en el cerebro que están involucradas en el procesamiento y transmisión de señales químicas y eléctricas, lo cual se ilustra en la siguiente figura:"
   ]
  },
  {
   "cell_type": "markdown",
   "metadata": {},
   "source": [
    "![neurona](img/neurona.gif)"
   ]
  },
  {
   "cell_type": "markdown",
   "metadata": {},
   "source": [
    "El funcionamiento en general  se asemeja al de ua eorme malla, que propaga señales electro-quimicas de una celular nerviosas a otras y que va modificando sucesivamente la concentracion de iones de las sinapsis.<br>\n",
    "La conectividad entre las celulas del cerebro es muy elevada, se calcula que el cerebro humano dispone de 100.000 millones de neuronas, conectadas cada una de ellas con aproximadamete de 1000 a 10000 neuronas, lo que costituye ua red de un tamaño enorme de interconexiones."
   ]
  },
  {
   "cell_type": "markdown",
   "metadata": {},
   "source": [
    "Para McCulloch y Pitts, una celula nerviosa se puede descriir como una simple puerta logica de salidas binarias; multiples señales llega a las dendritas; se integra e el cuerpo de la celula, y si la señal supera cierto umbral, se genera una señal de salida que sera trasmitida por el axon.<br>\n",
    "Años despues Frank Rosenblatt publico el primer concepto de la regla de apredizaje del perceptro basado en el modelo de neuronas MCP(The Perceptron: A Perceiving and Recognizing Automaton, F. Rosenblatt, Cornell Aeronautical Laboratory, 1957)[https://blogs.umass.edu/brain-wars/files/2016/03/rosenblatt-1957.pdf]. Con su regla de perceptron, Rosenblatt  propuso un algortimo que aprenderia automaticamete los coeficientes de peso optimos que luego se multiplicarian por las caracteristicas de entrada para tomar la decision  de si una neurona se dispara o no. E u cotexto de aprendizaje y clasificacio de tipo supervisados, este algoritmo podria utilizarse para predecir si una muestra pertenece a ua u otra clase."
   ]
  },
  {
   "cell_type": "markdown",
   "metadata": {},
   "source": [
    "## Definicion de una neurona artifical"
   ]
  },
  {
   "cell_type": "markdown",
   "metadata": {},
   "source": [
    "La idea detras de las neuronas artificiales colocandola en un contexto de ua tarea de clasificacion binaria donde nos referimos a nuestras dos clases como 1(clase positiva) y -1 (clase negativa). Entoces podemos definir una funcion de decision: ![funcion_z](img/funcion_z.jpg)"
   ]
  },
  {
   "cell_type": "markdown",
   "metadata": {},
   "source": [
    "Que toma una combinacion lineal de ciertos valores <b>X</b> y u vector de peso <b> W </b> correspondiente, donde z es tambien llamada la entrada de la red: ![ecuacion_z](img/ecuacion_z.jpg)"
   ]
  },
  {
   "cell_type": "markdown",
   "metadata": {},
   "source": [
    "![w_x](img/w_x.jpg)"
   ]
  },
  {
   "cell_type": "markdown",
   "metadata": {},
   "source": [
    "Si la entrada e la red de ua muestra en particular(xi) es mayor que un umbral definido![umbral](img/umbral.jpg), predecimos que la clase es 1, de otra manera que pertenece a la clase -1. E el algortimo del perceptron, la funcion de decision ![decision](img/decision.jpg) es una variante de una funcion de paso de unidad:![funcion_paso_unidad](img/funcion_paso_unidad.jpg)\n"
   ]
  },
  {
   "cell_type": "markdown",
   "metadata": {},
   "source": [
    "Simplificado, podemos llevar le umbral ![umbral](img/umbral.jpg) al lado izquierdo de la ecuacion y definir un peso cero como ![w](img/w.jpg)  y ![xo](img/xo.jpg)\n",
    "tambien podemos escribir z en una forma mas compacta:"
   ]
  },
  {
   "cell_type": "markdown",
   "metadata": {},
   "source": [
    "![ecuazion_z_2](img/ecuazion_z_2.jpg)"
   ]
  },
  {
   "cell_type": "markdown",
   "metadata": {},
   "source": [
    "y: ![z_compact](img/z_compact.jpg)"
   ]
  },
  {
   "cell_type": "markdown",
   "metadata": {},
   "source": [
    "En literaturta de apredizaje automatico, el umbral negativo, o peso ![w](img/w.jpg)"
   ]
  },
  {
   "cell_type": "markdown",
   "metadata": {},
   "source": [
    "es usualmente llamado unidad de sesgo."
   ]
  },
  {
   "cell_type": "markdown",
   "metadata": {},
   "source": [
    "e la siguiete image se ilustra como la entrada en la red es trasformada en una salida binaria (-1 o 1) por la funcion de decision del perceptron(subfigura izquierda) y como se puede utilizar para discriminar entre dos clases linealmente separables(sub figura derecha): ![transformacion](img/transformacion.jpg)"
   ]
  },
  {
   "cell_type": "markdown",
   "metadata": {},
   "source": [
    "La regla de aprendizaje del perceptron\n",
    "La idea detrás de la neurona MCP y el modelo de percepción umbral de Rosenblatt es usar un enfoque reduccionista para imitar cómo funciona una sola neurona en el cerebro: o se dispara o no se dispara. Por lo tanto, la regla inicial de percepción de Rosenblatt es bastante simple y se puede resumir en los siguientes pasos:"
   ]
  },
  {
   "cell_type": "markdown",
   "metadata": {},
   "source": [
    "1. Inicializar todos los pesos a 0 o a numero aleatorios pequeños."
   ]
  },
  {
   "cell_type": "markdown",
   "metadata": {},
   "source": [
    "2. Para cada muestra de entrenamiento <b>Xi </b>: a. Calcular el valor de salida: ![y_pred](img/y_pred.jpg) "
   ]
  },
  {
   "cell_type": "markdown",
   "metadata": {},
   "source": [
    "y b: Actualizar los pesos."
   ]
  },
  {
   "cell_type": "markdown",
   "metadata": {},
   "source": [
    "El valor de salida es la etiqueta de la clase predicha por la funcion de paso de unidad que definimos anteriormente, y la actualizacion simultanea de cada peso"
   ]
  },
  {
   "cell_type": "markdown",
   "metadata": {},
   "source": [
    "![wj](img/wj.jpg)"
   ]
  },
  {
   "cell_type": "markdown",
   "metadata": {},
   "source": [
    "en el vector de peso <b> W </b> que puede escribirse mas formalmete como:"
   ]
  },
  {
   "cell_type": "markdown",
   "metadata": {},
   "source": [
    "![pesos](img/pesos.jpg)"
   ]
  },
  {
   "cell_type": "markdown",
   "metadata": {},
   "source": [
    "el valor de ![wjt](img/wjt.jpg)"
   ]
  },
  {
   "cell_type": "markdown",
   "metadata": {},
   "source": [
    "que se utiliza para actualizar el peso:![wj](img/wj.jpg)"
   ]
  },
  {
   "cell_type": "markdown",
   "metadata": {},
   "source": [
    "se calcula mediante la regla de apredizaje del perceptron: ![regla_perceptro](img/regla_perceptro.jpg)"
   ]
  },
  {
   "cell_type": "markdown",
   "metadata": {},
   "source": [
    "Donde ![n](img/n.jpg) es la regla de apredizaje del perceptro es la velocidad de apredizaje( tipicamente una constate entre 0.0 y 1.0)"
   ]
  },
  {
   "cell_type": "markdown",
   "metadata": {},
   "source": [
    "![yi_verdadero](img/yi_verdadero.jpg)"
   ]
  },
  {
   "cell_type": "markdown",
   "metadata": {},
   "source": [
    "es la verdadera etiqueta de la clase del ejemplo numerio i en la muestra de entrenamiento, y ![yi_pred](img/yi_pred.jpg) es la  etiqueta de la clase predicha. Es importate tener e cuenta que todos los pesos e el vector peso se esta actualizando simultaneamente, lo que significa que o volvemos a calcular los ![yi_pred](img/yi_pred.jpg)"
   ]
  },
  {
   "cell_type": "markdown",
   "metadata": {},
   "source": [
    "antes de que todos los pesos ![wjt](img/wjt.jpg) se actualizan, para un conjunto de datos bidimensionales, escribimos la actualizacion como:"
   ]
  },
  {
   "cell_type": "markdown",
   "metadata": {},
   "source": [
    "![wo](img/wo.jpg)"
   ]
  },
  {
   "cell_type": "markdown",
   "metadata": {},
   "source": [
    "![w1](img/w1.jpg)"
   ]
  },
  {
   "cell_type": "markdown",
   "metadata": {},
   "source": [
    "![w2](img/w2.jpg)"
   ]
  },
  {
   "cell_type": "markdown",
   "metadata": {},
   "source": [
    "La siguiente figura ilustra el concepto general de perceptron:\n",
    "    ![perceptron](img/perceptron.jpg)"
   ]
  },
  {
   "cell_type": "markdown",
   "metadata": {},
   "source": [
    "Como se puede observar el perceptron recibe las entradas de una muestra X y las combina con los pesos W para calcular la entrada de la red. Luego la entrada de la red se trasmite a una funcion de umbral o activacion, que genera una salida binaria -1 o 1 para predecir la etiqueta de la clase prevista para la muestra. Durate la fase de apredizaje, este resultado se utiliza para calcular el error de la prediccion y actualizar los pesos."
   ]
  },
  {
   "cell_type": "markdown",
   "metadata": {},
   "source": [
    "Estructura de una red neuronal"
   ]
  },
  {
   "cell_type": "markdown",
   "metadata": {},
   "source": [
    "Las redes neuronales se construyen estructurando ua serie de niveles  o capas(por lo menos tres), una capa de entrada o la capa de la izquierda que alimenta los datos de entrada a la red neuronal,estos datos puede provenir de una tabla, de una imagen de un camara, un sonido de una grabadora o el registro de un dato de un sensor. es importate resaltar que esta capa no cambia en lo absoluto los datos de entrada, su objetivo es pasar los datos a otras capas que se encarga de procesarlos. La siguiente capa se compone de neuronas, las cuales puede ser de diferentes tipos, con diferetes tipos de transformaciones en los datos segun lo requiera la solucion. Una red neuronal puede estar compuesta por una o muchas capas de procesamieto denomiadas capas ocultas y finalmente una  capa de salida con el resultado del procesamieto de la red. ![red_neuroal](img/A-hypothetical-example-of-Multilayer-Perceptron-Network.png)\n",
    "\n",
    "\n",
    "\n",
    "\n"
   ]
  },
  {
   "cell_type": "markdown",
   "metadata": {},
   "source": [
    "La estructura aterior represeta una multi capa de perceptroes o redes neuronales profundas, este tipo de estrucutura es una de las mas populares y antiguas formas de  redes neuronales y data de los años 60, cada capa esta completamente conectada con la siguiente capa y los datos fluye solo hacia adelante.\n",
    "En la actualidad cada neurona esta conectada a todas las neuronas de las capas posteriores y anteriores a  traves de los pesos \"dendritas\", esto debido a procesos de entreamiento existentes en las redes neuronales disponibles al dia de hoy que son forward propagation(propagacion hacia adelante) y backpropagation(retropropagacion o propagacion hacia atras)."
   ]
  },
  {
   "cell_type": "markdown",
   "metadata": {},
   "source": [
    "Una red neuronal simple puede estar directamete conectada la capa de entrada co la capa de salida; o obstate generalmete las redes neuroales la capa de entrada se conecta a un numero de capas ocultas, se denomina asi por que esta se encuentra ocultas al codigo y se definen como aquellas que no son de entrada ni de salida. Las capas ocualtas son las que realizan muchas de las transformaciones interesantes segun el problema y lo que nosotros definamos."
   ]
  },
  {
   "cell_type": "markdown",
   "metadata": {},
   "source": [
    "Cuando un nodo recibe las entradas o \"estimulos\" de otras para productir una salida que se trasmite a la siguiente capa de neuronas. la señal de salida tedra ua intesidad como producto de la intesidad de las señales de entrada y los pesos que transmiten. Los pesos o dendritas tienen un valor distinto para cada par de neuroas que conectan. pudiendo entonces fortalecer o debilitar la conexion o comunicacion entre neuronas particulares. los pesos so modifcados durante el proceso de entrenamiento."
   ]
  },
  {
   "cell_type": "markdown",
   "metadata": {},
   "source": [
    "¿Entonces que es apredizaje profundo?"
   ]
  },
  {
   "cell_type": "markdown",
   "metadata": {},
   "source": [
    "Cuado una red neuronal tiene dos o mas capas ocultas llamamos a este tipo de estrutura una red neuronal profunda, el estudio de este tipo de redes y su proceso de apredizaje es lo que se denomina apredizaje profundo, donde en este proceso ajustamos las estructuras de las neuronas, proceso que ya revisamos ateriormente con el concepto de perceptron.![multi](img/multilayer_perceptron.png)"
   ]
  },
  {
   "cell_type": "code",
   "execution_count": null,
   "metadata": {},
   "outputs": [],
   "source": []
  }
 ],
 "metadata": {
  "kernelspec": {
   "display_name": "Python 3",
   "language": "python",
   "name": "python3"
  },
  "language_info": {
   "codemirror_mode": {
    "name": "ipython",
    "version": 3
   },
   "file_extension": ".py",
   "mimetype": "text/x-python",
   "name": "python",
   "nbconvert_exporter": "python",
   "pygments_lexer": "ipython3",
   "version": "3.6.7"
  }
 },
 "nbformat": 4,
 "nbformat_minor": 2
}

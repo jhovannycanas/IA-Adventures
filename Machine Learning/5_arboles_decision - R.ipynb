{
 "cells": [
  {
   "cell_type": "markdown",
   "metadata": {},
   "source": [
    "# Arboles de decisión"
   ]
  },
  {
   "cell_type": "markdown",
   "metadata": {},
   "source": [
    "Los Arboles de Decision son diagramas con construcciones lógicas, muy similares a los sistemas de predicción basados en reglas, que sirven para representar y categorizar una serie de condiciones que ocurren de forma sucesiva, para la resolución de un problema. Los Arboles de Decision están compuestos por nodos interiores, nodos terminales y ramas que emanan de los nodos interiores. Cada nodo interior en el árbol contiene una prueba de un atributo, y cada rama representa un valor distinto del atributo. Siguiendo las ramas desde el nodo raíz hacia abajo, cada ruta finalmente termina en un nodo terminal creando una segmentación de los datos. "
   ]
  },
  {
   "cell_type": "markdown",
   "metadata": {},
   "source": [
    "Algunas razones de aprender arboles de decisión:\n",
    "- Son útiles tanto para problemas de regresión como de clasificación.\n",
    "- Son populares.\n",
    "- Son la base de enfoques de modelado más sofisticados.\n",
    "- Demuestran una forma diferente de \"pensar\" que los modelos que hemos estudiado hasta ahora.\n"
   ]
  },
  {
   "cell_type": "markdown",
   "metadata": {},
   "source": [
    "Para comprender mejor el concepto de árbol de decisión, supongamos que Nuestra meta es predecir el Salario de un jugador de béisbol basado en Años (número de años jugando en las ligas mayores) e Hits (número de golpes que hizo el año anterior). Aquí están los datos de la formación, representados visualmente (el salario bajo es azul/verde, el alto es rojo/amarillo):<br>\n",
    "\n",
    "Datos de los jugadores de las Grandes Ligas de Béisbol de 1986-87: <br>\n",
    "\n",
    "Años (eje x): número de años jugando en las ligas mayores.<br>\n",
    "Hits (eje y): número de impactos en el año anterior."
   ]
  },
  {
   "cell_type": "markdown",
   "metadata": {},
   "source": [
    "![beisol_arbol](img/beisol_arbol.png)"
   ]
  },
  {
   "cell_type": "markdown",
   "metadata": {},
   "source": [
    "Ejercicio en grupo:<br>\n",
    "Los datos anteriores son nuestros datos de formación.<br>\n",
    "Queremos construir un modelo que prediga el Salario de los futuros jugadores basado en Años y Hits.<br>\n",
    "Vamos a \"segmentar\" el espacio de características en regiones, y luego usar el Salario medio en cada región como el Salario predicho para futuros jugadores.<br>\n",
    "Intuitivamente, usted quiere maximizar la similitud (u \"homogeneidad\") dentro de una región dada, y minimizar la similitud entre diferentes regiones.<br>\n",
    "Reglas de segmentación:\n",
    "- Sólo se pueden utilizar líneas rectas, dibujadas de una en una.\n",
    "- Su línea debe ser vertical u horizontal.\n",
    "- Su línea se detiene cuando choca con una línea existente.\n"
   ]
  },
  {
   "cell_type": "markdown",
   "metadata": {},
   "source": [
    "A continuación, se muestra un árbol de regresión que ha sido ajustado a los datos por una computadora. (Hablaremos más adelante sobre cómo funciona realmente el algoritmo de adaptación.) Tenga en cuenta que el salario se mide en miles y se ha transformado en registros."
   ]
  },
  {
   "cell_type": "markdown",
   "metadata": {},
   "source": [
    "![arbol_computadora](img/arbol_computadora.png)"
   ]
  },
  {
   "cell_type": "markdown",
   "metadata": {},
   "source": [
    "Empiece por arriba y examine la primera \"regla de partición\" (Años < 4,5).<br>\n",
    "Si la regla es True para un jugador dado, sigue la rama izquierda. Si la regla es Falsa, siga la rama derecha.<br>\n",
    "Continúe hasta llegar al fondo. El Salario predicho es el número en ese \"cubo\" en particular.<br>\n",
    "Nota: Los Años y los Hits son ambos enteros, pero la convención es etiquetar estas reglas usando el punto medio entre valores adyacentes.<br>\n",
    "Ejemplo de predicciones:\n",
    "- 3 años, entonces se predice 5.11($ 1000 x e5.11 ~ $166000)\n",
    "- 5 años y 100 hits, entonces se predice 6.00($ 1000 x e6.00 ~ $403000)\n",
    "- 8 años y 120 hits, entonces se predice 6.74($ 1000 x e6.74 ~ $846000)\n",
    "\n",
    "¿Cómo se nos ocurrieron los números de la parte inferior del árbol? <br>Cada número es sólo el salario medio en los datos de entrenamiento de los jugadores que cumplen con ese criterio.\n"
   ]
  },
  {
   "cell_type": "markdown",
   "metadata": {},
   "source": [
    "Aquí está el mismo diagrama que antes, dividido en las tres regiones:"
   ]
  },
  {
   "cell_type": "markdown",
   "metadata": {},
   "source": [
    "![arbol_region](img/arbol_region.png)"
   ]
  },
  {
   "cell_type": "markdown",
   "metadata": {},
   "source": [
    "Este diagrama es esencialmente una combinación de los dos diagramas anteriores. En R1, el salario medio del registro fue de 5.11. En R2, el salario medio del registro fue de 6.00. En R3, el salario medio del registro fue de 6.74. Por lo tanto, esos valores se utilizan para predecir datos fuera de la muestra."
   ]
  },
  {
   "cell_type": "markdown",
   "metadata": {},
   "source": [
    "Vamos a introducir algo de terminología:"
   ]
  },
  {
   "cell_type": "markdown",
   "metadata": {},
   "source": [
    "![terminologia_arbol](img/salary_tree_annotated.png)"
   ]
  },
  {
   "cell_type": "markdown",
   "metadata": {},
   "source": [
    "¿Cómo podría interpretar el \"significado\" de este árbol?"
   ]
  },
  {
   "cell_type": "markdown",
   "metadata": {},
   "source": [
    "Los Años son el factor más importante que determina el Salario, con un menor número de Años que corresponden a un Salario más bajo.<br>\n",
    "Para un jugador con un número menor de Años, los Impactos no son un factor importante para determinar el Salario.<br>\n",
    "Para un jugador con un número mayor de Años, los Impactos son un factor importante que determina el Salario, con un mayor número de Impactos que corresponde a un Salario mayor.<br>"
   ]
  },
  {
   "cell_type": "markdown",
   "metadata": {},
   "source": [
    "Lo que hemos visto hasta ahora indica las ventajas y desventajas de los árboles de decisión:"
   ]
  },
  {
   "cell_type": "markdown",
   "metadata": {},
   "source": [
    "- Altamente interpretable\n",
    "- Puede visualizarse gráficamente\n",
    "- La predicción es rápida\n"
   ]
  },
  {
   "cell_type": "markdown",
   "metadata": {},
   "source": [
    "Desventajas:"
   ]
  },
  {
   "cell_type": "markdown",
   "metadata": {},
   "source": [
    "- La precisión predictiva no es tan alta como algunos métodos de aprendizaje supervisado\n",
    "- Puede fácilmente sobredimensionar los datos de entrenamiento\n"
   ]
  },
  {
   "cell_type": "markdown",
   "metadata": {},
   "source": [
    "Ejemplo de árbol de regresión con scikit-learn"
   ]
  },
  {
   "cell_type": "code",
   "execution_count": null,
   "metadata": {},
   "outputs": [],
   "source": [
    "setwd(\"D:/iush2020/Mineria de datos/notebooks/datasets\")"
   ]
  },
  {
   "cell_type": "code",
   "execution_count": 1,
   "metadata": {},
   "outputs": [],
   "source": [
    "train <- read.csv('https://raw.githubusercontent.com/justmarkham/DAT5/master/data/vehicles_train.csv')"
   ]
  },
  {
   "cell_type": "code",
   "execution_count": 2,
   "metadata": {},
   "outputs": [
    {
     "name": "stdout",
     "output_type": "stream",
     "text": [
      "'data.frame':\t14 obs. of  5 variables:\n",
      " $ price: int  22000 14000 13000 9500 9000 4000 3000 2000 3000 1900 ...\n",
      " $ year : int  2012 2010 2010 2009 2007 2006 2004 2004 2003 2003 ...\n",
      " $ miles: int  13000 30000 73500 78000 47000 124000 177000 209000 138000 160000 ...\n",
      " $ doors: int  2 2 4 4 4 2 4 4 2 4 ...\n",
      " $ type : Factor w/ 2 levels \"car\",\"truck\": 1 1 1 1 1 1 1 2 1 1 ...\n"
     ]
    }
   ],
   "source": [
    "str(train)"
   ]
  },
  {
   "cell_type": "code",
   "execution_count": null,
   "metadata": {},
   "outputs": [],
   "source": [
    "train"
   ]
  },
  {
   "cell_type": "code",
   "execution_count": 3,
   "metadata": {},
   "outputs": [],
   "source": [
    "train$type <- ifelse(train$type == \"car\",0,1)"
   ]
  },
  {
   "cell_type": "code",
   "execution_count": 4,
   "metadata": {},
   "outputs": [
    {
     "name": "stdout",
     "output_type": "stream",
     "text": [
      "'data.frame':\t14 obs. of  5 variables:\n",
      " $ price: int  22000 14000 13000 9500 9000 4000 3000 2000 3000 1900 ...\n",
      " $ year : int  2012 2010 2010 2009 2007 2006 2004 2004 2003 2003 ...\n",
      " $ miles: int  13000 30000 73500 78000 47000 124000 177000 209000 138000 160000 ...\n",
      " $ doors: int  2 2 4 4 4 2 4 4 2 4 ...\n",
      " $ type : num  0 0 0 0 0 0 0 1 0 0 ...\n"
     ]
    }
   ],
   "source": [
    "str(train)"
   ]
  },
  {
   "cell_type": "code",
   "execution_count": 5,
   "metadata": {},
   "outputs": [],
   "source": [
    "X = train[,2:5]"
   ]
  },
  {
   "cell_type": "code",
   "execution_count": 6,
   "metadata": {},
   "outputs": [
    {
     "data": {
      "text/html": [
       "<table>\n",
       "<caption>A data.frame: 14 × 4</caption>\n",
       "<thead>\n",
       "\t<tr><th scope=col>year</th><th scope=col>miles</th><th scope=col>doors</th><th scope=col>type</th></tr>\n",
       "\t<tr><th scope=col>&lt;int&gt;</th><th scope=col>&lt;int&gt;</th><th scope=col>&lt;int&gt;</th><th scope=col>&lt;dbl&gt;</th></tr>\n",
       "</thead>\n",
       "<tbody>\n",
       "\t<tr><td>2012</td><td> 13000</td><td>2</td><td>0</td></tr>\n",
       "\t<tr><td>2010</td><td> 30000</td><td>2</td><td>0</td></tr>\n",
       "\t<tr><td>2010</td><td> 73500</td><td>4</td><td>0</td></tr>\n",
       "\t<tr><td>2009</td><td> 78000</td><td>4</td><td>0</td></tr>\n",
       "\t<tr><td>2007</td><td> 47000</td><td>4</td><td>0</td></tr>\n",
       "\t<tr><td>2006</td><td>124000</td><td>2</td><td>0</td></tr>\n",
       "\t<tr><td>2004</td><td>177000</td><td>4</td><td>0</td></tr>\n",
       "\t<tr><td>2004</td><td>209000</td><td>4</td><td>1</td></tr>\n",
       "\t<tr><td>2003</td><td>138000</td><td>2</td><td>0</td></tr>\n",
       "\t<tr><td>2003</td><td>160000</td><td>4</td><td>0</td></tr>\n",
       "\t<tr><td>2003</td><td>190000</td><td>2</td><td>1</td></tr>\n",
       "\t<tr><td>2001</td><td> 62000</td><td>4</td><td>0</td></tr>\n",
       "\t<tr><td>1999</td><td>163000</td><td>2</td><td>1</td></tr>\n",
       "\t<tr><td>1997</td><td>138000</td><td>4</td><td>0</td></tr>\n",
       "</tbody>\n",
       "</table>\n"
      ],
      "text/latex": [
       "A data.frame: 14 × 4\n",
       "\\begin{tabular}{llll}\n",
       " year & miles & doors & type\\\\\n",
       " <int> & <int> & <int> & <dbl>\\\\\n",
       "\\hline\n",
       "\t 2012 &  13000 & 2 & 0\\\\\n",
       "\t 2010 &  30000 & 2 & 0\\\\\n",
       "\t 2010 &  73500 & 4 & 0\\\\\n",
       "\t 2009 &  78000 & 4 & 0\\\\\n",
       "\t 2007 &  47000 & 4 & 0\\\\\n",
       "\t 2006 & 124000 & 2 & 0\\\\\n",
       "\t 2004 & 177000 & 4 & 0\\\\\n",
       "\t 2004 & 209000 & 4 & 1\\\\\n",
       "\t 2003 & 138000 & 2 & 0\\\\\n",
       "\t 2003 & 160000 & 4 & 0\\\\\n",
       "\t 2003 & 190000 & 2 & 1\\\\\n",
       "\t 2001 &  62000 & 4 & 0\\\\\n",
       "\t 1999 & 163000 & 2 & 1\\\\\n",
       "\t 1997 & 138000 & 4 & 0\\\\\n",
       "\\end{tabular}\n"
      ],
      "text/markdown": [
       "\n",
       "A data.frame: 14 × 4\n",
       "\n",
       "| year &lt;int&gt; | miles &lt;int&gt; | doors &lt;int&gt; | type &lt;dbl&gt; |\n",
       "|---|---|---|---|\n",
       "| 2012 |  13000 | 2 | 0 |\n",
       "| 2010 |  30000 | 2 | 0 |\n",
       "| 2010 |  73500 | 4 | 0 |\n",
       "| 2009 |  78000 | 4 | 0 |\n",
       "| 2007 |  47000 | 4 | 0 |\n",
       "| 2006 | 124000 | 2 | 0 |\n",
       "| 2004 | 177000 | 4 | 0 |\n",
       "| 2004 | 209000 | 4 | 1 |\n",
       "| 2003 | 138000 | 2 | 0 |\n",
       "| 2003 | 160000 | 4 | 0 |\n",
       "| 2003 | 190000 | 2 | 1 |\n",
       "| 2001 |  62000 | 4 | 0 |\n",
       "| 1999 | 163000 | 2 | 1 |\n",
       "| 1997 | 138000 | 4 | 0 |\n",
       "\n"
      ],
      "text/plain": [
       "   year miles  doors type\n",
       "1  2012  13000 2     0   \n",
       "2  2010  30000 2     0   \n",
       "3  2010  73500 4     0   \n",
       "4  2009  78000 4     0   \n",
       "5  2007  47000 4     0   \n",
       "6  2006 124000 2     0   \n",
       "7  2004 177000 4     0   \n",
       "8  2004 209000 4     1   \n",
       "9  2003 138000 2     0   \n",
       "10 2003 160000 4     0   \n",
       "11 2003 190000 2     1   \n",
       "12 2001  62000 4     0   \n",
       "13 1999 163000 2     1   \n",
       "14 1997 138000 4     0   "
      ]
     },
     "metadata": {},
     "output_type": "display_data"
    }
   ],
   "source": [
    "X"
   ]
  },
  {
   "cell_type": "code",
   "execution_count": 7,
   "metadata": {},
   "outputs": [],
   "source": [
    "y = train[,1]"
   ]
  },
  {
   "cell_type": "code",
   "execution_count": 8,
   "metadata": {},
   "outputs": [
    {
     "data": {
      "text/html": [
       "<style>\n",
       ".list-inline {list-style: none; margin:0; padding: 0}\n",
       ".list-inline>li {display: inline-block}\n",
       ".list-inline>li:not(:last-child)::after {content: \"\\00b7\"; padding: 0 .5ex}\n",
       "</style>\n",
       "<ol class=list-inline><li>22000</li><li>14000</li><li>13000</li><li>9500</li><li>9000</li><li>4000</li><li>3000</li><li>2000</li><li>3000</li><li>1900</li><li>2500</li><li>5000</li><li>1800</li><li>1300</li></ol>\n"
      ],
      "text/latex": [
       "\\begin{enumerate*}\n",
       "\\item 22000\n",
       "\\item 14000\n",
       "\\item 13000\n",
       "\\item 9500\n",
       "\\item 9000\n",
       "\\item 4000\n",
       "\\item 3000\n",
       "\\item 2000\n",
       "\\item 3000\n",
       "\\item 1900\n",
       "\\item 2500\n",
       "\\item 5000\n",
       "\\item 1800\n",
       "\\item 1300\n",
       "\\end{enumerate*}\n"
      ],
      "text/markdown": [
       "1. 22000\n",
       "2. 14000\n",
       "3. 13000\n",
       "4. 9500\n",
       "5. 9000\n",
       "6. 4000\n",
       "7. 3000\n",
       "8. 2000\n",
       "9. 3000\n",
       "10. 1900\n",
       "11. 2500\n",
       "12. 5000\n",
       "13. 1800\n",
       "14. 1300\n",
       "\n",
       "\n"
      ],
      "text/plain": [
       " [1] 22000 14000 13000  9500  9000  4000  3000  2000  3000  1900  2500  5000\n",
       "[13]  1800  1300"
      ]
     },
     "metadata": {},
     "output_type": "display_data"
    }
   ],
   "source": [
    "y"
   ]
  },
  {
   "cell_type": "code",
   "execution_count": 9,
   "metadata": {},
   "outputs": [],
   "source": [
    "X_train = X[1:11,]\n",
    "X_test = X[12:14,]"
   ]
  },
  {
   "cell_type": "code",
   "execution_count": 10,
   "metadata": {},
   "outputs": [],
   "source": [
    "y_train = y[1:11]\n",
    "y_test = y[12:14]"
   ]
  },
  {
   "cell_type": "code",
   "execution_count": 11,
   "metadata": {},
   "outputs": [
    {
     "name": "stderr",
     "output_type": "stream",
     "text": [
      "Installing package into 'C:/Users/JHOVANNY/Documents/R/win-library/3.6'\n",
      "(as 'lib' is unspecified)\n",
      "\n"
     ]
    },
    {
     "name": "stdout",
     "output_type": "stream",
     "text": [
      "package 'tree' successfully unpacked and MD5 sums checked\n",
      "\n",
      "The downloaded binary packages are in\n",
      "\tC:\\Users\\JHOVANNY\\AppData\\Local\\Temp\\RtmpKWSRxl\\downloaded_packages\n"
     ]
    }
   ],
   "source": [
    "install.packages(\"tree\")"
   ]
  },
  {
   "cell_type": "code",
   "execution_count": 12,
   "metadata": {},
   "outputs": [
    {
     "name": "stderr",
     "output_type": "stream",
     "text": [
      "Warning message:\n",
      "\"package 'tree' was built under R version 3.6.3\"\n"
     ]
    }
   ],
   "source": [
    "library(tree)"
   ]
  },
  {
   "cell_type": "code",
   "execution_count": null,
   "metadata": {},
   "outputs": [],
   "source": [
    "train"
   ]
  },
  {
   "cell_type": "code",
   "execution_count": 13,
   "metadata": {},
   "outputs": [],
   "source": [
    "treereg = tree(price ~ + year + miles + doors + type, data = train)"
   ]
  },
  {
   "cell_type": "code",
   "execution_count": 14,
   "metadata": {},
   "outputs": [
    {
     "data": {
      "text/plain": [
       "\n",
       "Regression tree:\n",
       "tree(formula = price ~ +year + miles + doors + type, data = train)\n",
       "Variables actually used in tree construction:\n",
       "[1] \"year\"\n",
       "Number of terminal nodes:  2 \n",
       "Residual mean deviance:  10010000 = 120100000 / 12 \n",
       "Distribution of residuals:\n",
       "   Min. 1st Qu.  Median    Mean 3rd Qu.    Max. \n",
       "-4500.0  -897.2  -361.1     0.0   444.4  8500.0 "
      ]
     },
     "metadata": {},
     "output_type": "display_data"
    }
   ],
   "source": [
    "summary(treereg)"
   ]
  },
  {
   "cell_type": "markdown",
   "metadata": {},
   "source": [
    "creando el diagrama"
   ]
  },
  {
   "cell_type": "code",
   "execution_count": 15,
   "metadata": {},
   "outputs": [
    {
     "data": {
      "image/png": "[encoded data removed]",
      "text/plain": [
       "plot without title"
      ]
     },
     "metadata": {
      "image/png": {
       "height": 420,
       "width": 420
      },
      "text/plain": {
       "height": 420,
       "width": 420
      }
     },
     "output_type": "display_data"
    }
   ],
   "source": [
    "plot(treereg)\n",
    "text(treereg, pretty = 0)"
   ]
  },
  {
   "cell_type": "markdown",
   "metadata": {},
   "source": [
    "<b>Nodos internos:</b><br>\n",
    "\n",
    "\"muestras\" es el número de observaciones en ese nodo antes de la división<br>\n",
    "\"mse\" es el error cuadrático medio calculado comparando los valores reales de respuesta en ese nodo con el valor medio de respuesta en ese nodo.<br>\n",
    "primera línea es la condición usada para dividir ese nodo (ir a la izquierda si es verdadero, ir a la derecha si es falso)<br>\n",
    "\n",
    "<b>Hojas:</b>\n",
    "\n",
    "\"muestras\" es el número de observaciones en ese nodo<br>\n",
    "\"valor\" es el valor medio de la respuesta en ese nodo<br>\n",
    "\"mse\" es el error cuadrático medio calculado comparando los valores reales de respuesta en ese nodo con \"valor\".\n"
   ]
  },
  {
   "cell_type": "markdown",
   "metadata": {},
   "source": [
    "Probando el modelo con datos de entrenamiento"
   ]
  },
  {
   "cell_type": "code",
   "execution_count": 16,
   "metadata": {},
   "outputs": [],
   "source": [
    "train <- read.csv('https://raw.githubusercontent.com/justmarkham/DAT5/master/data/vehicles_test.csv')"
   ]
  },
  {
   "cell_type": "code",
   "execution_count": 17,
   "metadata": {},
   "outputs": [],
   "source": [
    "train$type <- ifelse(train$type == \"car\",0,1)"
   ]
  },
  {
   "cell_type": "code",
   "execution_count": 18,
   "metadata": {},
   "outputs": [],
   "source": [
    "X = train[,2:5]\n",
    "y = train[,1]"
   ]
  },
  {
   "cell_type": "code",
   "execution_count": 19,
   "metadata": {},
   "outputs": [],
   "source": [
    "prediciones = predict(object = treereg, newdata = X)"
   ]
  },
  {
   "cell_type": "code",
   "execution_count": 21,
   "metadata": {},
   "outputs": [
    {
     "data": {
      "text/html": [
       "<style>\n",
       ".list-inline {list-style: none; margin:0; padding: 0}\n",
       ".list-inline>li {display: inline-block}\n",
       ".list-inline>li:not(:last-child)::after {content: \"\\00b7\"; padding: 0 .5ex}\n",
       "</style>\n",
       "<ol class=list-inline><li>3000</li><li>6000</li><li>12000</li></ol>\n"
      ],
      "text/latex": [
       "\\begin{enumerate*}\n",
       "\\item 3000\n",
       "\\item 6000\n",
       "\\item 12000\n",
       "\\end{enumerate*}\n"
      ],
      "text/markdown": [
       "1. 3000\n",
       "2. 6000\n",
       "3. 12000\n",
       "\n",
       "\n"
      ],
      "text/plain": [
       "[1]  3000  6000 12000"
      ]
     },
     "metadata": {},
     "output_type": "display_data"
    }
   ],
   "source": [
    "y"
   ]
  },
  {
   "cell_type": "code",
   "execution_count": 20,
   "metadata": {},
   "outputs": [
    {
     "data": {
      "text/html": [
       "<style>\n",
       ".dl-inline {width: auto; margin:0; padding: 0}\n",
       ".dl-inline>dt, .dl-inline>dd {float: none; width: auto; display: inline-block}\n",
       ".dl-inline>dt::after {content: \":\\0020\"; padding-right: .5ex}\n",
       ".dl-inline>dt:not(:first-of-type) {padding-left: .5ex}\n",
       "</style><dl class=dl-inline><dt>1</dt><dd>2722.22222222222</dd><dt>2</dt><dd>2722.22222222222</dd><dt>3</dt><dd>13500</dd></dl>\n"
      ],
      "text/latex": [
       "\\begin{description*}\n",
       "\\item[1] 2722.22222222222\n",
       "\\item[2] 2722.22222222222\n",
       "\\item[3] 13500\n",
       "\\end{description*}\n"
      ],
      "text/markdown": [
       "1\n",
       ":   2722.222222222222\n",
       ":   2722.222222222223\n",
       ":   13500\n",
       "\n"
      ],
      "text/plain": [
       "        1         2         3 \n",
       " 2722.222  2722.222 13500.000 "
      ]
     },
     "metadata": {},
     "output_type": "display_data"
    }
   ],
   "source": [
    "prediciones"
   ]
  },
  {
   "cell_type": "markdown",
   "metadata": {},
   "source": [
    "Arboles de clasificación"
   ]
  },
  {
   "cell_type": "markdown",
   "metadata": {},
   "source": [
    "Los árboles de clasificación son muy similares a los árboles de regresión. He aquí una rápida comparación:"
   ]
  },
  {
   "cell_type": "markdown",
   "metadata": {},
   "source": [
    "|árboles de regresión|árboles de clasificación|\n",
    "      |---|---|\n",
    "      |predecir una respuesta continua|predecir una respuesta categórica|\n",
    "      |predecir usando la respuesta media de cada hoja |predecir usando la clase más común de cada hoja|\n",
    "      |las divisiones se eligen para minimizar MSE|las divisiones se eligen para minimizar el índice de Gini (discutido a continuación)|"
   ]
  },
  {
   "cell_type": "markdown",
   "metadata": {},
   "source": [
    "Criterios de partición para árboles de clasificación<br>\n",
    "A continuación, se presentan opciones comunes para los criterios de partición:\n"
   ]
  },
  {
   "cell_type": "markdown",
   "metadata": {},
   "source": [
    "- tasa de error de clasificación: fracción de las observaciones de entrenamiento en una región que no pertenece a la clase más común\n",
    "- Índice de Gini: medida de la varianza total entre clases en una región\n",
    "- centropía cruzada: numéricamente similar al índice de Gini\n"
   ]
  },
  {
   "cell_type": "markdown",
   "metadata": {},
   "source": [
    "El objetivo de la división es aumentar la \"pureza del nodo\", y resulta que el índice de Gini y la cruzentropía son mejores medidas de pureza que la tasa de error de clasificación. El índice de Gini es más rápido de calcular que el de centrocross, por lo que generalmente es el preferido (y es usado por scikit-learn por defecto)."
   ]
  },
  {
   "cell_type": "markdown",
   "metadata": {},
   "source": [
    "Ejemplos de cálculos del índice de Gini"
   ]
  },
  {
   "cell_type": "markdown",
   "metadata": {},
   "source": [
    "Digamos que estamos prediciendo la supervivencia en el Titanic. En un nodo en particular, hay 25 individuos, de los cuales 10 sobrevivieron y 15 murieron. Así es como calculamos el índice de Gini antes de hacer una división:<br>\n",
    "\n",
    "![gini](img/math1.svg)\n",
    "\n",
    "\n",
    "El valor máximo del índice Gini es de 0,5, y se produce cuando las clases están perfectamente equilibradas en un nodo. El valor mínimo del índice Gini es 0, y ocurre cuando sólo hay una clase representada en un nodo. Así, un nodo con un índice de Gini más bajo se dice que es más \"puro\".\n"
   ]
  },
  {
   "cell_type": "markdown",
   "metadata": {},
   "source": [
    "Al decidir entre particiones, el algoritmo del árbol de decisión elige la partición que maximiza la pureza del nodo resultante. Supongamos que el género fue la división que se está considerando, y los nodos resultantes son los siguientes:"
   ]
  },
  {
   "cell_type": "markdown",
   "metadata": {},
   "source": [
    "Hombres: 2 sobrevivieron, 13 murieron<br>\n",
    "Hembras: 8 sobrevivieron, 2 murieron\n"
   ]
  },
  {
   "cell_type": "markdown",
   "metadata": {},
   "source": [
    "Para evaluar esta división, calculamos el promedio ponderado de los índices de Gini de los nodos resultantes:<br>\n",
    "\n",
    "![gini](img/math2.svg)\n",
    "\n"
   ]
  },
  {
   "cell_type": "markdown",
   "metadata": {},
   "source": [
    "Por lo tanto, la disminución del índice de Gini (y el aumento de la pureza) a partir de la división en sexos es de 0,21. El algoritmo del árbol de decisión elegirá esta división si ninguna otra división resulta en una mayor ganancia en pureza."
   ]
  },
  {
   "cell_type": "markdown",
   "metadata": {},
   "source": [
    "Ejemplo de árbol de clasificación en scikit-learn"
   ]
  },
  {
   "cell_type": "code",
   "execution_count": 22,
   "metadata": {},
   "outputs": [],
   "source": [
    "titanic <- read.csv('https://raw.githubusercontent.com/justmarkham/DAT5/master/data/titanic_train.csv')"
   ]
  },
  {
   "cell_type": "code",
   "execution_count": 23,
   "metadata": {},
   "outputs": [
    {
     "data": {
      "text/html": [
       "<table>\n",
       "<caption>A data.frame: 6 × 12</caption>\n",
       "<thead>\n",
       "\t<tr><th></th><th scope=col>PassengerId</th><th scope=col>Survived</th><th scope=col>Pclass</th><th scope=col>Name</th><th scope=col>Sex</th><th scope=col>Age</th><th scope=col>SibSp</th><th scope=col>Parch</th><th scope=col>Ticket</th><th scope=col>Fare</th><th scope=col>Cabin</th><th scope=col>Embarked</th></tr>\n",
       "\t<tr><th></th><th scope=col>&lt;int&gt;</th><th scope=col>&lt;int&gt;</th><th scope=col>&lt;int&gt;</th><th scope=col>&lt;fct&gt;</th><th scope=col>&lt;fct&gt;</th><th scope=col>&lt;dbl&gt;</th><th scope=col>&lt;int&gt;</th><th scope=col>&lt;int&gt;</th><th scope=col>&lt;fct&gt;</th><th scope=col>&lt;dbl&gt;</th><th scope=col>&lt;fct&gt;</th><th scope=col>&lt;fct&gt;</th></tr>\n",
       "</thead>\n",
       "<tbody>\n",
       "\t<tr><th scope=row>1</th><td>1</td><td>0</td><td>3</td><td>Braund, Mr. Owen Harris                            </td><td>male  </td><td>22</td><td>1</td><td>0</td><td>A/5 21171       </td><td> 7.2500</td><td>    </td><td>S</td></tr>\n",
       "\t<tr><th scope=row>2</th><td>2</td><td>1</td><td>1</td><td>Cumings, Mrs. John Bradley (Florence Briggs Thayer)</td><td>female</td><td>38</td><td>1</td><td>0</td><td>PC 17599        </td><td>71.2833</td><td>C85 </td><td>C</td></tr>\n",
       "\t<tr><th scope=row>3</th><td>3</td><td>1</td><td>3</td><td>Heikkinen, Miss. Laina                             </td><td>female</td><td>26</td><td>0</td><td>0</td><td>STON/O2. 3101282</td><td> 7.9250</td><td>    </td><td>S</td></tr>\n",
       "\t<tr><th scope=row>4</th><td>4</td><td>1</td><td>1</td><td>Futrelle, Mrs. Jacques Heath (Lily May Peel)       </td><td>female</td><td>35</td><td>1</td><td>0</td><td>113803          </td><td>53.1000</td><td>C123</td><td>S</td></tr>\n",
       "\t<tr><th scope=row>5</th><td>5</td><td>0</td><td>3</td><td>Allen, Mr. William Henry                           </td><td>male  </td><td>35</td><td>0</td><td>0</td><td>373450          </td><td> 8.0500</td><td>    </td><td>S</td></tr>\n",
       "\t<tr><th scope=row>6</th><td>6</td><td>0</td><td>3</td><td>Moran, Mr. James                                   </td><td>male  </td><td>NA</td><td>0</td><td>0</td><td>330877          </td><td> 8.4583</td><td>    </td><td>Q</td></tr>\n",
       "</tbody>\n",
       "</table>\n"
      ],
      "text/latex": [
       "A data.frame: 6 × 12\n",
       "\\begin{tabular}{r|llllllllllll}\n",
       "  & PassengerId & Survived & Pclass & Name & Sex & Age & SibSp & Parch & Ticket & Fare & Cabin & Embarked\\\\\n",
       "  & <int> & <int> & <int> & <fct> & <fct> & <dbl> & <int> & <int> & <fct> & <dbl> & <fct> & <fct>\\\\\n",
       "\\hline\n",
       "\t1 & 1 & 0 & 3 & Braund, Mr. Owen Harris                             & male   & 22 & 1 & 0 & A/5 21171        &  7.2500 &      & S\\\\\n",
       "\t2 & 2 & 1 & 1 & Cumings, Mrs. John Bradley (Florence Briggs Thayer) & female & 38 & 1 & 0 & PC 17599         & 71.2833 & C85  & C\\\\\n",
       "\t3 & 3 & 1 & 3 & Heikkinen, Miss. Laina                              & female & 26 & 0 & 0 & STON/O2. 3101282 &  7.9250 &      & S\\\\\n",
       "\t4 & 4 & 1 & 1 & Futrelle, Mrs. Jacques Heath (Lily May Peel)        & female & 35 & 1 & 0 & 113803           & 53.1000 & C123 & S\\\\\n",
       "\t5 & 5 & 0 & 3 & Allen, Mr. William Henry                            & male   & 35 & 0 & 0 & 373450           &  8.0500 &      & S\\\\\n",
       "\t6 & 6 & 0 & 3 & Moran, Mr. James                                    & male   & NA & 0 & 0 & 330877           &  8.4583 &      & Q\\\\\n",
       "\\end{tabular}\n"
      ],
      "text/markdown": [
       "\n",
       "A data.frame: 6 × 12\n",
       "\n",
       "| <!--/--> | PassengerId &lt;int&gt; | Survived &lt;int&gt; | Pclass &lt;int&gt; | Name &lt;fct&gt; | Sex &lt;fct&gt; | Age &lt;dbl&gt; | SibSp &lt;int&gt; | Parch &lt;int&gt; | Ticket &lt;fct&gt; | Fare &lt;dbl&gt; | Cabin &lt;fct&gt; | Embarked &lt;fct&gt; |\n",
       "|---|---|---|---|---|---|---|---|---|---|---|---|---|\n",
       "| 1 | 1 | 0 | 3 | Braund, Mr. Owen Harris                             | male   | 22 | 1 | 0 | A/5 21171        |  7.2500 | <!----> | S |\n",
       "| 2 | 2 | 1 | 1 | Cumings, Mrs. John Bradley (Florence Briggs Thayer) | female | 38 | 1 | 0 | PC 17599         | 71.2833 | C85  | C |\n",
       "| 3 | 3 | 1 | 3 | Heikkinen, Miss. Laina                              | female | 26 | 0 | 0 | STON/O2. 3101282 |  7.9250 | <!----> | S |\n",
       "| 4 | 4 | 1 | 1 | Futrelle, Mrs. Jacques Heath (Lily May Peel)        | female | 35 | 1 | 0 | 113803           | 53.1000 | C123 | S |\n",
       "| 5 | 5 | 0 | 3 | Allen, Mr. William Henry                            | male   | 35 | 0 | 0 | 373450           |  8.0500 | <!----> | S |\n",
       "| 6 | 6 | 0 | 3 | Moran, Mr. James                                    | male   | NA | 0 | 0 | 330877           |  8.4583 | <!----> | Q |\n",
       "\n"
      ],
      "text/plain": [
       "  PassengerId Survived Pclass\n",
       "1 1           0        3     \n",
       "2 2           1        1     \n",
       "3 3           1        3     \n",
       "4 4           1        1     \n",
       "5 5           0        3     \n",
       "6 6           0        3     \n",
       "  Name                                                Sex    Age SibSp Parch\n",
       "1 Braund, Mr. Owen Harris                             male   22  1     0    \n",
       "2 Cumings, Mrs. John Bradley (Florence Briggs Thayer) female 38  1     0    \n",
       "3 Heikkinen, Miss. Laina                              female 26  0     0    \n",
       "4 Futrelle, Mrs. Jacques Heath (Lily May Peel)        female 35  1     0    \n",
       "5 Allen, Mr. William Henry                            male   35  0     0    \n",
       "6 Moran, Mr. James                                    male   NA  0     0    \n",
       "  Ticket           Fare    Cabin Embarked\n",
       "1 A/5 21171         7.2500       S       \n",
       "2 PC 17599         71.2833 C85   C       \n",
       "3 STON/O2. 3101282  7.9250       S       \n",
       "4 113803           53.1000 C123  S       \n",
       "5 373450            8.0500       S       \n",
       "6 330877            8.4583       Q       "
      ]
     },
     "metadata": {},
     "output_type": "display_data"
    }
   ],
   "source": [
    "head(titanic)"
   ]
  },
  {
   "cell_type": "markdown",
   "metadata": {},
   "source": [
    "Elijamos nuestra variable de respuesta y algunas características, y repasemos cómo manejar las características categóricas:"
   ]
  },
  {
   "cell_type": "markdown",
   "metadata": {},
   "source": [
    "Sobrevivió: Esta es nuestra variable de respuesta, y ya está codificada como 0=muerto y 1=vivo.<br>\n",
    "Clase P: Estas son las categorías de clase de pasajeros (1=primera clase, 2=segunda clase, 3=tercera clase). Están ordenados lógicamente, así que los dejaremos como están. (Si el árbol se divide en esta característica, las divisiones ocurrirán en 1.5 o 2.5.)<br>\n",
    "Sexo: Esta es una categoría binaria, por lo que debemos codificarla como 0=mujer y 1=hombre. (Si el árbol se divide en esta característica, la división ocurrirá en 0.5.)<br>\n",
    "Edad: Esta es una característica numérica, pero necesitamos rellenar los valores que faltan.<br>\n",
    "Embarcado: Este es el puerto de donde salieron. Hay tres categorías desordenadas, así que debemos crear variables ficticias y dejar caer un nivel como de costumbre.\n"
   ]
  },
  {
   "cell_type": "code",
   "execution_count": 24,
   "metadata": {},
   "outputs": [],
   "source": [
    "# encode female as 0 and male as 1\n",
    "titanic$Sex <- ifelse(titanic$Sex == \"female\",0,1)"
   ]
  },
  {
   "cell_type": "code",
   "execution_count": 25,
   "metadata": {},
   "outputs": [],
   "source": [
    "# fill in the missing values for age with the mean age\n",
    "titanic$Age <- ifelse(is.na(titanic$Age), mean(titanic$Age, na.rm=TRUE), titanic$Age)"
   ]
  },
  {
   "cell_type": "code",
   "execution_count": 26,
   "metadata": {},
   "outputs": [
    {
     "name": "stderr",
     "output_type": "stream",
     "text": [
      "Installing package into 'C:/Users/JHOVANNY/Documents/R/win-library/3.6'\n",
      "(as 'lib' is unspecified)\n",
      "\n"
     ]
    },
    {
     "name": "stdout",
     "output_type": "stream",
     "text": [
      "package 'dummies' successfully unpacked and MD5 sums checked\n",
      "\n",
      "The downloaded binary packages are in\n",
      "\tC:\\Users\\JHOVANNY\\AppData\\Local\\Temp\\RtmpKWSRxl\\downloaded_packages\n"
     ]
    },
    {
     "name": "stderr",
     "output_type": "stream",
     "text": [
      "dummies-1.5.6 provided by Decision Patterns\n",
      "\n",
      "\n",
      "Warning message in model.matrix.default(~x - 1, model.frame(~x - 1), contrasts = FALSE):\n",
      "\"non-list contrasts argument ignored\"\n"
     ]
    }
   ],
   "source": [
    "# create three dummy variables, drop the first dummy variable, and store the two remaining columns as a DataFrame\n",
    "install.packages(\"dummies\")\n",
    "library(dummies)\n",
    "titanic_dummy = dummy.data.frame(titanic, names = c(\"Embarked\") , sep = \".\")\n"
   ]
  },
  {
   "cell_type": "code",
   "execution_count": 27,
   "metadata": {},
   "outputs": [
    {
     "data": {
      "text/html": [
       "<table>\n",
       "<caption>A data.frame: 891 × 15</caption>\n",
       "<thead>\n",
       "\t<tr><th></th><th scope=col>PassengerId</th><th scope=col>Survived</th><th scope=col>Pclass</th><th scope=col>Name</th><th scope=col>Sex</th><th scope=col>Age</th><th scope=col>SibSp</th><th scope=col>Parch</th><th scope=col>Ticket</th><th scope=col>Fare</th><th scope=col>Cabin</th><th scope=col>Embarked.</th><th scope=col>Embarked.C</th><th scope=col>Embarked.Q</th><th scope=col>Embarked.S</th></tr>\n",
       "\t<tr><th></th><th scope=col>&lt;int&gt;</th><th scope=col>&lt;int&gt;</th><th scope=col>&lt;int&gt;</th><th scope=col>&lt;fct&gt;</th><th scope=col>&lt;dbl&gt;</th><th scope=col>&lt;dbl&gt;</th><th scope=col>&lt;int&gt;</th><th scope=col>&lt;int&gt;</th><th scope=col>&lt;fct&gt;</th><th scope=col>&lt;dbl&gt;</th><th scope=col>&lt;fct&gt;</th><th scope=col>&lt;int&gt;</th><th scope=col>&lt;int&gt;</th><th scope=col>&lt;int&gt;</th><th scope=col>&lt;int&gt;</th></tr>\n",
       "</thead>\n",
       "<tbody>\n",
       "\t<tr><th scope=row>1</th><td> 1</td><td>0</td><td>3</td><td>Braund, Mr. Owen Harris                                  </td><td>1</td><td>22.00000</td><td>1</td><td>0</td><td>A/5 21171       </td><td>  7.2500</td><td>           </td><td>0</td><td>0</td><td>0</td><td>1</td></tr>\n",
       "\t<tr><th scope=row>2</th><td> 2</td><td>1</td><td>1</td><td>Cumings, Mrs. John Bradley (Florence Briggs Thayer)      </td><td>0</td><td>38.00000</td><td>1</td><td>0</td><td>PC 17599        </td><td> 71.2833</td><td>C85        </td><td>0</td><td>1</td><td>0</td><td>0</td></tr>\n",
       "\t<tr><th scope=row>3</th><td> 3</td><td>1</td><td>3</td><td>Heikkinen, Miss. Laina                                   </td><td>0</td><td>26.00000</td><td>0</td><td>0</td><td>STON/O2. 3101282</td><td>  7.9250</td><td>           </td><td>0</td><td>0</td><td>0</td><td>1</td></tr>\n",
       "\t<tr><th scope=row>4</th><td> 4</td><td>1</td><td>1</td><td>Futrelle, Mrs. Jacques Heath (Lily May Peel)             </td><td>0</td><td>35.00000</td><td>1</td><td>0</td><td>113803          </td><td> 53.1000</td><td>C123       </td><td>0</td><td>0</td><td>0</td><td>1</td></tr>\n",
       "\t<tr><th scope=row>5</th><td> 5</td><td>0</td><td>3</td><td>Allen, Mr. William Henry                                 </td><td>1</td><td>35.00000</td><td>0</td><td>0</td><td>373450          </td><td>  8.0500</td><td>           </td><td>0</td><td>0</td><td>0</td><td>1</td></tr>\n",
       "\t<tr><th scope=row>6</th><td> 6</td><td>0</td><td>3</td><td>Moran, Mr. James                                         </td><td>1</td><td>29.69912</td><td>0</td><td>0</td><td>330877          </td><td>  8.4583</td><td>           </td><td>0</td><td>0</td><td>1</td><td>0</td></tr>\n",
       "\t<tr><th scope=row>7</th><td> 7</td><td>0</td><td>1</td><td>McCarthy, Mr. Timothy J                                  </td><td>1</td><td>54.00000</td><td>0</td><td>0</td><td>17463           </td><td> 51.8625</td><td>E46        </td><td>0</td><td>0</td><td>0</td><td>1</td></tr>\n",
       "\t<tr><th scope=row>8</th><td> 8</td><td>0</td><td>3</td><td>Palsson, Master. Gosta Leonard                           </td><td>1</td><td> 2.00000</td><td>3</td><td>1</td><td>349909          </td><td> 21.0750</td><td>           </td><td>0</td><td>0</td><td>0</td><td>1</td></tr>\n",
       "\t<tr><th scope=row>9</th><td> 9</td><td>1</td><td>3</td><td>Johnson, Mrs. Oscar W (Elisabeth Vilhelmina Berg)        </td><td>0</td><td>27.00000</td><td>0</td><td>2</td><td>347742          </td><td> 11.1333</td><td>           </td><td>0</td><td>0</td><td>0</td><td>1</td></tr>\n",
       "\t<tr><th scope=row>10</th><td>10</td><td>1</td><td>2</td><td>Nasser, Mrs. Nicholas (Adele Achem)                      </td><td>0</td><td>14.00000</td><td>1</td><td>0</td><td>237736          </td><td> 30.0708</td><td>           </td><td>0</td><td>1</td><td>0</td><td>0</td></tr>\n",
       "\t<tr><th scope=row>11</th><td>11</td><td>1</td><td>3</td><td>Sandstrom, Miss. Marguerite Rut                          </td><td>0</td><td> 4.00000</td><td>1</td><td>1</td><td>PP 9549         </td><td> 16.7000</td><td>G6         </td><td>0</td><td>0</td><td>0</td><td>1</td></tr>\n",
       "\t<tr><th scope=row>12</th><td>12</td><td>1</td><td>1</td><td>Bonnell, Miss. Elizabeth                                 </td><td>0</td><td>58.00000</td><td>0</td><td>0</td><td>113783          </td><td> 26.5500</td><td>C103       </td><td>0</td><td>0</td><td>0</td><td>1</td></tr>\n",
       "\t<tr><th scope=row>13</th><td>13</td><td>0</td><td>3</td><td>Saundercock, Mr. William Henry                           </td><td>1</td><td>20.00000</td><td>0</td><td>0</td><td>A/5. 2151       </td><td>  8.0500</td><td>           </td><td>0</td><td>0</td><td>0</td><td>1</td></tr>\n",
       "\t<tr><th scope=row>14</th><td>14</td><td>0</td><td>3</td><td>Andersson, Mr. Anders Johan                              </td><td>1</td><td>39.00000</td><td>1</td><td>5</td><td>347082          </td><td> 31.2750</td><td>           </td><td>0</td><td>0</td><td>0</td><td>1</td></tr>\n",
       "\t<tr><th scope=row>15</th><td>15</td><td>0</td><td>3</td><td>Vestrom, Miss. Hulda Amanda Adolfina                     </td><td>0</td><td>14.00000</td><td>0</td><td>0</td><td>350406          </td><td>  7.8542</td><td>           </td><td>0</td><td>0</td><td>0</td><td>1</td></tr>\n",
       "\t<tr><th scope=row>16</th><td>16</td><td>1</td><td>2</td><td>Hewlett, Mrs. (Mary D Kingcome)                          </td><td>0</td><td>55.00000</td><td>0</td><td>0</td><td>248706          </td><td> 16.0000</td><td>           </td><td>0</td><td>0</td><td>0</td><td>1</td></tr>\n",
       "\t<tr><th scope=row>17</th><td>17</td><td>0</td><td>3</td><td>Rice, Master. Eugene                                     </td><td>1</td><td> 2.00000</td><td>4</td><td>1</td><td>382652          </td><td> 29.1250</td><td>           </td><td>0</td><td>0</td><td>1</td><td>0</td></tr>\n",
       "\t<tr><th scope=row>18</th><td>18</td><td>1</td><td>2</td><td>Williams, Mr. Charles Eugene                             </td><td>1</td><td>29.69912</td><td>0</td><td>0</td><td>244373          </td><td> 13.0000</td><td>           </td><td>0</td><td>0</td><td>0</td><td>1</td></tr>\n",
       "\t<tr><th scope=row>19</th><td>19</td><td>0</td><td>3</td><td>Vander Planke, Mrs. Julius (Emelia Maria Vandemoortele)  </td><td>0</td><td>31.00000</td><td>1</td><td>0</td><td>345763          </td><td> 18.0000</td><td>           </td><td>0</td><td>0</td><td>0</td><td>1</td></tr>\n",
       "\t<tr><th scope=row>20</th><td>20</td><td>1</td><td>3</td><td>Masselmani, Mrs. Fatima                                  </td><td>0</td><td>29.69912</td><td>0</td><td>0</td><td>2649            </td><td>  7.2250</td><td>           </td><td>0</td><td>1</td><td>0</td><td>0</td></tr>\n",
       "\t<tr><th scope=row>21</th><td>21</td><td>0</td><td>2</td><td>Fynney, Mr. Joseph J                                     </td><td>1</td><td>35.00000</td><td>0</td><td>0</td><td>239865          </td><td> 26.0000</td><td>           </td><td>0</td><td>0</td><td>0</td><td>1</td></tr>\n",
       "\t<tr><th scope=row>22</th><td>22</td><td>1</td><td>2</td><td>Beesley, Mr. Lawrence                                    </td><td>1</td><td>34.00000</td><td>0</td><td>0</td><td>248698          </td><td> 13.0000</td><td>D56        </td><td>0</td><td>0</td><td>0</td><td>1</td></tr>\n",
       "\t<tr><th scope=row>23</th><td>23</td><td>1</td><td>3</td><td>McGowan, Miss. Anna \"Annie\"                              </td><td>0</td><td>15.00000</td><td>0</td><td>0</td><td>330923          </td><td>  8.0292</td><td>           </td><td>0</td><td>0</td><td>1</td><td>0</td></tr>\n",
       "\t<tr><th scope=row>24</th><td>24</td><td>1</td><td>1</td><td>Sloper, Mr. William Thompson                             </td><td>1</td><td>28.00000</td><td>0</td><td>0</td><td>113788          </td><td> 35.5000</td><td>A6         </td><td>0</td><td>0</td><td>0</td><td>1</td></tr>\n",
       "\t<tr><th scope=row>25</th><td>25</td><td>0</td><td>3</td><td>Palsson, Miss. Torborg Danira                            </td><td>0</td><td> 8.00000</td><td>3</td><td>1</td><td>349909          </td><td> 21.0750</td><td>           </td><td>0</td><td>0</td><td>0</td><td>1</td></tr>\n",
       "\t<tr><th scope=row>26</th><td>26</td><td>1</td><td>3</td><td>Asplund, Mrs. Carl Oscar (Selma Augusta Emilia Johansson)</td><td>0</td><td>38.00000</td><td>1</td><td>5</td><td>347077          </td><td> 31.3875</td><td>           </td><td>0</td><td>0</td><td>0</td><td>1</td></tr>\n",
       "\t<tr><th scope=row>27</th><td>27</td><td>0</td><td>3</td><td>Emir, Mr. Farred Chehab                                  </td><td>1</td><td>29.69912</td><td>0</td><td>0</td><td>2631            </td><td>  7.2250</td><td>           </td><td>0</td><td>1</td><td>0</td><td>0</td></tr>\n",
       "\t<tr><th scope=row>28</th><td>28</td><td>0</td><td>1</td><td>Fortune, Mr. Charles Alexander                           </td><td>1</td><td>19.00000</td><td>3</td><td>2</td><td>19950           </td><td>263.0000</td><td>C23 C25 C27</td><td>0</td><td>0</td><td>0</td><td>1</td></tr>\n",
       "\t<tr><th scope=row>29</th><td>29</td><td>1</td><td>3</td><td>O'Dwyer, Miss. Ellen \"Nellie\"                            </td><td>0</td><td>29.69912</td><td>0</td><td>0</td><td>330959          </td><td>  7.8792</td><td>           </td><td>0</td><td>0</td><td>1</td><td>0</td></tr>\n",
       "\t<tr><th scope=row>30</th><td>30</td><td>0</td><td>3</td><td>Todoroff, Mr. Lalio                                      </td><td>1</td><td>29.69912</td><td>0</td><td>0</td><td>349216          </td><td>  7.8958</td><td>           </td><td>0</td><td>0</td><td>0</td><td>1</td></tr>\n",
       "\t<tr><th scope=row>...</th><td>...</td><td>...</td><td>...</td><td>...</td><td>...</td><td>...</td><td>...</td><td>...</td><td>...</td><td>...</td><td>...</td><td>...</td><td>...</td><td>...</td><td>...</td></tr>\n",
       "\t<tr><th scope=row>862</th><td>862</td><td>0</td><td>2</td><td>Giles, Mr. Frederick Edward                        </td><td>1</td><td>21.00000</td><td>1</td><td>0</td><td>28134           </td><td>11.5000</td><td>           </td><td>0</td><td>0</td><td>0</td><td>1</td></tr>\n",
       "\t<tr><th scope=row>863</th><td>863</td><td>1</td><td>1</td><td>Swift, Mrs. Frederick Joel (Margaret Welles Barron)</td><td>0</td><td>48.00000</td><td>0</td><td>0</td><td>17466           </td><td>25.9292</td><td>D17        </td><td>0</td><td>0</td><td>0</td><td>1</td></tr>\n",
       "\t<tr><th scope=row>864</th><td>864</td><td>0</td><td>3</td><td>Sage, Miss. Dorothy Edith \"Dolly\"                  </td><td>0</td><td>29.69912</td><td>8</td><td>2</td><td>CA. 2343        </td><td>69.5500</td><td>           </td><td>0</td><td>0</td><td>0</td><td>1</td></tr>\n",
       "\t<tr><th scope=row>865</th><td>865</td><td>0</td><td>2</td><td>Gill, Mr. John William                             </td><td>1</td><td>24.00000</td><td>0</td><td>0</td><td>233866          </td><td>13.0000</td><td>           </td><td>0</td><td>0</td><td>0</td><td>1</td></tr>\n",
       "\t<tr><th scope=row>866</th><td>866</td><td>1</td><td>2</td><td>Bystrom, Mrs. (Karolina)                           </td><td>0</td><td>42.00000</td><td>0</td><td>0</td><td>236852          </td><td>13.0000</td><td>           </td><td>0</td><td>0</td><td>0</td><td>1</td></tr>\n",
       "\t<tr><th scope=row>867</th><td>867</td><td>1</td><td>2</td><td>Duran y More, Miss. Asuncion                       </td><td>0</td><td>27.00000</td><td>1</td><td>0</td><td>SC/PARIS 2149   </td><td>13.8583</td><td>           </td><td>0</td><td>1</td><td>0</td><td>0</td></tr>\n",
       "\t<tr><th scope=row>868</th><td>868</td><td>0</td><td>1</td><td>Roebling, Mr. Washington Augustus II               </td><td>1</td><td>31.00000</td><td>0</td><td>0</td><td>PC 17590        </td><td>50.4958</td><td>A24        </td><td>0</td><td>0</td><td>0</td><td>1</td></tr>\n",
       "\t<tr><th scope=row>869</th><td>869</td><td>0</td><td>3</td><td>van Melkebeke, Mr. Philemon                        </td><td>1</td><td>29.69912</td><td>0</td><td>0</td><td>345777          </td><td> 9.5000</td><td>           </td><td>0</td><td>0</td><td>0</td><td>1</td></tr>\n",
       "\t<tr><th scope=row>870</th><td>870</td><td>1</td><td>3</td><td>Johnson, Master. Harold Theodor                    </td><td>1</td><td> 4.00000</td><td>1</td><td>1</td><td>347742          </td><td>11.1333</td><td>           </td><td>0</td><td>0</td><td>0</td><td>1</td></tr>\n",
       "\t<tr><th scope=row>871</th><td>871</td><td>0</td><td>3</td><td>Balkic, Mr. Cerin                                  </td><td>1</td><td>26.00000</td><td>0</td><td>0</td><td>349248          </td><td> 7.8958</td><td>           </td><td>0</td><td>0</td><td>0</td><td>1</td></tr>\n",
       "\t<tr><th scope=row>872</th><td>872</td><td>1</td><td>1</td><td>Beckwith, Mrs. Richard Leonard (Sallie Monypeny)   </td><td>0</td><td>47.00000</td><td>1</td><td>1</td><td>11751           </td><td>52.5542</td><td>D35        </td><td>0</td><td>0</td><td>0</td><td>1</td></tr>\n",
       "\t<tr><th scope=row>873</th><td>873</td><td>0</td><td>1</td><td>Carlsson, Mr. Frans Olof                           </td><td>1</td><td>33.00000</td><td>0</td><td>0</td><td>695             </td><td> 5.0000</td><td>B51 B53 B55</td><td>0</td><td>0</td><td>0</td><td>1</td></tr>\n",
       "\t<tr><th scope=row>874</th><td>874</td><td>0</td><td>3</td><td>Vander Cruyssen, Mr. Victor                        </td><td>1</td><td>47.00000</td><td>0</td><td>0</td><td>345765          </td><td> 9.0000</td><td>           </td><td>0</td><td>0</td><td>0</td><td>1</td></tr>\n",
       "\t<tr><th scope=row>875</th><td>875</td><td>1</td><td>2</td><td>Abelson, Mrs. Samuel (Hannah Wizosky)              </td><td>0</td><td>28.00000</td><td>1</td><td>0</td><td>P/PP 3381       </td><td>24.0000</td><td>           </td><td>0</td><td>1</td><td>0</td><td>0</td></tr>\n",
       "\t<tr><th scope=row>876</th><td>876</td><td>1</td><td>3</td><td>Najib, Miss. Adele Kiamie \"Jane\"                   </td><td>0</td><td>15.00000</td><td>0</td><td>0</td><td>2667            </td><td> 7.2250</td><td>           </td><td>0</td><td>1</td><td>0</td><td>0</td></tr>\n",
       "\t<tr><th scope=row>877</th><td>877</td><td>0</td><td>3</td><td>Gustafsson, Mr. Alfred Ossian                      </td><td>1</td><td>20.00000</td><td>0</td><td>0</td><td>7534            </td><td> 9.8458</td><td>           </td><td>0</td><td>0</td><td>0</td><td>1</td></tr>\n",
       "\t<tr><th scope=row>878</th><td>878</td><td>0</td><td>3</td><td>Petroff, Mr. Nedelio                               </td><td>1</td><td>19.00000</td><td>0</td><td>0</td><td>349212          </td><td> 7.8958</td><td>           </td><td>0</td><td>0</td><td>0</td><td>1</td></tr>\n",
       "\t<tr><th scope=row>879</th><td>879</td><td>0</td><td>3</td><td>Laleff, Mr. Kristo                                 </td><td>1</td><td>29.69912</td><td>0</td><td>0</td><td>349217          </td><td> 7.8958</td><td>           </td><td>0</td><td>0</td><td>0</td><td>1</td></tr>\n",
       "\t<tr><th scope=row>880</th><td>880</td><td>1</td><td>1</td><td>Potter, Mrs. Thomas Jr (Lily Alexenia Wilson)      </td><td>0</td><td>56.00000</td><td>0</td><td>1</td><td>11767           </td><td>83.1583</td><td>C50        </td><td>0</td><td>1</td><td>0</td><td>0</td></tr>\n",
       "\t<tr><th scope=row>881</th><td>881</td><td>1</td><td>2</td><td>Shelley, Mrs. William (Imanita Parrish Hall)       </td><td>0</td><td>25.00000</td><td>0</td><td>1</td><td>230433          </td><td>26.0000</td><td>           </td><td>0</td><td>0</td><td>0</td><td>1</td></tr>\n",
       "\t<tr><th scope=row>882</th><td>882</td><td>0</td><td>3</td><td>Markun, Mr. Johann                                 </td><td>1</td><td>33.00000</td><td>0</td><td>0</td><td>349257          </td><td> 7.8958</td><td>           </td><td>0</td><td>0</td><td>0</td><td>1</td></tr>\n",
       "\t<tr><th scope=row>883</th><td>883</td><td>0</td><td>3</td><td>Dahlberg, Miss. Gerda Ulrika                       </td><td>0</td><td>22.00000</td><td>0</td><td>0</td><td>7552            </td><td>10.5167</td><td>           </td><td>0</td><td>0</td><td>0</td><td>1</td></tr>\n",
       "\t<tr><th scope=row>884</th><td>884</td><td>0</td><td>2</td><td>Banfield, Mr. Frederick James                      </td><td>1</td><td>28.00000</td><td>0</td><td>0</td><td>C.A./SOTON 34068</td><td>10.5000</td><td>           </td><td>0</td><td>0</td><td>0</td><td>1</td></tr>\n",
       "\t<tr><th scope=row>885</th><td>885</td><td>0</td><td>3</td><td>Sutehall, Mr. Henry Jr                             </td><td>1</td><td>25.00000</td><td>0</td><td>0</td><td>SOTON/OQ 392076 </td><td> 7.0500</td><td>           </td><td>0</td><td>0</td><td>0</td><td>1</td></tr>\n",
       "\t<tr><th scope=row>886</th><td>886</td><td>0</td><td>3</td><td>Rice, Mrs. William (Margaret Norton)               </td><td>0</td><td>39.00000</td><td>0</td><td>5</td><td>382652          </td><td>29.1250</td><td>           </td><td>0</td><td>0</td><td>1</td><td>0</td></tr>\n",
       "\t<tr><th scope=row>887</th><td>887</td><td>0</td><td>2</td><td>Montvila, Rev. Juozas                              </td><td>1</td><td>27.00000</td><td>0</td><td>0</td><td>211536          </td><td>13.0000</td><td>           </td><td>0</td><td>0</td><td>0</td><td>1</td></tr>\n",
       "\t<tr><th scope=row>888</th><td>888</td><td>1</td><td>1</td><td>Graham, Miss. Margaret Edith                       </td><td>0</td><td>19.00000</td><td>0</td><td>0</td><td>112053          </td><td>30.0000</td><td>B42        </td><td>0</td><td>0</td><td>0</td><td>1</td></tr>\n",
       "\t<tr><th scope=row>889</th><td>889</td><td>0</td><td>3</td><td>Johnston, Miss. Catherine Helen \"Carrie\"           </td><td>0</td><td>29.69912</td><td>1</td><td>2</td><td>W./C. 6607      </td><td>23.4500</td><td>           </td><td>0</td><td>0</td><td>0</td><td>1</td></tr>\n",
       "\t<tr><th scope=row>890</th><td>890</td><td>1</td><td>1</td><td>Behr, Mr. Karl Howell                              </td><td>1</td><td>26.00000</td><td>0</td><td>0</td><td>111369          </td><td>30.0000</td><td>C148       </td><td>0</td><td>1</td><td>0</td><td>0</td></tr>\n",
       "\t<tr><th scope=row>891</th><td>891</td><td>0</td><td>3</td><td>Dooley, Mr. Patrick                                </td><td>1</td><td>32.00000</td><td>0</td><td>0</td><td>370376          </td><td> 7.7500</td><td>           </td><td>0</td><td>0</td><td>1</td><td>0</td></tr>\n",
       "</tbody>\n",
       "</table>\n"
      ],
      "text/latex": [
       "A data.frame: 891 × 15\n",
       "\\begin{tabular}{r|lllllllllllllll}\n",
       "  & PassengerId & Survived & Pclass & Name & Sex & Age & SibSp & Parch & Ticket & Fare & Cabin & Embarked. & Embarked.C & Embarked.Q & Embarked.S\\\\\n",
       "  & <int> & <int> & <int> & <fct> & <dbl> & <dbl> & <int> & <int> & <fct> & <dbl> & <fct> & <int> & <int> & <int> & <int>\\\\\n",
       "\\hline\n",
       "\t1 &  1 & 0 & 3 & Braund, Mr. Owen Harris                                   & 1 & 22.00000 & 1 & 0 & A/5 21171        &   7.2500 &             & 0 & 0 & 0 & 1\\\\\n",
       "\t2 &  2 & 1 & 1 & Cumings, Mrs. John Bradley (Florence Briggs Thayer)       & 0 & 38.00000 & 1 & 0 & PC 17599         &  71.2833 & C85         & 0 & 1 & 0 & 0\\\\\n",
       "\t3 &  3 & 1 & 3 & Heikkinen, Miss. Laina                                    & 0 & 26.00000 & 0 & 0 & STON/O2. 3101282 &   7.9250 &             & 0 & 0 & 0 & 1\\\\\n",
       "\t4 &  4 & 1 & 1 & Futrelle, Mrs. Jacques Heath (Lily May Peel)              & 0 & 35.00000 & 1 & 0 & 113803           &  53.1000 & C123        & 0 & 0 & 0 & 1\\\\\n",
       "\t5 &  5 & 0 & 3 & Allen, Mr. William Henry                                  & 1 & 35.00000 & 0 & 0 & 373450           &   8.0500 &             & 0 & 0 & 0 & 1\\\\\n",
       "\t6 &  6 & 0 & 3 & Moran, Mr. James                                          & 1 & 29.69912 & 0 & 0 & 330877           &   8.4583 &             & 0 & 0 & 1 & 0\\\\\n",
       "\t7 &  7 & 0 & 1 & McCarthy, Mr. Timothy J                                   & 1 & 54.00000 & 0 & 0 & 17463            &  51.8625 & E46         & 0 & 0 & 0 & 1\\\\\n",
       "\t8 &  8 & 0 & 3 & Palsson, Master. Gosta Leonard                            & 1 &  2.00000 & 3 & 1 & 349909           &  21.0750 &             & 0 & 0 & 0 & 1\\\\\n",
       "\t9 &  9 & 1 & 3 & Johnson, Mrs. Oscar W (Elisabeth Vilhelmina Berg)         & 0 & 27.00000 & 0 & 2 & 347742           &  11.1333 &             & 0 & 0 & 0 & 1\\\\\n",
       "\t10 & 10 & 1 & 2 & Nasser, Mrs. Nicholas (Adele Achem)                       & 0 & 14.00000 & 1 & 0 & 237736           &  30.0708 &             & 0 & 1 & 0 & 0\\\\\n",
       "\t11 & 11 & 1 & 3 & Sandstrom, Miss. Marguerite Rut                           & 0 &  4.00000 & 1 & 1 & PP 9549          &  16.7000 & G6          & 0 & 0 & 0 & 1\\\\\n",
       "\t12 & 12 & 1 & 1 & Bonnell, Miss. Elizabeth                                  & 0 & 58.00000 & 0 & 0 & 113783           &  26.5500 & C103        & 0 & 0 & 0 & 1\\\\\n",
       "\t13 & 13 & 0 & 3 & Saundercock, Mr. William Henry                            & 1 & 20.00000 & 0 & 0 & A/5. 2151        &   8.0500 &             & 0 & 0 & 0 & 1\\\\\n",
       "\t14 & 14 & 0 & 3 & Andersson, Mr. Anders Johan                               & 1 & 39.00000 & 1 & 5 & 347082           &  31.2750 &             & 0 & 0 & 0 & 1\\\\\n",
       "\t15 & 15 & 0 & 3 & Vestrom, Miss. Hulda Amanda Adolfina                      & 0 & 14.00000 & 0 & 0 & 350406           &   7.8542 &             & 0 & 0 & 0 & 1\\\\\n",
       "\t16 & 16 & 1 & 2 & Hewlett, Mrs. (Mary D Kingcome)                           & 0 & 55.00000 & 0 & 0 & 248706           &  16.0000 &             & 0 & 0 & 0 & 1\\\\\n",
       "\t17 & 17 & 0 & 3 & Rice, Master. Eugene                                      & 1 &  2.00000 & 4 & 1 & 382652           &  29.1250 &             & 0 & 0 & 1 & 0\\\\\n",
       "\t18 & 18 & 1 & 2 & Williams, Mr. Charles Eugene                              & 1 & 29.69912 & 0 & 0 & 244373           &  13.0000 &             & 0 & 0 & 0 & 1\\\\\n",
       "\t19 & 19 & 0 & 3 & Vander Planke, Mrs. Julius (Emelia Maria Vandemoortele)   & 0 & 31.00000 & 1 & 0 & 345763           &  18.0000 &             & 0 & 0 & 0 & 1\\\\\n",
       "\t20 & 20 & 1 & 3 & Masselmani, Mrs. Fatima                                   & 0 & 29.69912 & 0 & 0 & 2649             &   7.2250 &             & 0 & 1 & 0 & 0\\\\\n",
       "\t21 & 21 & 0 & 2 & Fynney, Mr. Joseph J                                      & 1 & 35.00000 & 0 & 0 & 239865           &  26.0000 &             & 0 & 0 & 0 & 1\\\\\n",
       "\t22 & 22 & 1 & 2 & Beesley, Mr. Lawrence                                     & 1 & 34.00000 & 0 & 0 & 248698           &  13.0000 & D56         & 0 & 0 & 0 & 1\\\\\n",
       "\t23 & 23 & 1 & 3 & McGowan, Miss. Anna \"Annie\"                               & 0 & 15.00000 & 0 & 0 & 330923           &   8.0292 &             & 0 & 0 & 1 & 0\\\\\n",
       "\t24 & 24 & 1 & 1 & Sloper, Mr. William Thompson                              & 1 & 28.00000 & 0 & 0 & 113788           &  35.5000 & A6          & 0 & 0 & 0 & 1\\\\\n",
       "\t25 & 25 & 0 & 3 & Palsson, Miss. Torborg Danira                             & 0 &  8.00000 & 3 & 1 & 349909           &  21.0750 &             & 0 & 0 & 0 & 1\\\\\n",
       "\t26 & 26 & 1 & 3 & Asplund, Mrs. Carl Oscar (Selma Augusta Emilia Johansson) & 0 & 38.00000 & 1 & 5 & 347077           &  31.3875 &             & 0 & 0 & 0 & 1\\\\\n",
       "\t27 & 27 & 0 & 3 & Emir, Mr. Farred Chehab                                   & 1 & 29.69912 & 0 & 0 & 2631             &   7.2250 &             & 0 & 1 & 0 & 0\\\\\n",
       "\t28 & 28 & 0 & 1 & Fortune, Mr. Charles Alexander                            & 1 & 19.00000 & 3 & 2 & 19950            & 263.0000 & C23 C25 C27 & 0 & 0 & 0 & 1\\\\\n",
       "\t29 & 29 & 1 & 3 & O'Dwyer, Miss. Ellen \"Nellie\"                             & 0 & 29.69912 & 0 & 0 & 330959           &   7.8792 &             & 0 & 0 & 1 & 0\\\\\n",
       "\t30 & 30 & 0 & 3 & Todoroff, Mr. Lalio                                       & 1 & 29.69912 & 0 & 0 & 349216           &   7.8958 &             & 0 & 0 & 0 & 1\\\\\n",
       "\t... & ... & ... & ... & ... & ... & ... & ... & ... & ... & ... & ... & ... & ... & ... & ...\\\\\n",
       "\t862 & 862 & 0 & 2 & Giles, Mr. Frederick Edward                         & 1 & 21.00000 & 1 & 0 & 28134            & 11.5000 &             & 0 & 0 & 0 & 1\\\\\n",
       "\t863 & 863 & 1 & 1 & Swift, Mrs. Frederick Joel (Margaret Welles Barron) & 0 & 48.00000 & 0 & 0 & 17466            & 25.9292 & D17         & 0 & 0 & 0 & 1\\\\\n",
       "\t864 & 864 & 0 & 3 & Sage, Miss. Dorothy Edith \"Dolly\"                   & 0 & 29.69912 & 8 & 2 & CA. 2343         & 69.5500 &             & 0 & 0 & 0 & 1\\\\\n",
       "\t865 & 865 & 0 & 2 & Gill, Mr. John William                              & 1 & 24.00000 & 0 & 0 & 233866           & 13.0000 &             & 0 & 0 & 0 & 1\\\\\n",
       "\t866 & 866 & 1 & 2 & Bystrom, Mrs. (Karolina)                            & 0 & 42.00000 & 0 & 0 & 236852           & 13.0000 &             & 0 & 0 & 0 & 1\\\\\n",
       "\t867 & 867 & 1 & 2 & Duran y More, Miss. Asuncion                        & 0 & 27.00000 & 1 & 0 & SC/PARIS 2149    & 13.8583 &             & 0 & 1 & 0 & 0\\\\\n",
       "\t868 & 868 & 0 & 1 & Roebling, Mr. Washington Augustus II                & 1 & 31.00000 & 0 & 0 & PC 17590         & 50.4958 & A24         & 0 & 0 & 0 & 1\\\\\n",
       "\t869 & 869 & 0 & 3 & van Melkebeke, Mr. Philemon                         & 1 & 29.69912 & 0 & 0 & 345777           &  9.5000 &             & 0 & 0 & 0 & 1\\\\\n",
       "\t870 & 870 & 1 & 3 & Johnson, Master. Harold Theodor                     & 1 &  4.00000 & 1 & 1 & 347742           & 11.1333 &             & 0 & 0 & 0 & 1\\\\\n",
       "\t871 & 871 & 0 & 3 & Balkic, Mr. Cerin                                   & 1 & 26.00000 & 0 & 0 & 349248           &  7.8958 &             & 0 & 0 & 0 & 1\\\\\n",
       "\t872 & 872 & 1 & 1 & Beckwith, Mrs. Richard Leonard (Sallie Monypeny)    & 0 & 47.00000 & 1 & 1 & 11751            & 52.5542 & D35         & 0 & 0 & 0 & 1\\\\\n",
       "\t873 & 873 & 0 & 1 & Carlsson, Mr. Frans Olof                            & 1 & 33.00000 & 0 & 0 & 695              &  5.0000 & B51 B53 B55 & 0 & 0 & 0 & 1\\\\\n",
       "\t874 & 874 & 0 & 3 & Vander Cruyssen, Mr. Victor                         & 1 & 47.00000 & 0 & 0 & 345765           &  9.0000 &             & 0 & 0 & 0 & 1\\\\\n",
       "\t875 & 875 & 1 & 2 & Abelson, Mrs. Samuel (Hannah Wizosky)               & 0 & 28.00000 & 1 & 0 & P/PP 3381        & 24.0000 &             & 0 & 1 & 0 & 0\\\\\n",
       "\t876 & 876 & 1 & 3 & Najib, Miss. Adele Kiamie \"Jane\"                    & 0 & 15.00000 & 0 & 0 & 2667             &  7.2250 &             & 0 & 1 & 0 & 0\\\\\n",
       "\t877 & 877 & 0 & 3 & Gustafsson, Mr. Alfred Ossian                       & 1 & 20.00000 & 0 & 0 & 7534             &  9.8458 &             & 0 & 0 & 0 & 1\\\\\n",
       "\t878 & 878 & 0 & 3 & Petroff, Mr. Nedelio                                & 1 & 19.00000 & 0 & 0 & 349212           &  7.8958 &             & 0 & 0 & 0 & 1\\\\\n",
       "\t879 & 879 & 0 & 3 & Laleff, Mr. Kristo                                  & 1 & 29.69912 & 0 & 0 & 349217           &  7.8958 &             & 0 & 0 & 0 & 1\\\\\n",
       "\t880 & 880 & 1 & 1 & Potter, Mrs. Thomas Jr (Lily Alexenia Wilson)       & 0 & 56.00000 & 0 & 1 & 11767            & 83.1583 & C50         & 0 & 1 & 0 & 0\\\\\n",
       "\t881 & 881 & 1 & 2 & Shelley, Mrs. William (Imanita Parrish Hall)        & 0 & 25.00000 & 0 & 1 & 230433           & 26.0000 &             & 0 & 0 & 0 & 1\\\\\n",
       "\t882 & 882 & 0 & 3 & Markun, Mr. Johann                                  & 1 & 33.00000 & 0 & 0 & 349257           &  7.8958 &             & 0 & 0 & 0 & 1\\\\\n",
       "\t883 & 883 & 0 & 3 & Dahlberg, Miss. Gerda Ulrika                        & 0 & 22.00000 & 0 & 0 & 7552             & 10.5167 &             & 0 & 0 & 0 & 1\\\\\n",
       "\t884 & 884 & 0 & 2 & Banfield, Mr. Frederick James                       & 1 & 28.00000 & 0 & 0 & C.A./SOTON 34068 & 10.5000 &             & 0 & 0 & 0 & 1\\\\\n",
       "\t885 & 885 & 0 & 3 & Sutehall, Mr. Henry Jr                              & 1 & 25.00000 & 0 & 0 & SOTON/OQ 392076  &  7.0500 &             & 0 & 0 & 0 & 1\\\\\n",
       "\t886 & 886 & 0 & 3 & Rice, Mrs. William (Margaret Norton)                & 0 & 39.00000 & 0 & 5 & 382652           & 29.1250 &             & 0 & 0 & 1 & 0\\\\\n",
       "\t887 & 887 & 0 & 2 & Montvila, Rev. Juozas                               & 1 & 27.00000 & 0 & 0 & 211536           & 13.0000 &             & 0 & 0 & 0 & 1\\\\\n",
       "\t888 & 888 & 1 & 1 & Graham, Miss. Margaret Edith                        & 0 & 19.00000 & 0 & 0 & 112053           & 30.0000 & B42         & 0 & 0 & 0 & 1\\\\\n",
       "\t889 & 889 & 0 & 3 & Johnston, Miss. Catherine Helen \"Carrie\"            & 0 & 29.69912 & 1 & 2 & W./C. 6607       & 23.4500 &             & 0 & 0 & 0 & 1\\\\\n",
       "\t890 & 890 & 1 & 1 & Behr, Mr. Karl Howell                               & 1 & 26.00000 & 0 & 0 & 111369           & 30.0000 & C148        & 0 & 1 & 0 & 0\\\\\n",
       "\t891 & 891 & 0 & 3 & Dooley, Mr. Patrick                                 & 1 & 32.00000 & 0 & 0 & 370376           &  7.7500 &             & 0 & 0 & 1 & 0\\\\\n",
       "\\end{tabular}\n"
      ],
      "text/markdown": [
       "\n",
       "A data.frame: 891 × 15\n",
       "\n",
       "| <!--/--> | PassengerId &lt;int&gt; | Survived &lt;int&gt; | Pclass &lt;int&gt; | Name &lt;fct&gt; | Sex &lt;dbl&gt; | Age &lt;dbl&gt; | SibSp &lt;int&gt; | Parch &lt;int&gt; | Ticket &lt;fct&gt; | Fare &lt;dbl&gt; | Cabin &lt;fct&gt; | Embarked. &lt;int&gt; | Embarked.C &lt;int&gt; | Embarked.Q &lt;int&gt; | Embarked.S &lt;int&gt; |\n",
       "|---|---|---|---|---|---|---|---|---|---|---|---|---|---|---|---|\n",
       "| 1 |  1 | 0 | 3 | Braund, Mr. Owen Harris                                   | 1 | 22.00000 | 1 | 0 | A/5 21171        |   7.2500 | <!----> | 0 | 0 | 0 | 1 |\n",
       "| 2 |  2 | 1 | 1 | Cumings, Mrs. John Bradley (Florence Briggs Thayer)       | 0 | 38.00000 | 1 | 0 | PC 17599         |  71.2833 | C85         | 0 | 1 | 0 | 0 |\n",
       "| 3 |  3 | 1 | 3 | Heikkinen, Miss. Laina                                    | 0 | 26.00000 | 0 | 0 | STON/O2. 3101282 |   7.9250 | <!----> | 0 | 0 | 0 | 1 |\n",
       "| 4 |  4 | 1 | 1 | Futrelle, Mrs. Jacques Heath (Lily May Peel)              | 0 | 35.00000 | 1 | 0 | 113803           |  53.1000 | C123        | 0 | 0 | 0 | 1 |\n",
       "| 5 |  5 | 0 | 3 | Allen, Mr. William Henry                                  | 1 | 35.00000 | 0 | 0 | 373450           |   8.0500 | <!----> | 0 | 0 | 0 | 1 |\n",
       "| 6 |  6 | 0 | 3 | Moran, Mr. James                                          | 1 | 29.69912 | 0 | 0 | 330877           |   8.4583 | <!----> | 0 | 0 | 1 | 0 |\n",
       "| 7 |  7 | 0 | 1 | McCarthy, Mr. Timothy J                                   | 1 | 54.00000 | 0 | 0 | 17463            |  51.8625 | E46         | 0 | 0 | 0 | 1 |\n",
       "| 8 |  8 | 0 | 3 | Palsson, Master. Gosta Leonard                            | 1 |  2.00000 | 3 | 1 | 349909           |  21.0750 | <!----> | 0 | 0 | 0 | 1 |\n",
       "| 9 |  9 | 1 | 3 | Johnson, Mrs. Oscar W (Elisabeth Vilhelmina Berg)         | 0 | 27.00000 | 0 | 2 | 347742           |  11.1333 | <!----> | 0 | 0 | 0 | 1 |\n",
       "| 10 | 10 | 1 | 2 | Nasser, Mrs. Nicholas (Adele Achem)                       | 0 | 14.00000 | 1 | 0 | 237736           |  30.0708 | <!----> | 0 | 1 | 0 | 0 |\n",
       "| 11 | 11 | 1 | 3 | Sandstrom, Miss. Marguerite Rut                           | 0 |  4.00000 | 1 | 1 | PP 9549          |  16.7000 | G6          | 0 | 0 | 0 | 1 |\n",
       "| 12 | 12 | 1 | 1 | Bonnell, Miss. Elizabeth                                  | 0 | 58.00000 | 0 | 0 | 113783           |  26.5500 | C103        | 0 | 0 | 0 | 1 |\n",
       "| 13 | 13 | 0 | 3 | Saundercock, Mr. William Henry                            | 1 | 20.00000 | 0 | 0 | A/5. 2151        |   8.0500 | <!----> | 0 | 0 | 0 | 1 |\n",
       "| 14 | 14 | 0 | 3 | Andersson, Mr. Anders Johan                               | 1 | 39.00000 | 1 | 5 | 347082           |  31.2750 | <!----> | 0 | 0 | 0 | 1 |\n",
       "| 15 | 15 | 0 | 3 | Vestrom, Miss. Hulda Amanda Adolfina                      | 0 | 14.00000 | 0 | 0 | 350406           |   7.8542 | <!----> | 0 | 0 | 0 | 1 |\n",
       "| 16 | 16 | 1 | 2 | Hewlett, Mrs. (Mary D Kingcome)                           | 0 | 55.00000 | 0 | 0 | 248706           |  16.0000 | <!----> | 0 | 0 | 0 | 1 |\n",
       "| 17 | 17 | 0 | 3 | Rice, Master. Eugene                                      | 1 |  2.00000 | 4 | 1 | 382652           |  29.1250 | <!----> | 0 | 0 | 1 | 0 |\n",
       "| 18 | 18 | 1 | 2 | Williams, Mr. Charles Eugene                              | 1 | 29.69912 | 0 | 0 | 244373           |  13.0000 | <!----> | 0 | 0 | 0 | 1 |\n",
       "| 19 | 19 | 0 | 3 | Vander Planke, Mrs. Julius (Emelia Maria Vandemoortele)   | 0 | 31.00000 | 1 | 0 | 345763           |  18.0000 | <!----> | 0 | 0 | 0 | 1 |\n",
       "| 20 | 20 | 1 | 3 | Masselmani, Mrs. Fatima                                   | 0 | 29.69912 | 0 | 0 | 2649             |   7.2250 | <!----> | 0 | 1 | 0 | 0 |\n",
       "| 21 | 21 | 0 | 2 | Fynney, Mr. Joseph J                                      | 1 | 35.00000 | 0 | 0 | 239865           |  26.0000 | <!----> | 0 | 0 | 0 | 1 |\n",
       "| 22 | 22 | 1 | 2 | Beesley, Mr. Lawrence                                     | 1 | 34.00000 | 0 | 0 | 248698           |  13.0000 | D56         | 0 | 0 | 0 | 1 |\n",
       "| 23 | 23 | 1 | 3 | McGowan, Miss. Anna \"Annie\"                               | 0 | 15.00000 | 0 | 0 | 330923           |   8.0292 | <!----> | 0 | 0 | 1 | 0 |\n",
       "| 24 | 24 | 1 | 1 | Sloper, Mr. William Thompson                              | 1 | 28.00000 | 0 | 0 | 113788           |  35.5000 | A6          | 0 | 0 | 0 | 1 |\n",
       "| 25 | 25 | 0 | 3 | Palsson, Miss. Torborg Danira                             | 0 |  8.00000 | 3 | 1 | 349909           |  21.0750 | <!----> | 0 | 0 | 0 | 1 |\n",
       "| 26 | 26 | 1 | 3 | Asplund, Mrs. Carl Oscar (Selma Augusta Emilia Johansson) | 0 | 38.00000 | 1 | 5 | 347077           |  31.3875 | <!----> | 0 | 0 | 0 | 1 |\n",
       "| 27 | 27 | 0 | 3 | Emir, Mr. Farred Chehab                                   | 1 | 29.69912 | 0 | 0 | 2631             |   7.2250 | <!----> | 0 | 1 | 0 | 0 |\n",
       "| 28 | 28 | 0 | 1 | Fortune, Mr. Charles Alexander                            | 1 | 19.00000 | 3 | 2 | 19950            | 263.0000 | C23 C25 C27 | 0 | 0 | 0 | 1 |\n",
       "| 29 | 29 | 1 | 3 | O'Dwyer, Miss. Ellen \"Nellie\"                             | 0 | 29.69912 | 0 | 0 | 330959           |   7.8792 | <!----> | 0 | 0 | 1 | 0 |\n",
       "| 30 | 30 | 0 | 3 | Todoroff, Mr. Lalio                                       | 1 | 29.69912 | 0 | 0 | 349216           |   7.8958 | <!----> | 0 | 0 | 0 | 1 |\n",
       "| ... | ... | ... | ... | ... | ... | ... | ... | ... | ... | ... | ... | ... | ... | ... | ... |\n",
       "| 862 | 862 | 0 | 2 | Giles, Mr. Frederick Edward                         | 1 | 21.00000 | 1 | 0 | 28134            | 11.5000 | <!----> | 0 | 0 | 0 | 1 |\n",
       "| 863 | 863 | 1 | 1 | Swift, Mrs. Frederick Joel (Margaret Welles Barron) | 0 | 48.00000 | 0 | 0 | 17466            | 25.9292 | D17         | 0 | 0 | 0 | 1 |\n",
       "| 864 | 864 | 0 | 3 | Sage, Miss. Dorothy Edith \"Dolly\"                   | 0 | 29.69912 | 8 | 2 | CA. 2343         | 69.5500 | <!----> | 0 | 0 | 0 | 1 |\n",
       "| 865 | 865 | 0 | 2 | Gill, Mr. John William                              | 1 | 24.00000 | 0 | 0 | 233866           | 13.0000 | <!----> | 0 | 0 | 0 | 1 |\n",
       "| 866 | 866 | 1 | 2 | Bystrom, Mrs. (Karolina)                            | 0 | 42.00000 | 0 | 0 | 236852           | 13.0000 | <!----> | 0 | 0 | 0 | 1 |\n",
       "| 867 | 867 | 1 | 2 | Duran y More, Miss. Asuncion                        | 0 | 27.00000 | 1 | 0 | SC/PARIS 2149    | 13.8583 | <!----> | 0 | 1 | 0 | 0 |\n",
       "| 868 | 868 | 0 | 1 | Roebling, Mr. Washington Augustus II                | 1 | 31.00000 | 0 | 0 | PC 17590         | 50.4958 | A24         | 0 | 0 | 0 | 1 |\n",
       "| 869 | 869 | 0 | 3 | van Melkebeke, Mr. Philemon                         | 1 | 29.69912 | 0 | 0 | 345777           |  9.5000 | <!----> | 0 | 0 | 0 | 1 |\n",
       "| 870 | 870 | 1 | 3 | Johnson, Master. Harold Theodor                     | 1 |  4.00000 | 1 | 1 | 347742           | 11.1333 | <!----> | 0 | 0 | 0 | 1 |\n",
       "| 871 | 871 | 0 | 3 | Balkic, Mr. Cerin                                   | 1 | 26.00000 | 0 | 0 | 349248           |  7.8958 | <!----> | 0 | 0 | 0 | 1 |\n",
       "| 872 | 872 | 1 | 1 | Beckwith, Mrs. Richard Leonard (Sallie Monypeny)    | 0 | 47.00000 | 1 | 1 | 11751            | 52.5542 | D35         | 0 | 0 | 0 | 1 |\n",
       "| 873 | 873 | 0 | 1 | Carlsson, Mr. Frans Olof                            | 1 | 33.00000 | 0 | 0 | 695              |  5.0000 | B51 B53 B55 | 0 | 0 | 0 | 1 |\n",
       "| 874 | 874 | 0 | 3 | Vander Cruyssen, Mr. Victor                         | 1 | 47.00000 | 0 | 0 | 345765           |  9.0000 | <!----> | 0 | 0 | 0 | 1 |\n",
       "| 875 | 875 | 1 | 2 | Abelson, Mrs. Samuel (Hannah Wizosky)               | 0 | 28.00000 | 1 | 0 | P/PP 3381        | 24.0000 | <!----> | 0 | 1 | 0 | 0 |\n",
       "| 876 | 876 | 1 | 3 | Najib, Miss. Adele Kiamie \"Jane\"                    | 0 | 15.00000 | 0 | 0 | 2667             |  7.2250 | <!----> | 0 | 1 | 0 | 0 |\n",
       "| 877 | 877 | 0 | 3 | Gustafsson, Mr. Alfred Ossian                       | 1 | 20.00000 | 0 | 0 | 7534             |  9.8458 | <!----> | 0 | 0 | 0 | 1 |\n",
       "| 878 | 878 | 0 | 3 | Petroff, Mr. Nedelio                                | 1 | 19.00000 | 0 | 0 | 349212           |  7.8958 | <!----> | 0 | 0 | 0 | 1 |\n",
       "| 879 | 879 | 0 | 3 | Laleff, Mr. Kristo                                  | 1 | 29.69912 | 0 | 0 | 349217           |  7.8958 | <!----> | 0 | 0 | 0 | 1 |\n",
       "| 880 | 880 | 1 | 1 | Potter, Mrs. Thomas Jr (Lily Alexenia Wilson)       | 0 | 56.00000 | 0 | 1 | 11767            | 83.1583 | C50         | 0 | 1 | 0 | 0 |\n",
       "| 881 | 881 | 1 | 2 | Shelley, Mrs. William (Imanita Parrish Hall)        | 0 | 25.00000 | 0 | 1 | 230433           | 26.0000 | <!----> | 0 | 0 | 0 | 1 |\n",
       "| 882 | 882 | 0 | 3 | Markun, Mr. Johann                                  | 1 | 33.00000 | 0 | 0 | 349257           |  7.8958 | <!----> | 0 | 0 | 0 | 1 |\n",
       "| 883 | 883 | 0 | 3 | Dahlberg, Miss. Gerda Ulrika                        | 0 | 22.00000 | 0 | 0 | 7552             | 10.5167 | <!----> | 0 | 0 | 0 | 1 |\n",
       "| 884 | 884 | 0 | 2 | Banfield, Mr. Frederick James                       | 1 | 28.00000 | 0 | 0 | C.A./SOTON 34068 | 10.5000 | <!----> | 0 | 0 | 0 | 1 |\n",
       "| 885 | 885 | 0 | 3 | Sutehall, Mr. Henry Jr                              | 1 | 25.00000 | 0 | 0 | SOTON/OQ 392076  |  7.0500 | <!----> | 0 | 0 | 0 | 1 |\n",
       "| 886 | 886 | 0 | 3 | Rice, Mrs. William (Margaret Norton)                | 0 | 39.00000 | 0 | 5 | 382652           | 29.1250 | <!----> | 0 | 0 | 1 | 0 |\n",
       "| 887 | 887 | 0 | 2 | Montvila, Rev. Juozas                               | 1 | 27.00000 | 0 | 0 | 211536           | 13.0000 | <!----> | 0 | 0 | 0 | 1 |\n",
       "| 888 | 888 | 1 | 1 | Graham, Miss. Margaret Edith                        | 0 | 19.00000 | 0 | 0 | 112053           | 30.0000 | B42         | 0 | 0 | 0 | 1 |\n",
       "| 889 | 889 | 0 | 3 | Johnston, Miss. Catherine Helen \"Carrie\"            | 0 | 29.69912 | 1 | 2 | W./C. 6607       | 23.4500 | <!----> | 0 | 0 | 0 | 1 |\n",
       "| 890 | 890 | 1 | 1 | Behr, Mr. Karl Howell                               | 1 | 26.00000 | 0 | 0 | 111369           | 30.0000 | C148        | 0 | 1 | 0 | 0 |\n",
       "| 891 | 891 | 0 | 3 | Dooley, Mr. Patrick                                 | 1 | 32.00000 | 0 | 0 | 370376           |  7.7500 | <!----> | 0 | 0 | 1 | 0 |\n",
       "\n"
      ],
      "text/plain": [
       "    PassengerId Survived Pclass\n",
       "1    1          0        3     \n",
       "2    2          1        1     \n",
       "3    3          1        3     \n",
       "4    4          1        1     \n",
       "5    5          0        3     \n",
       "6    6          0        3     \n",
       "7    7          0        1     \n",
       "8    8          0        3     \n",
       "9    9          1        3     \n",
       "10  10          1        2     \n",
       "11  11          1        3     \n",
       "12  12          1        1     \n",
       "13  13          0        3     \n",
       "14  14          0        3     \n",
       "15  15          0        3     \n",
       "16  16          1        2     \n",
       "17  17          0        3     \n",
       "18  18          1        2     \n",
       "19  19          0        3     \n",
       "20  20          1        3     \n",
       "21  21          0        2     \n",
       "22  22          1        2     \n",
       "23  23          1        3     \n",
       "24  24          1        1     \n",
       "25  25          0        3     \n",
       "26  26          1        3     \n",
       "27  27          0        3     \n",
       "28  28          0        1     \n",
       "29  29          1        3     \n",
       "30  30          0        3     \n",
       "... ...         ...      ...   \n",
       "862 862         0        2     \n",
       "863 863         1        1     \n",
       "864 864         0        3     \n",
       "865 865         0        2     \n",
       "866 866         1        2     \n",
       "867 867         1        2     \n",
       "868 868         0        1     \n",
       "869 869         0        3     \n",
       "870 870         1        3     \n",
       "871 871         0        3     \n",
       "872 872         1        1     \n",
       "873 873         0        1     \n",
       "874 874         0        3     \n",
       "875 875         1        2     \n",
       "876 876         1        3     \n",
       "877 877         0        3     \n",
       "878 878         0        3     \n",
       "879 879         0        3     \n",
       "880 880         1        1     \n",
       "881 881         1        2     \n",
       "882 882         0        3     \n",
       "883 883         0        3     \n",
       "884 884         0        2     \n",
       "885 885         0        3     \n",
       "886 886         0        3     \n",
       "887 887         0        2     \n",
       "888 888         1        1     \n",
       "889 889         0        3     \n",
       "890 890         1        1     \n",
       "891 891         0        3     \n",
       "    Name                                                      Sex Age     \n",
       "1   Braund, Mr. Owen Harris                                   1   22.00000\n",
       "2   Cumings, Mrs. John Bradley (Florence Briggs Thayer)       0   38.00000\n",
       "3   Heikkinen, Miss. Laina                                    0   26.00000\n",
       "4   Futrelle, Mrs. Jacques Heath (Lily May Peel)              0   35.00000\n",
       "5   Allen, Mr. William Henry                                  1   35.00000\n",
       "6   Moran, Mr. James                                          1   29.69912\n",
       "7   McCarthy, Mr. Timothy J                                   1   54.00000\n",
       "8   Palsson, Master. Gosta Leonard                            1    2.00000\n",
       "9   Johnson, Mrs. Oscar W (Elisabeth Vilhelmina Berg)         0   27.00000\n",
       "10  Nasser, Mrs. Nicholas (Adele Achem)                       0   14.00000\n",
       "11  Sandstrom, Miss. Marguerite Rut                           0    4.00000\n",
       "12  Bonnell, Miss. Elizabeth                                  0   58.00000\n",
       "13  Saundercock, Mr. William Henry                            1   20.00000\n",
       "14  Andersson, Mr. Anders Johan                               1   39.00000\n",
       "15  Vestrom, Miss. Hulda Amanda Adolfina                      0   14.00000\n",
       "16  Hewlett, Mrs. (Mary D Kingcome)                           0   55.00000\n",
       "17  Rice, Master. Eugene                                      1    2.00000\n",
       "18  Williams, Mr. Charles Eugene                              1   29.69912\n",
       "19  Vander Planke, Mrs. Julius (Emelia Maria Vandemoortele)   0   31.00000\n",
       "20  Masselmani, Mrs. Fatima                                   0   29.69912\n",
       "21  Fynney, Mr. Joseph J                                      1   35.00000\n",
       "22  Beesley, Mr. Lawrence                                     1   34.00000\n",
       "23  McGowan, Miss. Anna \"Annie\"                               0   15.00000\n",
       "24  Sloper, Mr. William Thompson                              1   28.00000\n",
       "25  Palsson, Miss. Torborg Danira                             0    8.00000\n",
       "26  Asplund, Mrs. Carl Oscar (Selma Augusta Emilia Johansson) 0   38.00000\n",
       "27  Emir, Mr. Farred Chehab                                   1   29.69912\n",
       "28  Fortune, Mr. Charles Alexander                            1   19.00000\n",
       "29  O'Dwyer, Miss. Ellen \"Nellie\"                             0   29.69912\n",
       "30  Todoroff, Mr. Lalio                                       1   29.69912\n",
       "... ...                                                       ... ...     \n",
       "862 Giles, Mr. Frederick Edward                               1   21.00000\n",
       "863 Swift, Mrs. Frederick Joel (Margaret Welles Barron)       0   48.00000\n",
       "864 Sage, Miss. Dorothy Edith \"Dolly\"                         0   29.69912\n",
       "865 Gill, Mr. John William                                    1   24.00000\n",
       "866 Bystrom, Mrs. (Karolina)                                  0   42.00000\n",
       "867 Duran y More, Miss. Asuncion                              0   27.00000\n",
       "868 Roebling, Mr. Washington Augustus II                      1   31.00000\n",
       "869 van Melkebeke, Mr. Philemon                               1   29.69912\n",
       "870 Johnson, Master. Harold Theodor                           1    4.00000\n",
       "871 Balkic, Mr. Cerin                                         1   26.00000\n",
       "872 Beckwith, Mrs. Richard Leonard (Sallie Monypeny)          0   47.00000\n",
       "873 Carlsson, Mr. Frans Olof                                  1   33.00000\n",
       "874 Vander Cruyssen, Mr. Victor                               1   47.00000\n",
       "875 Abelson, Mrs. Samuel (Hannah Wizosky)                     0   28.00000\n",
       "876 Najib, Miss. Adele Kiamie \"Jane\"                          0   15.00000\n",
       "877 Gustafsson, Mr. Alfred Ossian                             1   20.00000\n",
       "878 Petroff, Mr. Nedelio                                      1   19.00000\n",
       "879 Laleff, Mr. Kristo                                        1   29.69912\n",
       "880 Potter, Mrs. Thomas Jr (Lily Alexenia Wilson)             0   56.00000\n",
       "881 Shelley, Mrs. William (Imanita Parrish Hall)              0   25.00000\n",
       "882 Markun, Mr. Johann                                        1   33.00000\n",
       "883 Dahlberg, Miss. Gerda Ulrika                              0   22.00000\n",
       "884 Banfield, Mr. Frederick James                             1   28.00000\n",
       "885 Sutehall, Mr. Henry Jr                                    1   25.00000\n",
       "886 Rice, Mrs. William (Margaret Norton)                      0   39.00000\n",
       "887 Montvila, Rev. Juozas                                     1   27.00000\n",
       "888 Graham, Miss. Margaret Edith                              0   19.00000\n",
       "889 Johnston, Miss. Catherine Helen \"Carrie\"                  0   29.69912\n",
       "890 Behr, Mr. Karl Howell                                     1   26.00000\n",
       "891 Dooley, Mr. Patrick                                       1   32.00000\n",
       "    SibSp Parch Ticket           Fare     Cabin       Embarked. Embarked.C\n",
       "1   1     0     A/5 21171          7.2500             0         0         \n",
       "2   1     0     PC 17599          71.2833 C85         0         1         \n",
       "3   0     0     STON/O2. 3101282   7.9250             0         0         \n",
       "4   1     0     113803            53.1000 C123        0         0         \n",
       "5   0     0     373450             8.0500             0         0         \n",
       "6   0     0     330877             8.4583             0         0         \n",
       "7   0     0     17463             51.8625 E46         0         0         \n",
       "8   3     1     349909            21.0750             0         0         \n",
       "9   0     2     347742            11.1333             0         0         \n",
       "10  1     0     237736            30.0708             0         1         \n",
       "11  1     1     PP 9549           16.7000 G6          0         0         \n",
       "12  0     0     113783            26.5500 C103        0         0         \n",
       "13  0     0     A/5. 2151          8.0500             0         0         \n",
       "14  1     5     347082            31.2750             0         0         \n",
       "15  0     0     350406             7.8542             0         0         \n",
       "16  0     0     248706            16.0000             0         0         \n",
       "17  4     1     382652            29.1250             0         0         \n",
       "18  0     0     244373            13.0000             0         0         \n",
       "19  1     0     345763            18.0000             0         0         \n",
       "20  0     0     2649               7.2250             0         1         \n",
       "21  0     0     239865            26.0000             0         0         \n",
       "22  0     0     248698            13.0000 D56         0         0         \n",
       "23  0     0     330923             8.0292             0         0         \n",
       "24  0     0     113788            35.5000 A6          0         0         \n",
       "25  3     1     349909            21.0750             0         0         \n",
       "26  1     5     347077            31.3875             0         0         \n",
       "27  0     0     2631               7.2250             0         1         \n",
       "28  3     2     19950            263.0000 C23 C25 C27 0         0         \n",
       "29  0     0     330959             7.8792             0         0         \n",
       "30  0     0     349216             7.8958             0         0         \n",
       "... ...   ...   ...              ...      ...         ...       ...       \n",
       "862 1     0     28134            11.5000              0         0         \n",
       "863 0     0     17466            25.9292  D17         0         0         \n",
       "864 8     2     CA. 2343         69.5500              0         0         \n",
       "865 0     0     233866           13.0000              0         0         \n",
       "866 0     0     236852           13.0000              0         0         \n",
       "867 1     0     SC/PARIS 2149    13.8583              0         1         \n",
       "868 0     0     PC 17590         50.4958  A24         0         0         \n",
       "869 0     0     345777            9.5000              0         0         \n",
       "870 1     1     347742           11.1333              0         0         \n",
       "871 0     0     349248            7.8958              0         0         \n",
       "872 1     1     11751            52.5542  D35         0         0         \n",
       "873 0     0     695               5.0000  B51 B53 B55 0         0         \n",
       "874 0     0     345765            9.0000              0         0         \n",
       "875 1     0     P/PP 3381        24.0000              0         1         \n",
       "876 0     0     2667              7.2250              0         1         \n",
       "877 0     0     7534              9.8458              0         0         \n",
       "878 0     0     349212            7.8958              0         0         \n",
       "879 0     0     349217            7.8958              0         0         \n",
       "880 0     1     11767            83.1583  C50         0         1         \n",
       "881 0     1     230433           26.0000              0         0         \n",
       "882 0     0     349257            7.8958              0         0         \n",
       "883 0     0     7552             10.5167              0         0         \n",
       "884 0     0     C.A./SOTON 34068 10.5000              0         0         \n",
       "885 0     0     SOTON/OQ 392076   7.0500              0         0         \n",
       "886 0     5     382652           29.1250              0         0         \n",
       "887 0     0     211536           13.0000              0         0         \n",
       "888 0     0     112053           30.0000  B42         0         0         \n",
       "889 1     2     W./C. 6607       23.4500              0         0         \n",
       "890 0     0     111369           30.0000  C148        0         1         \n",
       "891 0     0     370376            7.7500              0         0         \n",
       "    Embarked.Q Embarked.S\n",
       "1   0          1         \n",
       "2   0          0         \n",
       "3   0          1         \n",
       "4   0          1         \n",
       "5   0          1         \n",
       "6   1          0         \n",
       "7   0          1         \n",
       "8   0          1         \n",
       "9   0          1         \n",
       "10  0          0         \n",
       "11  0          1         \n",
       "12  0          1         \n",
       "13  0          1         \n",
       "14  0          1         \n",
       "15  0          1         \n",
       "16  0          1         \n",
       "17  1          0         \n",
       "18  0          1         \n",
       "19  0          1         \n",
       "20  0          0         \n",
       "21  0          1         \n",
       "22  0          1         \n",
       "23  1          0         \n",
       "24  0          1         \n",
       "25  0          1         \n",
       "26  0          1         \n",
       "27  0          0         \n",
       "28  0          1         \n",
       "29  1          0         \n",
       "30  0          1         \n",
       "... ...        ...       \n",
       "862 0          1         \n",
       "863 0          1         \n",
       "864 0          1         \n",
       "865 0          1         \n",
       "866 0          1         \n",
       "867 0          0         \n",
       "868 0          1         \n",
       "869 0          1         \n",
       "870 0          1         \n",
       "871 0          1         \n",
       "872 0          1         \n",
       "873 0          1         \n",
       "874 0          1         \n",
       "875 0          0         \n",
       "876 0          0         \n",
       "877 0          1         \n",
       "878 0          1         \n",
       "879 0          1         \n",
       "880 0          0         \n",
       "881 0          1         \n",
       "882 0          1         \n",
       "883 0          1         \n",
       "884 0          1         \n",
       "885 0          1         \n",
       "886 1          0         \n",
       "887 0          1         \n",
       "888 0          1         \n",
       "889 0          1         \n",
       "890 0          0         \n",
       "891 1          0         "
      ]
     },
     "metadata": {},
     "output_type": "display_data"
    }
   ],
   "source": [
    "titanic_dummy"
   ]
  },
  {
   "cell_type": "code",
   "execution_count": 28,
   "metadata": {},
   "outputs": [],
   "source": [
    "titanic_dummy = titanic_dummy[,0:14]"
   ]
  },
  {
   "cell_type": "code",
   "execution_count": 29,
   "metadata": {},
   "outputs": [
    {
     "data": {
      "text/html": [
       "<table>\n",
       "<caption>A data.frame: 891 × 14</caption>\n",
       "<thead>\n",
       "\t<tr><th></th><th scope=col>PassengerId</th><th scope=col>Survived</th><th scope=col>Pclass</th><th scope=col>Name</th><th scope=col>Sex</th><th scope=col>Age</th><th scope=col>SibSp</th><th scope=col>Parch</th><th scope=col>Ticket</th><th scope=col>Fare</th><th scope=col>Cabin</th><th scope=col>Embarked.</th><th scope=col>Embarked.C</th><th scope=col>Embarked.Q</th></tr>\n",
       "\t<tr><th></th><th scope=col>&lt;int&gt;</th><th scope=col>&lt;int&gt;</th><th scope=col>&lt;int&gt;</th><th scope=col>&lt;fct&gt;</th><th scope=col>&lt;dbl&gt;</th><th scope=col>&lt;dbl&gt;</th><th scope=col>&lt;int&gt;</th><th scope=col>&lt;int&gt;</th><th scope=col>&lt;fct&gt;</th><th scope=col>&lt;dbl&gt;</th><th scope=col>&lt;fct&gt;</th><th scope=col>&lt;int&gt;</th><th scope=col>&lt;int&gt;</th><th scope=col>&lt;int&gt;</th></tr>\n",
       "</thead>\n",
       "<tbody>\n",
       "\t<tr><th scope=row>1</th><td> 1</td><td>0</td><td>3</td><td>Braund, Mr. Owen Harris                                  </td><td>1</td><td>22.00000</td><td>1</td><td>0</td><td>A/5 21171       </td><td>  7.2500</td><td>           </td><td>0</td><td>0</td><td>0</td></tr>\n",
       "\t<tr><th scope=row>2</th><td> 2</td><td>1</td><td>1</td><td>Cumings, Mrs. John Bradley (Florence Briggs Thayer)      </td><td>0</td><td>38.00000</td><td>1</td><td>0</td><td>PC 17599        </td><td> 71.2833</td><td>C85        </td><td>0</td><td>1</td><td>0</td></tr>\n",
       "\t<tr><th scope=row>3</th><td> 3</td><td>1</td><td>3</td><td>Heikkinen, Miss. Laina                                   </td><td>0</td><td>26.00000</td><td>0</td><td>0</td><td>STON/O2. 3101282</td><td>  7.9250</td><td>           </td><td>0</td><td>0</td><td>0</td></tr>\n",
       "\t<tr><th scope=row>4</th><td> 4</td><td>1</td><td>1</td><td>Futrelle, Mrs. Jacques Heath (Lily May Peel)             </td><td>0</td><td>35.00000</td><td>1</td><td>0</td><td>113803          </td><td> 53.1000</td><td>C123       </td><td>0</td><td>0</td><td>0</td></tr>\n",
       "\t<tr><th scope=row>5</th><td> 5</td><td>0</td><td>3</td><td>Allen, Mr. William Henry                                 </td><td>1</td><td>35.00000</td><td>0</td><td>0</td><td>373450          </td><td>  8.0500</td><td>           </td><td>0</td><td>0</td><td>0</td></tr>\n",
       "\t<tr><th scope=row>6</th><td> 6</td><td>0</td><td>3</td><td>Moran, Mr. James                                         </td><td>1</td><td>29.69912</td><td>0</td><td>0</td><td>330877          </td><td>  8.4583</td><td>           </td><td>0</td><td>0</td><td>1</td></tr>\n",
       "\t<tr><th scope=row>7</th><td> 7</td><td>0</td><td>1</td><td>McCarthy, Mr. Timothy J                                  </td><td>1</td><td>54.00000</td><td>0</td><td>0</td><td>17463           </td><td> 51.8625</td><td>E46        </td><td>0</td><td>0</td><td>0</td></tr>\n",
       "\t<tr><th scope=row>8</th><td> 8</td><td>0</td><td>3</td><td>Palsson, Master. Gosta Leonard                           </td><td>1</td><td> 2.00000</td><td>3</td><td>1</td><td>349909          </td><td> 21.0750</td><td>           </td><td>0</td><td>0</td><td>0</td></tr>\n",
       "\t<tr><th scope=row>9</th><td> 9</td><td>1</td><td>3</td><td>Johnson, Mrs. Oscar W (Elisabeth Vilhelmina Berg)        </td><td>0</td><td>27.00000</td><td>0</td><td>2</td><td>347742          </td><td> 11.1333</td><td>           </td><td>0</td><td>0</td><td>0</td></tr>\n",
       "\t<tr><th scope=row>10</th><td>10</td><td>1</td><td>2</td><td>Nasser, Mrs. Nicholas (Adele Achem)                      </td><td>0</td><td>14.00000</td><td>1</td><td>0</td><td>237736          </td><td> 30.0708</td><td>           </td><td>0</td><td>1</td><td>0</td></tr>\n",
       "\t<tr><th scope=row>11</th><td>11</td><td>1</td><td>3</td><td>Sandstrom, Miss. Marguerite Rut                          </td><td>0</td><td> 4.00000</td><td>1</td><td>1</td><td>PP 9549         </td><td> 16.7000</td><td>G6         </td><td>0</td><td>0</td><td>0</td></tr>\n",
       "\t<tr><th scope=row>12</th><td>12</td><td>1</td><td>1</td><td>Bonnell, Miss. Elizabeth                                 </td><td>0</td><td>58.00000</td><td>0</td><td>0</td><td>113783          </td><td> 26.5500</td><td>C103       </td><td>0</td><td>0</td><td>0</td></tr>\n",
       "\t<tr><th scope=row>13</th><td>13</td><td>0</td><td>3</td><td>Saundercock, Mr. William Henry                           </td><td>1</td><td>20.00000</td><td>0</td><td>0</td><td>A/5. 2151       </td><td>  8.0500</td><td>           </td><td>0</td><td>0</td><td>0</td></tr>\n",
       "\t<tr><th scope=row>14</th><td>14</td><td>0</td><td>3</td><td>Andersson, Mr. Anders Johan                              </td><td>1</td><td>39.00000</td><td>1</td><td>5</td><td>347082          </td><td> 31.2750</td><td>           </td><td>0</td><td>0</td><td>0</td></tr>\n",
       "\t<tr><th scope=row>15</th><td>15</td><td>0</td><td>3</td><td>Vestrom, Miss. Hulda Amanda Adolfina                     </td><td>0</td><td>14.00000</td><td>0</td><td>0</td><td>350406          </td><td>  7.8542</td><td>           </td><td>0</td><td>0</td><td>0</td></tr>\n",
       "\t<tr><th scope=row>16</th><td>16</td><td>1</td><td>2</td><td>Hewlett, Mrs. (Mary D Kingcome)                          </td><td>0</td><td>55.00000</td><td>0</td><td>0</td><td>248706          </td><td> 16.0000</td><td>           </td><td>0</td><td>0</td><td>0</td></tr>\n",
       "\t<tr><th scope=row>17</th><td>17</td><td>0</td><td>3</td><td>Rice, Master. Eugene                                     </td><td>1</td><td> 2.00000</td><td>4</td><td>1</td><td>382652          </td><td> 29.1250</td><td>           </td><td>0</td><td>0</td><td>1</td></tr>\n",
       "\t<tr><th scope=row>18</th><td>18</td><td>1</td><td>2</td><td>Williams, Mr. Charles Eugene                             </td><td>1</td><td>29.69912</td><td>0</td><td>0</td><td>244373          </td><td> 13.0000</td><td>           </td><td>0</td><td>0</td><td>0</td></tr>\n",
       "\t<tr><th scope=row>19</th><td>19</td><td>0</td><td>3</td><td>Vander Planke, Mrs. Julius (Emelia Maria Vandemoortele)  </td><td>0</td><td>31.00000</td><td>1</td><td>0</td><td>345763          </td><td> 18.0000</td><td>           </td><td>0</td><td>0</td><td>0</td></tr>\n",
       "\t<tr><th scope=row>20</th><td>20</td><td>1</td><td>3</td><td>Masselmani, Mrs. Fatima                                  </td><td>0</td><td>29.69912</td><td>0</td><td>0</td><td>2649            </td><td>  7.2250</td><td>           </td><td>0</td><td>1</td><td>0</td></tr>\n",
       "\t<tr><th scope=row>21</th><td>21</td><td>0</td><td>2</td><td>Fynney, Mr. Joseph J                                     </td><td>1</td><td>35.00000</td><td>0</td><td>0</td><td>239865          </td><td> 26.0000</td><td>           </td><td>0</td><td>0</td><td>0</td></tr>\n",
       "\t<tr><th scope=row>22</th><td>22</td><td>1</td><td>2</td><td>Beesley, Mr. Lawrence                                    </td><td>1</td><td>34.00000</td><td>0</td><td>0</td><td>248698          </td><td> 13.0000</td><td>D56        </td><td>0</td><td>0</td><td>0</td></tr>\n",
       "\t<tr><th scope=row>23</th><td>23</td><td>1</td><td>3</td><td>McGowan, Miss. Anna \"Annie\"                              </td><td>0</td><td>15.00000</td><td>0</td><td>0</td><td>330923          </td><td>  8.0292</td><td>           </td><td>0</td><td>0</td><td>1</td></tr>\n",
       "\t<tr><th scope=row>24</th><td>24</td><td>1</td><td>1</td><td>Sloper, Mr. William Thompson                             </td><td>1</td><td>28.00000</td><td>0</td><td>0</td><td>113788          </td><td> 35.5000</td><td>A6         </td><td>0</td><td>0</td><td>0</td></tr>\n",
       "\t<tr><th scope=row>25</th><td>25</td><td>0</td><td>3</td><td>Palsson, Miss. Torborg Danira                            </td><td>0</td><td> 8.00000</td><td>3</td><td>1</td><td>349909          </td><td> 21.0750</td><td>           </td><td>0</td><td>0</td><td>0</td></tr>\n",
       "\t<tr><th scope=row>26</th><td>26</td><td>1</td><td>3</td><td>Asplund, Mrs. Carl Oscar (Selma Augusta Emilia Johansson)</td><td>0</td><td>38.00000</td><td>1</td><td>5</td><td>347077          </td><td> 31.3875</td><td>           </td><td>0</td><td>0</td><td>0</td></tr>\n",
       "\t<tr><th scope=row>27</th><td>27</td><td>0</td><td>3</td><td>Emir, Mr. Farred Chehab                                  </td><td>1</td><td>29.69912</td><td>0</td><td>0</td><td>2631            </td><td>  7.2250</td><td>           </td><td>0</td><td>1</td><td>0</td></tr>\n",
       "\t<tr><th scope=row>28</th><td>28</td><td>0</td><td>1</td><td>Fortune, Mr. Charles Alexander                           </td><td>1</td><td>19.00000</td><td>3</td><td>2</td><td>19950           </td><td>263.0000</td><td>C23 C25 C27</td><td>0</td><td>0</td><td>0</td></tr>\n",
       "\t<tr><th scope=row>29</th><td>29</td><td>1</td><td>3</td><td>O'Dwyer, Miss. Ellen \"Nellie\"                            </td><td>0</td><td>29.69912</td><td>0</td><td>0</td><td>330959          </td><td>  7.8792</td><td>           </td><td>0</td><td>0</td><td>1</td></tr>\n",
       "\t<tr><th scope=row>30</th><td>30</td><td>0</td><td>3</td><td>Todoroff, Mr. Lalio                                      </td><td>1</td><td>29.69912</td><td>0</td><td>0</td><td>349216          </td><td>  7.8958</td><td>           </td><td>0</td><td>0</td><td>0</td></tr>\n",
       "\t<tr><th scope=row>...</th><td>...</td><td>...</td><td>...</td><td>...</td><td>...</td><td>...</td><td>...</td><td>...</td><td>...</td><td>...</td><td>...</td><td>...</td><td>...</td><td>...</td></tr>\n",
       "\t<tr><th scope=row>862</th><td>862</td><td>0</td><td>2</td><td>Giles, Mr. Frederick Edward                        </td><td>1</td><td>21.00000</td><td>1</td><td>0</td><td>28134           </td><td>11.5000</td><td>           </td><td>0</td><td>0</td><td>0</td></tr>\n",
       "\t<tr><th scope=row>863</th><td>863</td><td>1</td><td>1</td><td>Swift, Mrs. Frederick Joel (Margaret Welles Barron)</td><td>0</td><td>48.00000</td><td>0</td><td>0</td><td>17466           </td><td>25.9292</td><td>D17        </td><td>0</td><td>0</td><td>0</td></tr>\n",
       "\t<tr><th scope=row>864</th><td>864</td><td>0</td><td>3</td><td>Sage, Miss. Dorothy Edith \"Dolly\"                  </td><td>0</td><td>29.69912</td><td>8</td><td>2</td><td>CA. 2343        </td><td>69.5500</td><td>           </td><td>0</td><td>0</td><td>0</td></tr>\n",
       "\t<tr><th scope=row>865</th><td>865</td><td>0</td><td>2</td><td>Gill, Mr. John William                             </td><td>1</td><td>24.00000</td><td>0</td><td>0</td><td>233866          </td><td>13.0000</td><td>           </td><td>0</td><td>0</td><td>0</td></tr>\n",
       "\t<tr><th scope=row>866</th><td>866</td><td>1</td><td>2</td><td>Bystrom, Mrs. (Karolina)                           </td><td>0</td><td>42.00000</td><td>0</td><td>0</td><td>236852          </td><td>13.0000</td><td>           </td><td>0</td><td>0</td><td>0</td></tr>\n",
       "\t<tr><th scope=row>867</th><td>867</td><td>1</td><td>2</td><td>Duran y More, Miss. Asuncion                       </td><td>0</td><td>27.00000</td><td>1</td><td>0</td><td>SC/PARIS 2149   </td><td>13.8583</td><td>           </td><td>0</td><td>1</td><td>0</td></tr>\n",
       "\t<tr><th scope=row>868</th><td>868</td><td>0</td><td>1</td><td>Roebling, Mr. Washington Augustus II               </td><td>1</td><td>31.00000</td><td>0</td><td>0</td><td>PC 17590        </td><td>50.4958</td><td>A24        </td><td>0</td><td>0</td><td>0</td></tr>\n",
       "\t<tr><th scope=row>869</th><td>869</td><td>0</td><td>3</td><td>van Melkebeke, Mr. Philemon                        </td><td>1</td><td>29.69912</td><td>0</td><td>0</td><td>345777          </td><td> 9.5000</td><td>           </td><td>0</td><td>0</td><td>0</td></tr>\n",
       "\t<tr><th scope=row>870</th><td>870</td><td>1</td><td>3</td><td>Johnson, Master. Harold Theodor                    </td><td>1</td><td> 4.00000</td><td>1</td><td>1</td><td>347742          </td><td>11.1333</td><td>           </td><td>0</td><td>0</td><td>0</td></tr>\n",
       "\t<tr><th scope=row>871</th><td>871</td><td>0</td><td>3</td><td>Balkic, Mr. Cerin                                  </td><td>1</td><td>26.00000</td><td>0</td><td>0</td><td>349248          </td><td> 7.8958</td><td>           </td><td>0</td><td>0</td><td>0</td></tr>\n",
       "\t<tr><th scope=row>872</th><td>872</td><td>1</td><td>1</td><td>Beckwith, Mrs. Richard Leonard (Sallie Monypeny)   </td><td>0</td><td>47.00000</td><td>1</td><td>1</td><td>11751           </td><td>52.5542</td><td>D35        </td><td>0</td><td>0</td><td>0</td></tr>\n",
       "\t<tr><th scope=row>873</th><td>873</td><td>0</td><td>1</td><td>Carlsson, Mr. Frans Olof                           </td><td>1</td><td>33.00000</td><td>0</td><td>0</td><td>695             </td><td> 5.0000</td><td>B51 B53 B55</td><td>0</td><td>0</td><td>0</td></tr>\n",
       "\t<tr><th scope=row>874</th><td>874</td><td>0</td><td>3</td><td>Vander Cruyssen, Mr. Victor                        </td><td>1</td><td>47.00000</td><td>0</td><td>0</td><td>345765          </td><td> 9.0000</td><td>           </td><td>0</td><td>0</td><td>0</td></tr>\n",
       "\t<tr><th scope=row>875</th><td>875</td><td>1</td><td>2</td><td>Abelson, Mrs. Samuel (Hannah Wizosky)              </td><td>0</td><td>28.00000</td><td>1</td><td>0</td><td>P/PP 3381       </td><td>24.0000</td><td>           </td><td>0</td><td>1</td><td>0</td></tr>\n",
       "\t<tr><th scope=row>876</th><td>876</td><td>1</td><td>3</td><td>Najib, Miss. Adele Kiamie \"Jane\"                   </td><td>0</td><td>15.00000</td><td>0</td><td>0</td><td>2667            </td><td> 7.2250</td><td>           </td><td>0</td><td>1</td><td>0</td></tr>\n",
       "\t<tr><th scope=row>877</th><td>877</td><td>0</td><td>3</td><td>Gustafsson, Mr. Alfred Ossian                      </td><td>1</td><td>20.00000</td><td>0</td><td>0</td><td>7534            </td><td> 9.8458</td><td>           </td><td>0</td><td>0</td><td>0</td></tr>\n",
       "\t<tr><th scope=row>878</th><td>878</td><td>0</td><td>3</td><td>Petroff, Mr. Nedelio                               </td><td>1</td><td>19.00000</td><td>0</td><td>0</td><td>349212          </td><td> 7.8958</td><td>           </td><td>0</td><td>0</td><td>0</td></tr>\n",
       "\t<tr><th scope=row>879</th><td>879</td><td>0</td><td>3</td><td>Laleff, Mr. Kristo                                 </td><td>1</td><td>29.69912</td><td>0</td><td>0</td><td>349217          </td><td> 7.8958</td><td>           </td><td>0</td><td>0</td><td>0</td></tr>\n",
       "\t<tr><th scope=row>880</th><td>880</td><td>1</td><td>1</td><td>Potter, Mrs. Thomas Jr (Lily Alexenia Wilson)      </td><td>0</td><td>56.00000</td><td>0</td><td>1</td><td>11767           </td><td>83.1583</td><td>C50        </td><td>0</td><td>1</td><td>0</td></tr>\n",
       "\t<tr><th scope=row>881</th><td>881</td><td>1</td><td>2</td><td>Shelley, Mrs. William (Imanita Parrish Hall)       </td><td>0</td><td>25.00000</td><td>0</td><td>1</td><td>230433          </td><td>26.0000</td><td>           </td><td>0</td><td>0</td><td>0</td></tr>\n",
       "\t<tr><th scope=row>882</th><td>882</td><td>0</td><td>3</td><td>Markun, Mr. Johann                                 </td><td>1</td><td>33.00000</td><td>0</td><td>0</td><td>349257          </td><td> 7.8958</td><td>           </td><td>0</td><td>0</td><td>0</td></tr>\n",
       "\t<tr><th scope=row>883</th><td>883</td><td>0</td><td>3</td><td>Dahlberg, Miss. Gerda Ulrika                       </td><td>0</td><td>22.00000</td><td>0</td><td>0</td><td>7552            </td><td>10.5167</td><td>           </td><td>0</td><td>0</td><td>0</td></tr>\n",
       "\t<tr><th scope=row>884</th><td>884</td><td>0</td><td>2</td><td>Banfield, Mr. Frederick James                      </td><td>1</td><td>28.00000</td><td>0</td><td>0</td><td>C.A./SOTON 34068</td><td>10.5000</td><td>           </td><td>0</td><td>0</td><td>0</td></tr>\n",
       "\t<tr><th scope=row>885</th><td>885</td><td>0</td><td>3</td><td>Sutehall, Mr. Henry Jr                             </td><td>1</td><td>25.00000</td><td>0</td><td>0</td><td>SOTON/OQ 392076 </td><td> 7.0500</td><td>           </td><td>0</td><td>0</td><td>0</td></tr>\n",
       "\t<tr><th scope=row>886</th><td>886</td><td>0</td><td>3</td><td>Rice, Mrs. William (Margaret Norton)               </td><td>0</td><td>39.00000</td><td>0</td><td>5</td><td>382652          </td><td>29.1250</td><td>           </td><td>0</td><td>0</td><td>1</td></tr>\n",
       "\t<tr><th scope=row>887</th><td>887</td><td>0</td><td>2</td><td>Montvila, Rev. Juozas                              </td><td>1</td><td>27.00000</td><td>0</td><td>0</td><td>211536          </td><td>13.0000</td><td>           </td><td>0</td><td>0</td><td>0</td></tr>\n",
       "\t<tr><th scope=row>888</th><td>888</td><td>1</td><td>1</td><td>Graham, Miss. Margaret Edith                       </td><td>0</td><td>19.00000</td><td>0</td><td>0</td><td>112053          </td><td>30.0000</td><td>B42        </td><td>0</td><td>0</td><td>0</td></tr>\n",
       "\t<tr><th scope=row>889</th><td>889</td><td>0</td><td>3</td><td>Johnston, Miss. Catherine Helen \"Carrie\"           </td><td>0</td><td>29.69912</td><td>1</td><td>2</td><td>W./C. 6607      </td><td>23.4500</td><td>           </td><td>0</td><td>0</td><td>0</td></tr>\n",
       "\t<tr><th scope=row>890</th><td>890</td><td>1</td><td>1</td><td>Behr, Mr. Karl Howell                              </td><td>1</td><td>26.00000</td><td>0</td><td>0</td><td>111369          </td><td>30.0000</td><td>C148       </td><td>0</td><td>1</td><td>0</td></tr>\n",
       "\t<tr><th scope=row>891</th><td>891</td><td>0</td><td>3</td><td>Dooley, Mr. Patrick                                </td><td>1</td><td>32.00000</td><td>0</td><td>0</td><td>370376          </td><td> 7.7500</td><td>           </td><td>0</td><td>0</td><td>1</td></tr>\n",
       "</tbody>\n",
       "</table>\n"
      ],
      "text/latex": [
       "A data.frame: 891 × 14\n",
       "\\begin{tabular}{r|llllllllllllll}\n",
       "  & PassengerId & Survived & Pclass & Name & Sex & Age & SibSp & Parch & Ticket & Fare & Cabin & Embarked. & Embarked.C & Embarked.Q\\\\\n",
       "  & <int> & <int> & <int> & <fct> & <dbl> & <dbl> & <int> & <int> & <fct> & <dbl> & <fct> & <int> & <int> & <int>\\\\\n",
       "\\hline\n",
       "\t1 &  1 & 0 & 3 & Braund, Mr. Owen Harris                                   & 1 & 22.00000 & 1 & 0 & A/5 21171        &   7.2500 &             & 0 & 0 & 0\\\\\n",
       "\t2 &  2 & 1 & 1 & Cumings, Mrs. John Bradley (Florence Briggs Thayer)       & 0 & 38.00000 & 1 & 0 & PC 17599         &  71.2833 & C85         & 0 & 1 & 0\\\\\n",
       "\t3 &  3 & 1 & 3 & Heikkinen, Miss. Laina                                    & 0 & 26.00000 & 0 & 0 & STON/O2. 3101282 &   7.9250 &             & 0 & 0 & 0\\\\\n",
       "\t4 &  4 & 1 & 1 & Futrelle, Mrs. Jacques Heath (Lily May Peel)              & 0 & 35.00000 & 1 & 0 & 113803           &  53.1000 & C123        & 0 & 0 & 0\\\\\n",
       "\t5 &  5 & 0 & 3 & Allen, Mr. William Henry                                  & 1 & 35.00000 & 0 & 0 & 373450           &   8.0500 &             & 0 & 0 & 0\\\\\n",
       "\t6 &  6 & 0 & 3 & Moran, Mr. James                                          & 1 & 29.69912 & 0 & 0 & 330877           &   8.4583 &             & 0 & 0 & 1\\\\\n",
       "\t7 &  7 & 0 & 1 & McCarthy, Mr. Timothy J                                   & 1 & 54.00000 & 0 & 0 & 17463            &  51.8625 & E46         & 0 & 0 & 0\\\\\n",
       "\t8 &  8 & 0 & 3 & Palsson, Master. Gosta Leonard                            & 1 &  2.00000 & 3 & 1 & 349909           &  21.0750 &             & 0 & 0 & 0\\\\\n",
       "\t9 &  9 & 1 & 3 & Johnson, Mrs. Oscar W (Elisabeth Vilhelmina Berg)         & 0 & 27.00000 & 0 & 2 & 347742           &  11.1333 &             & 0 & 0 & 0\\\\\n",
       "\t10 & 10 & 1 & 2 & Nasser, Mrs. Nicholas (Adele Achem)                       & 0 & 14.00000 & 1 & 0 & 237736           &  30.0708 &             & 0 & 1 & 0\\\\\n",
       "\t11 & 11 & 1 & 3 & Sandstrom, Miss. Marguerite Rut                           & 0 &  4.00000 & 1 & 1 & PP 9549          &  16.7000 & G6          & 0 & 0 & 0\\\\\n",
       "\t12 & 12 & 1 & 1 & Bonnell, Miss. Elizabeth                                  & 0 & 58.00000 & 0 & 0 & 113783           &  26.5500 & C103        & 0 & 0 & 0\\\\\n",
       "\t13 & 13 & 0 & 3 & Saundercock, Mr. William Henry                            & 1 & 20.00000 & 0 & 0 & A/5. 2151        &   8.0500 &             & 0 & 0 & 0\\\\\n",
       "\t14 & 14 & 0 & 3 & Andersson, Mr. Anders Johan                               & 1 & 39.00000 & 1 & 5 & 347082           &  31.2750 &             & 0 & 0 & 0\\\\\n",
       "\t15 & 15 & 0 & 3 & Vestrom, Miss. Hulda Amanda Adolfina                      & 0 & 14.00000 & 0 & 0 & 350406           &   7.8542 &             & 0 & 0 & 0\\\\\n",
       "\t16 & 16 & 1 & 2 & Hewlett, Mrs. (Mary D Kingcome)                           & 0 & 55.00000 & 0 & 0 & 248706           &  16.0000 &             & 0 & 0 & 0\\\\\n",
       "\t17 & 17 & 0 & 3 & Rice, Master. Eugene                                      & 1 &  2.00000 & 4 & 1 & 382652           &  29.1250 &             & 0 & 0 & 1\\\\\n",
       "\t18 & 18 & 1 & 2 & Williams, Mr. Charles Eugene                              & 1 & 29.69912 & 0 & 0 & 244373           &  13.0000 &             & 0 & 0 & 0\\\\\n",
       "\t19 & 19 & 0 & 3 & Vander Planke, Mrs. Julius (Emelia Maria Vandemoortele)   & 0 & 31.00000 & 1 & 0 & 345763           &  18.0000 &             & 0 & 0 & 0\\\\\n",
       "\t20 & 20 & 1 & 3 & Masselmani, Mrs. Fatima                                   & 0 & 29.69912 & 0 & 0 & 2649             &   7.2250 &             & 0 & 1 & 0\\\\\n",
       "\t21 & 21 & 0 & 2 & Fynney, Mr. Joseph J                                      & 1 & 35.00000 & 0 & 0 & 239865           &  26.0000 &             & 0 & 0 & 0\\\\\n",
       "\t22 & 22 & 1 & 2 & Beesley, Mr. Lawrence                                     & 1 & 34.00000 & 0 & 0 & 248698           &  13.0000 & D56         & 0 & 0 & 0\\\\\n",
       "\t23 & 23 & 1 & 3 & McGowan, Miss. Anna \"Annie\"                               & 0 & 15.00000 & 0 & 0 & 330923           &   8.0292 &             & 0 & 0 & 1\\\\\n",
       "\t24 & 24 & 1 & 1 & Sloper, Mr. William Thompson                              & 1 & 28.00000 & 0 & 0 & 113788           &  35.5000 & A6          & 0 & 0 & 0\\\\\n",
       "\t25 & 25 & 0 & 3 & Palsson, Miss. Torborg Danira                             & 0 &  8.00000 & 3 & 1 & 349909           &  21.0750 &             & 0 & 0 & 0\\\\\n",
       "\t26 & 26 & 1 & 3 & Asplund, Mrs. Carl Oscar (Selma Augusta Emilia Johansson) & 0 & 38.00000 & 1 & 5 & 347077           &  31.3875 &             & 0 & 0 & 0\\\\\n",
       "\t27 & 27 & 0 & 3 & Emir, Mr. Farred Chehab                                   & 1 & 29.69912 & 0 & 0 & 2631             &   7.2250 &             & 0 & 1 & 0\\\\\n",
       "\t28 & 28 & 0 & 1 & Fortune, Mr. Charles Alexander                            & 1 & 19.00000 & 3 & 2 & 19950            & 263.0000 & C23 C25 C27 & 0 & 0 & 0\\\\\n",
       "\t29 & 29 & 1 & 3 & O'Dwyer, Miss. Ellen \"Nellie\"                             & 0 & 29.69912 & 0 & 0 & 330959           &   7.8792 &             & 0 & 0 & 1\\\\\n",
       "\t30 & 30 & 0 & 3 & Todoroff, Mr. Lalio                                       & 1 & 29.69912 & 0 & 0 & 349216           &   7.8958 &             & 0 & 0 & 0\\\\\n",
       "\t... & ... & ... & ... & ... & ... & ... & ... & ... & ... & ... & ... & ... & ... & ...\\\\\n",
       "\t862 & 862 & 0 & 2 & Giles, Mr. Frederick Edward                         & 1 & 21.00000 & 1 & 0 & 28134            & 11.5000 &             & 0 & 0 & 0\\\\\n",
       "\t863 & 863 & 1 & 1 & Swift, Mrs. Frederick Joel (Margaret Welles Barron) & 0 & 48.00000 & 0 & 0 & 17466            & 25.9292 & D17         & 0 & 0 & 0\\\\\n",
       "\t864 & 864 & 0 & 3 & Sage, Miss. Dorothy Edith \"Dolly\"                   & 0 & 29.69912 & 8 & 2 & CA. 2343         & 69.5500 &             & 0 & 0 & 0\\\\\n",
       "\t865 & 865 & 0 & 2 & Gill, Mr. John William                              & 1 & 24.00000 & 0 & 0 & 233866           & 13.0000 &             & 0 & 0 & 0\\\\\n",
       "\t866 & 866 & 1 & 2 & Bystrom, Mrs. (Karolina)                            & 0 & 42.00000 & 0 & 0 & 236852           & 13.0000 &             & 0 & 0 & 0\\\\\n",
       "\t867 & 867 & 1 & 2 & Duran y More, Miss. Asuncion                        & 0 & 27.00000 & 1 & 0 & SC/PARIS 2149    & 13.8583 &             & 0 & 1 & 0\\\\\n",
       "\t868 & 868 & 0 & 1 & Roebling, Mr. Washington Augustus II                & 1 & 31.00000 & 0 & 0 & PC 17590         & 50.4958 & A24         & 0 & 0 & 0\\\\\n",
       "\t869 & 869 & 0 & 3 & van Melkebeke, Mr. Philemon                         & 1 & 29.69912 & 0 & 0 & 345777           &  9.5000 &             & 0 & 0 & 0\\\\\n",
       "\t870 & 870 & 1 & 3 & Johnson, Master. Harold Theodor                     & 1 &  4.00000 & 1 & 1 & 347742           & 11.1333 &             & 0 & 0 & 0\\\\\n",
       "\t871 & 871 & 0 & 3 & Balkic, Mr. Cerin                                   & 1 & 26.00000 & 0 & 0 & 349248           &  7.8958 &             & 0 & 0 & 0\\\\\n",
       "\t872 & 872 & 1 & 1 & Beckwith, Mrs. Richard Leonard (Sallie Monypeny)    & 0 & 47.00000 & 1 & 1 & 11751            & 52.5542 & D35         & 0 & 0 & 0\\\\\n",
       "\t873 & 873 & 0 & 1 & Carlsson, Mr. Frans Olof                            & 1 & 33.00000 & 0 & 0 & 695              &  5.0000 & B51 B53 B55 & 0 & 0 & 0\\\\\n",
       "\t874 & 874 & 0 & 3 & Vander Cruyssen, Mr. Victor                         & 1 & 47.00000 & 0 & 0 & 345765           &  9.0000 &             & 0 & 0 & 0\\\\\n",
       "\t875 & 875 & 1 & 2 & Abelson, Mrs. Samuel (Hannah Wizosky)               & 0 & 28.00000 & 1 & 0 & P/PP 3381        & 24.0000 &             & 0 & 1 & 0\\\\\n",
       "\t876 & 876 & 1 & 3 & Najib, Miss. Adele Kiamie \"Jane\"                    & 0 & 15.00000 & 0 & 0 & 2667             &  7.2250 &             & 0 & 1 & 0\\\\\n",
       "\t877 & 877 & 0 & 3 & Gustafsson, Mr. Alfred Ossian                       & 1 & 20.00000 & 0 & 0 & 7534             &  9.8458 &             & 0 & 0 & 0\\\\\n",
       "\t878 & 878 & 0 & 3 & Petroff, Mr. Nedelio                                & 1 & 19.00000 & 0 & 0 & 349212           &  7.8958 &             & 0 & 0 & 0\\\\\n",
       "\t879 & 879 & 0 & 3 & Laleff, Mr. Kristo                                  & 1 & 29.69912 & 0 & 0 & 349217           &  7.8958 &             & 0 & 0 & 0\\\\\n",
       "\t880 & 880 & 1 & 1 & Potter, Mrs. Thomas Jr (Lily Alexenia Wilson)       & 0 & 56.00000 & 0 & 1 & 11767            & 83.1583 & C50         & 0 & 1 & 0\\\\\n",
       "\t881 & 881 & 1 & 2 & Shelley, Mrs. William (Imanita Parrish Hall)        & 0 & 25.00000 & 0 & 1 & 230433           & 26.0000 &             & 0 & 0 & 0\\\\\n",
       "\t882 & 882 & 0 & 3 & Markun, Mr. Johann                                  & 1 & 33.00000 & 0 & 0 & 349257           &  7.8958 &             & 0 & 0 & 0\\\\\n",
       "\t883 & 883 & 0 & 3 & Dahlberg, Miss. Gerda Ulrika                        & 0 & 22.00000 & 0 & 0 & 7552             & 10.5167 &             & 0 & 0 & 0\\\\\n",
       "\t884 & 884 & 0 & 2 & Banfield, Mr. Frederick James                       & 1 & 28.00000 & 0 & 0 & C.A./SOTON 34068 & 10.5000 &             & 0 & 0 & 0\\\\\n",
       "\t885 & 885 & 0 & 3 & Sutehall, Mr. Henry Jr                              & 1 & 25.00000 & 0 & 0 & SOTON/OQ 392076  &  7.0500 &             & 0 & 0 & 0\\\\\n",
       "\t886 & 886 & 0 & 3 & Rice, Mrs. William (Margaret Norton)                & 0 & 39.00000 & 0 & 5 & 382652           & 29.1250 &             & 0 & 0 & 1\\\\\n",
       "\t887 & 887 & 0 & 2 & Montvila, Rev. Juozas                               & 1 & 27.00000 & 0 & 0 & 211536           & 13.0000 &             & 0 & 0 & 0\\\\\n",
       "\t888 & 888 & 1 & 1 & Graham, Miss. Margaret Edith                        & 0 & 19.00000 & 0 & 0 & 112053           & 30.0000 & B42         & 0 & 0 & 0\\\\\n",
       "\t889 & 889 & 0 & 3 & Johnston, Miss. Catherine Helen \"Carrie\"            & 0 & 29.69912 & 1 & 2 & W./C. 6607       & 23.4500 &             & 0 & 0 & 0\\\\\n",
       "\t890 & 890 & 1 & 1 & Behr, Mr. Karl Howell                               & 1 & 26.00000 & 0 & 0 & 111369           & 30.0000 & C148        & 0 & 1 & 0\\\\\n",
       "\t891 & 891 & 0 & 3 & Dooley, Mr. Patrick                                 & 1 & 32.00000 & 0 & 0 & 370376           &  7.7500 &             & 0 & 0 & 1\\\\\n",
       "\\end{tabular}\n"
      ],
      "text/markdown": [
       "\n",
       "A data.frame: 891 × 14\n",
       "\n",
       "| <!--/--> | PassengerId &lt;int&gt; | Survived &lt;int&gt; | Pclass &lt;int&gt; | Name &lt;fct&gt; | Sex &lt;dbl&gt; | Age &lt;dbl&gt; | SibSp &lt;int&gt; | Parch &lt;int&gt; | Ticket &lt;fct&gt; | Fare &lt;dbl&gt; | Cabin &lt;fct&gt; | Embarked. &lt;int&gt; | Embarked.C &lt;int&gt; | Embarked.Q &lt;int&gt; |\n",
       "|---|---|---|---|---|---|---|---|---|---|---|---|---|---|---|\n",
       "| 1 |  1 | 0 | 3 | Braund, Mr. Owen Harris                                   | 1 | 22.00000 | 1 | 0 | A/5 21171        |   7.2500 | <!----> | 0 | 0 | 0 |\n",
       "| 2 |  2 | 1 | 1 | Cumings, Mrs. John Bradley (Florence Briggs Thayer)       | 0 | 38.00000 | 1 | 0 | PC 17599         |  71.2833 | C85         | 0 | 1 | 0 |\n",
       "| 3 |  3 | 1 | 3 | Heikkinen, Miss. Laina                                    | 0 | 26.00000 | 0 | 0 | STON/O2. 3101282 |   7.9250 | <!----> | 0 | 0 | 0 |\n",
       "| 4 |  4 | 1 | 1 | Futrelle, Mrs. Jacques Heath (Lily May Peel)              | 0 | 35.00000 | 1 | 0 | 113803           |  53.1000 | C123        | 0 | 0 | 0 |\n",
       "| 5 |  5 | 0 | 3 | Allen, Mr. William Henry                                  | 1 | 35.00000 | 0 | 0 | 373450           |   8.0500 | <!----> | 0 | 0 | 0 |\n",
       "| 6 |  6 | 0 | 3 | Moran, Mr. James                                          | 1 | 29.69912 | 0 | 0 | 330877           |   8.4583 | <!----> | 0 | 0 | 1 |\n",
       "| 7 |  7 | 0 | 1 | McCarthy, Mr. Timothy J                                   | 1 | 54.00000 | 0 | 0 | 17463            |  51.8625 | E46         | 0 | 0 | 0 |\n",
       "| 8 |  8 | 0 | 3 | Palsson, Master. Gosta Leonard                            | 1 |  2.00000 | 3 | 1 | 349909           |  21.0750 | <!----> | 0 | 0 | 0 |\n",
       "| 9 |  9 | 1 | 3 | Johnson, Mrs. Oscar W (Elisabeth Vilhelmina Berg)         | 0 | 27.00000 | 0 | 2 | 347742           |  11.1333 | <!----> | 0 | 0 | 0 |\n",
       "| 10 | 10 | 1 | 2 | Nasser, Mrs. Nicholas (Adele Achem)                       | 0 | 14.00000 | 1 | 0 | 237736           |  30.0708 | <!----> | 0 | 1 | 0 |\n",
       "| 11 | 11 | 1 | 3 | Sandstrom, Miss. Marguerite Rut                           | 0 |  4.00000 | 1 | 1 | PP 9549          |  16.7000 | G6          | 0 | 0 | 0 |\n",
       "| 12 | 12 | 1 | 1 | Bonnell, Miss. Elizabeth                                  | 0 | 58.00000 | 0 | 0 | 113783           |  26.5500 | C103        | 0 | 0 | 0 |\n",
       "| 13 | 13 | 0 | 3 | Saundercock, Mr. William Henry                            | 1 | 20.00000 | 0 | 0 | A/5. 2151        |   8.0500 | <!----> | 0 | 0 | 0 |\n",
       "| 14 | 14 | 0 | 3 | Andersson, Mr. Anders Johan                               | 1 | 39.00000 | 1 | 5 | 347082           |  31.2750 | <!----> | 0 | 0 | 0 |\n",
       "| 15 | 15 | 0 | 3 | Vestrom, Miss. Hulda Amanda Adolfina                      | 0 | 14.00000 | 0 | 0 | 350406           |   7.8542 | <!----> | 0 | 0 | 0 |\n",
       "| 16 | 16 | 1 | 2 | Hewlett, Mrs. (Mary D Kingcome)                           | 0 | 55.00000 | 0 | 0 | 248706           |  16.0000 | <!----> | 0 | 0 | 0 |\n",
       "| 17 | 17 | 0 | 3 | Rice, Master. Eugene                                      | 1 |  2.00000 | 4 | 1 | 382652           |  29.1250 | <!----> | 0 | 0 | 1 |\n",
       "| 18 | 18 | 1 | 2 | Williams, Mr. Charles Eugene                              | 1 | 29.69912 | 0 | 0 | 244373           |  13.0000 | <!----> | 0 | 0 | 0 |\n",
       "| 19 | 19 | 0 | 3 | Vander Planke, Mrs. Julius (Emelia Maria Vandemoortele)   | 0 | 31.00000 | 1 | 0 | 345763           |  18.0000 | <!----> | 0 | 0 | 0 |\n",
       "| 20 | 20 | 1 | 3 | Masselmani, Mrs. Fatima                                   | 0 | 29.69912 | 0 | 0 | 2649             |   7.2250 | <!----> | 0 | 1 | 0 |\n",
       "| 21 | 21 | 0 | 2 | Fynney, Mr. Joseph J                                      | 1 | 35.00000 | 0 | 0 | 239865           |  26.0000 | <!----> | 0 | 0 | 0 |\n",
       "| 22 | 22 | 1 | 2 | Beesley, Mr. Lawrence                                     | 1 | 34.00000 | 0 | 0 | 248698           |  13.0000 | D56         | 0 | 0 | 0 |\n",
       "| 23 | 23 | 1 | 3 | McGowan, Miss. Anna \"Annie\"                               | 0 | 15.00000 | 0 | 0 | 330923           |   8.0292 | <!----> | 0 | 0 | 1 |\n",
       "| 24 | 24 | 1 | 1 | Sloper, Mr. William Thompson                              | 1 | 28.00000 | 0 | 0 | 113788           |  35.5000 | A6          | 0 | 0 | 0 |\n",
       "| 25 | 25 | 0 | 3 | Palsson, Miss. Torborg Danira                             | 0 |  8.00000 | 3 | 1 | 349909           |  21.0750 | <!----> | 0 | 0 | 0 |\n",
       "| 26 | 26 | 1 | 3 | Asplund, Mrs. Carl Oscar (Selma Augusta Emilia Johansson) | 0 | 38.00000 | 1 | 5 | 347077           |  31.3875 | <!----> | 0 | 0 | 0 |\n",
       "| 27 | 27 | 0 | 3 | Emir, Mr. Farred Chehab                                   | 1 | 29.69912 | 0 | 0 | 2631             |   7.2250 | <!----> | 0 | 1 | 0 |\n",
       "| 28 | 28 | 0 | 1 | Fortune, Mr. Charles Alexander                            | 1 | 19.00000 | 3 | 2 | 19950            | 263.0000 | C23 C25 C27 | 0 | 0 | 0 |\n",
       "| 29 | 29 | 1 | 3 | O'Dwyer, Miss. Ellen \"Nellie\"                             | 0 | 29.69912 | 0 | 0 | 330959           |   7.8792 | <!----> | 0 | 0 | 1 |\n",
       "| 30 | 30 | 0 | 3 | Todoroff, Mr. Lalio                                       | 1 | 29.69912 | 0 | 0 | 349216           |   7.8958 | <!----> | 0 | 0 | 0 |\n",
       "| ... | ... | ... | ... | ... | ... | ... | ... | ... | ... | ... | ... | ... | ... | ... |\n",
       "| 862 | 862 | 0 | 2 | Giles, Mr. Frederick Edward                         | 1 | 21.00000 | 1 | 0 | 28134            | 11.5000 | <!----> | 0 | 0 | 0 |\n",
       "| 863 | 863 | 1 | 1 | Swift, Mrs. Frederick Joel (Margaret Welles Barron) | 0 | 48.00000 | 0 | 0 | 17466            | 25.9292 | D17         | 0 | 0 | 0 |\n",
       "| 864 | 864 | 0 | 3 | Sage, Miss. Dorothy Edith \"Dolly\"                   | 0 | 29.69912 | 8 | 2 | CA. 2343         | 69.5500 | <!----> | 0 | 0 | 0 |\n",
       "| 865 | 865 | 0 | 2 | Gill, Mr. John William                              | 1 | 24.00000 | 0 | 0 | 233866           | 13.0000 | <!----> | 0 | 0 | 0 |\n",
       "| 866 | 866 | 1 | 2 | Bystrom, Mrs. (Karolina)                            | 0 | 42.00000 | 0 | 0 | 236852           | 13.0000 | <!----> | 0 | 0 | 0 |\n",
       "| 867 | 867 | 1 | 2 | Duran y More, Miss. Asuncion                        | 0 | 27.00000 | 1 | 0 | SC/PARIS 2149    | 13.8583 | <!----> | 0 | 1 | 0 |\n",
       "| 868 | 868 | 0 | 1 | Roebling, Mr. Washington Augustus II                | 1 | 31.00000 | 0 | 0 | PC 17590         | 50.4958 | A24         | 0 | 0 | 0 |\n",
       "| 869 | 869 | 0 | 3 | van Melkebeke, Mr. Philemon                         | 1 | 29.69912 | 0 | 0 | 345777           |  9.5000 | <!----> | 0 | 0 | 0 |\n",
       "| 870 | 870 | 1 | 3 | Johnson, Master. Harold Theodor                     | 1 |  4.00000 | 1 | 1 | 347742           | 11.1333 | <!----> | 0 | 0 | 0 |\n",
       "| 871 | 871 | 0 | 3 | Balkic, Mr. Cerin                                   | 1 | 26.00000 | 0 | 0 | 349248           |  7.8958 | <!----> | 0 | 0 | 0 |\n",
       "| 872 | 872 | 1 | 1 | Beckwith, Mrs. Richard Leonard (Sallie Monypeny)    | 0 | 47.00000 | 1 | 1 | 11751            | 52.5542 | D35         | 0 | 0 | 0 |\n",
       "| 873 | 873 | 0 | 1 | Carlsson, Mr. Frans Olof                            | 1 | 33.00000 | 0 | 0 | 695              |  5.0000 | B51 B53 B55 | 0 | 0 | 0 |\n",
       "| 874 | 874 | 0 | 3 | Vander Cruyssen, Mr. Victor                         | 1 | 47.00000 | 0 | 0 | 345765           |  9.0000 | <!----> | 0 | 0 | 0 |\n",
       "| 875 | 875 | 1 | 2 | Abelson, Mrs. Samuel (Hannah Wizosky)               | 0 | 28.00000 | 1 | 0 | P/PP 3381        | 24.0000 | <!----> | 0 | 1 | 0 |\n",
       "| 876 | 876 | 1 | 3 | Najib, Miss. Adele Kiamie \"Jane\"                    | 0 | 15.00000 | 0 | 0 | 2667             |  7.2250 | <!----> | 0 | 1 | 0 |\n",
       "| 877 | 877 | 0 | 3 | Gustafsson, Mr. Alfred Ossian                       | 1 | 20.00000 | 0 | 0 | 7534             |  9.8458 | <!----> | 0 | 0 | 0 |\n",
       "| 878 | 878 | 0 | 3 | Petroff, Mr. Nedelio                                | 1 | 19.00000 | 0 | 0 | 349212           |  7.8958 | <!----> | 0 | 0 | 0 |\n",
       "| 879 | 879 | 0 | 3 | Laleff, Mr. Kristo                                  | 1 | 29.69912 | 0 | 0 | 349217           |  7.8958 | <!----> | 0 | 0 | 0 |\n",
       "| 880 | 880 | 1 | 1 | Potter, Mrs. Thomas Jr (Lily Alexenia Wilson)       | 0 | 56.00000 | 0 | 1 | 11767            | 83.1583 | C50         | 0 | 1 | 0 |\n",
       "| 881 | 881 | 1 | 2 | Shelley, Mrs. William (Imanita Parrish Hall)        | 0 | 25.00000 | 0 | 1 | 230433           | 26.0000 | <!----> | 0 | 0 | 0 |\n",
       "| 882 | 882 | 0 | 3 | Markun, Mr. Johann                                  | 1 | 33.00000 | 0 | 0 | 349257           |  7.8958 | <!----> | 0 | 0 | 0 |\n",
       "| 883 | 883 | 0 | 3 | Dahlberg, Miss. Gerda Ulrika                        | 0 | 22.00000 | 0 | 0 | 7552             | 10.5167 | <!----> | 0 | 0 | 0 |\n",
       "| 884 | 884 | 0 | 2 | Banfield, Mr. Frederick James                       | 1 | 28.00000 | 0 | 0 | C.A./SOTON 34068 | 10.5000 | <!----> | 0 | 0 | 0 |\n",
       "| 885 | 885 | 0 | 3 | Sutehall, Mr. Henry Jr                              | 1 | 25.00000 | 0 | 0 | SOTON/OQ 392076  |  7.0500 | <!----> | 0 | 0 | 0 |\n",
       "| 886 | 886 | 0 | 3 | Rice, Mrs. William (Margaret Norton)                | 0 | 39.00000 | 0 | 5 | 382652           | 29.1250 | <!----> | 0 | 0 | 1 |\n",
       "| 887 | 887 | 0 | 2 | Montvila, Rev. Juozas                               | 1 | 27.00000 | 0 | 0 | 211536           | 13.0000 | <!----> | 0 | 0 | 0 |\n",
       "| 888 | 888 | 1 | 1 | Graham, Miss. Margaret Edith                        | 0 | 19.00000 | 0 | 0 | 112053           | 30.0000 | B42         | 0 | 0 | 0 |\n",
       "| 889 | 889 | 0 | 3 | Johnston, Miss. Catherine Helen \"Carrie\"            | 0 | 29.69912 | 1 | 2 | W./C. 6607       | 23.4500 | <!----> | 0 | 0 | 0 |\n",
       "| 890 | 890 | 1 | 1 | Behr, Mr. Karl Howell                               | 1 | 26.00000 | 0 | 0 | 111369           | 30.0000 | C148        | 0 | 1 | 0 |\n",
       "| 891 | 891 | 0 | 3 | Dooley, Mr. Patrick                                 | 1 | 32.00000 | 0 | 0 | 370376           |  7.7500 | <!----> | 0 | 0 | 1 |\n",
       "\n"
      ],
      "text/plain": [
       "    PassengerId Survived Pclass\n",
       "1    1          0        3     \n",
       "2    2          1        1     \n",
       "3    3          1        3     \n",
       "4    4          1        1     \n",
       "5    5          0        3     \n",
       "6    6          0        3     \n",
       "7    7          0        1     \n",
       "8    8          0        3     \n",
       "9    9          1        3     \n",
       "10  10          1        2     \n",
       "11  11          1        3     \n",
       "12  12          1        1     \n",
       "13  13          0        3     \n",
       "14  14          0        3     \n",
       "15  15          0        3     \n",
       "16  16          1        2     \n",
       "17  17          0        3     \n",
       "18  18          1        2     \n",
       "19  19          0        3     \n",
       "20  20          1        3     \n",
       "21  21          0        2     \n",
       "22  22          1        2     \n",
       "23  23          1        3     \n",
       "24  24          1        1     \n",
       "25  25          0        3     \n",
       "26  26          1        3     \n",
       "27  27          0        3     \n",
       "28  28          0        1     \n",
       "29  29          1        3     \n",
       "30  30          0        3     \n",
       "... ...         ...      ...   \n",
       "862 862         0        2     \n",
       "863 863         1        1     \n",
       "864 864         0        3     \n",
       "865 865         0        2     \n",
       "866 866         1        2     \n",
       "867 867         1        2     \n",
       "868 868         0        1     \n",
       "869 869         0        3     \n",
       "870 870         1        3     \n",
       "871 871         0        3     \n",
       "872 872         1        1     \n",
       "873 873         0        1     \n",
       "874 874         0        3     \n",
       "875 875         1        2     \n",
       "876 876         1        3     \n",
       "877 877         0        3     \n",
       "878 878         0        3     \n",
       "879 879         0        3     \n",
       "880 880         1        1     \n",
       "881 881         1        2     \n",
       "882 882         0        3     \n",
       "883 883         0        3     \n",
       "884 884         0        2     \n",
       "885 885         0        3     \n",
       "886 886         0        3     \n",
       "887 887         0        2     \n",
       "888 888         1        1     \n",
       "889 889         0        3     \n",
       "890 890         1        1     \n",
       "891 891         0        3     \n",
       "    Name                                                      Sex Age     \n",
       "1   Braund, Mr. Owen Harris                                   1   22.00000\n",
       "2   Cumings, Mrs. John Bradley (Florence Briggs Thayer)       0   38.00000\n",
       "3   Heikkinen, Miss. Laina                                    0   26.00000\n",
       "4   Futrelle, Mrs. Jacques Heath (Lily May Peel)              0   35.00000\n",
       "5   Allen, Mr. William Henry                                  1   35.00000\n",
       "6   Moran, Mr. James                                          1   29.69912\n",
       "7   McCarthy, Mr. Timothy J                                   1   54.00000\n",
       "8   Palsson, Master. Gosta Leonard                            1    2.00000\n",
       "9   Johnson, Mrs. Oscar W (Elisabeth Vilhelmina Berg)         0   27.00000\n",
       "10  Nasser, Mrs. Nicholas (Adele Achem)                       0   14.00000\n",
       "11  Sandstrom, Miss. Marguerite Rut                           0    4.00000\n",
       "12  Bonnell, Miss. Elizabeth                                  0   58.00000\n",
       "13  Saundercock, Mr. William Henry                            1   20.00000\n",
       "14  Andersson, Mr. Anders Johan                               1   39.00000\n",
       "15  Vestrom, Miss. Hulda Amanda Adolfina                      0   14.00000\n",
       "16  Hewlett, Mrs. (Mary D Kingcome)                           0   55.00000\n",
       "17  Rice, Master. Eugene                                      1    2.00000\n",
       "18  Williams, Mr. Charles Eugene                              1   29.69912\n",
       "19  Vander Planke, Mrs. Julius (Emelia Maria Vandemoortele)   0   31.00000\n",
       "20  Masselmani, Mrs. Fatima                                   0   29.69912\n",
       "21  Fynney, Mr. Joseph J                                      1   35.00000\n",
       "22  Beesley, Mr. Lawrence                                     1   34.00000\n",
       "23  McGowan, Miss. Anna \"Annie\"                               0   15.00000\n",
       "24  Sloper, Mr. William Thompson                              1   28.00000\n",
       "25  Palsson, Miss. Torborg Danira                             0    8.00000\n",
       "26  Asplund, Mrs. Carl Oscar (Selma Augusta Emilia Johansson) 0   38.00000\n",
       "27  Emir, Mr. Farred Chehab                                   1   29.69912\n",
       "28  Fortune, Mr. Charles Alexander                            1   19.00000\n",
       "29  O'Dwyer, Miss. Ellen \"Nellie\"                             0   29.69912\n",
       "30  Todoroff, Mr. Lalio                                       1   29.69912\n",
       "... ...                                                       ... ...     \n",
       "862 Giles, Mr. Frederick Edward                               1   21.00000\n",
       "863 Swift, Mrs. Frederick Joel (Margaret Welles Barron)       0   48.00000\n",
       "864 Sage, Miss. Dorothy Edith \"Dolly\"                         0   29.69912\n",
       "865 Gill, Mr. John William                                    1   24.00000\n",
       "866 Bystrom, Mrs. (Karolina)                                  0   42.00000\n",
       "867 Duran y More, Miss. Asuncion                              0   27.00000\n",
       "868 Roebling, Mr. Washington Augustus II                      1   31.00000\n",
       "869 van Melkebeke, Mr. Philemon                               1   29.69912\n",
       "870 Johnson, Master. Harold Theodor                           1    4.00000\n",
       "871 Balkic, Mr. Cerin                                         1   26.00000\n",
       "872 Beckwith, Mrs. Richard Leonard (Sallie Monypeny)          0   47.00000\n",
       "873 Carlsson, Mr. Frans Olof                                  1   33.00000\n",
       "874 Vander Cruyssen, Mr. Victor                               1   47.00000\n",
       "875 Abelson, Mrs. Samuel (Hannah Wizosky)                     0   28.00000\n",
       "876 Najib, Miss. Adele Kiamie \"Jane\"                          0   15.00000\n",
       "877 Gustafsson, Mr. Alfred Ossian                             1   20.00000\n",
       "878 Petroff, Mr. Nedelio                                      1   19.00000\n",
       "879 Laleff, Mr. Kristo                                        1   29.69912\n",
       "880 Potter, Mrs. Thomas Jr (Lily Alexenia Wilson)             0   56.00000\n",
       "881 Shelley, Mrs. William (Imanita Parrish Hall)              0   25.00000\n",
       "882 Markun, Mr. Johann                                        1   33.00000\n",
       "883 Dahlberg, Miss. Gerda Ulrika                              0   22.00000\n",
       "884 Banfield, Mr. Frederick James                             1   28.00000\n",
       "885 Sutehall, Mr. Henry Jr                                    1   25.00000\n",
       "886 Rice, Mrs. William (Margaret Norton)                      0   39.00000\n",
       "887 Montvila, Rev. Juozas                                     1   27.00000\n",
       "888 Graham, Miss. Margaret Edith                              0   19.00000\n",
       "889 Johnston, Miss. Catherine Helen \"Carrie\"                  0   29.69912\n",
       "890 Behr, Mr. Karl Howell                                     1   26.00000\n",
       "891 Dooley, Mr. Patrick                                       1   32.00000\n",
       "    SibSp Parch Ticket           Fare     Cabin       Embarked. Embarked.C\n",
       "1   1     0     A/5 21171          7.2500             0         0         \n",
       "2   1     0     PC 17599          71.2833 C85         0         1         \n",
       "3   0     0     STON/O2. 3101282   7.9250             0         0         \n",
       "4   1     0     113803            53.1000 C123        0         0         \n",
       "5   0     0     373450             8.0500             0         0         \n",
       "6   0     0     330877             8.4583             0         0         \n",
       "7   0     0     17463             51.8625 E46         0         0         \n",
       "8   3     1     349909            21.0750             0         0         \n",
       "9   0     2     347742            11.1333             0         0         \n",
       "10  1     0     237736            30.0708             0         1         \n",
       "11  1     1     PP 9549           16.7000 G6          0         0         \n",
       "12  0     0     113783            26.5500 C103        0         0         \n",
       "13  0     0     A/5. 2151          8.0500             0         0         \n",
       "14  1     5     347082            31.2750             0         0         \n",
       "15  0     0     350406             7.8542             0         0         \n",
       "16  0     0     248706            16.0000             0         0         \n",
       "17  4     1     382652            29.1250             0         0         \n",
       "18  0     0     244373            13.0000             0         0         \n",
       "19  1     0     345763            18.0000             0         0         \n",
       "20  0     0     2649               7.2250             0         1         \n",
       "21  0     0     239865            26.0000             0         0         \n",
       "22  0     0     248698            13.0000 D56         0         0         \n",
       "23  0     0     330923             8.0292             0         0         \n",
       "24  0     0     113788            35.5000 A6          0         0         \n",
       "25  3     1     349909            21.0750             0         0         \n",
       "26  1     5     347077            31.3875             0         0         \n",
       "27  0     0     2631               7.2250             0         1         \n",
       "28  3     2     19950            263.0000 C23 C25 C27 0         0         \n",
       "29  0     0     330959             7.8792             0         0         \n",
       "30  0     0     349216             7.8958             0         0         \n",
       "... ...   ...   ...              ...      ...         ...       ...       \n",
       "862 1     0     28134            11.5000              0         0         \n",
       "863 0     0     17466            25.9292  D17         0         0         \n",
       "864 8     2     CA. 2343         69.5500              0         0         \n",
       "865 0     0     233866           13.0000              0         0         \n",
       "866 0     0     236852           13.0000              0         0         \n",
       "867 1     0     SC/PARIS 2149    13.8583              0         1         \n",
       "868 0     0     PC 17590         50.4958  A24         0         0         \n",
       "869 0     0     345777            9.5000              0         0         \n",
       "870 1     1     347742           11.1333              0         0         \n",
       "871 0     0     349248            7.8958              0         0         \n",
       "872 1     1     11751            52.5542  D35         0         0         \n",
       "873 0     0     695               5.0000  B51 B53 B55 0         0         \n",
       "874 0     0     345765            9.0000              0         0         \n",
       "875 1     0     P/PP 3381        24.0000              0         1         \n",
       "876 0     0     2667              7.2250              0         1         \n",
       "877 0     0     7534              9.8458              0         0         \n",
       "878 0     0     349212            7.8958              0         0         \n",
       "879 0     0     349217            7.8958              0         0         \n",
       "880 0     1     11767            83.1583  C50         0         1         \n",
       "881 0     1     230433           26.0000              0         0         \n",
       "882 0     0     349257            7.8958              0         0         \n",
       "883 0     0     7552             10.5167              0         0         \n",
       "884 0     0     C.A./SOTON 34068 10.5000              0         0         \n",
       "885 0     0     SOTON/OQ 392076   7.0500              0         0         \n",
       "886 0     5     382652           29.1250              0         0         \n",
       "887 0     0     211536           13.0000              0         0         \n",
       "888 0     0     112053           30.0000  B42         0         0         \n",
       "889 1     2     W./C. 6607       23.4500              0         0         \n",
       "890 0     0     111369           30.0000  C148        0         1         \n",
       "891 0     0     370376            7.7500              0         0         \n",
       "    Embarked.Q\n",
       "1   0         \n",
       "2   0         \n",
       "3   0         \n",
       "4   0         \n",
       "5   0         \n",
       "6   1         \n",
       "7   0         \n",
       "8   0         \n",
       "9   0         \n",
       "10  0         \n",
       "11  0         \n",
       "12  0         \n",
       "13  0         \n",
       "14  0         \n",
       "15  0         \n",
       "16  0         \n",
       "17  1         \n",
       "18  0         \n",
       "19  0         \n",
       "20  0         \n",
       "21  0         \n",
       "22  0         \n",
       "23  1         \n",
       "24  0         \n",
       "25  0         \n",
       "26  0         \n",
       "27  0         \n",
       "28  0         \n",
       "29  1         \n",
       "30  0         \n",
       "... ...       \n",
       "862 0         \n",
       "863 0         \n",
       "864 0         \n",
       "865 0         \n",
       "866 0         \n",
       "867 0         \n",
       "868 0         \n",
       "869 0         \n",
       "870 0         \n",
       "871 0         \n",
       "872 0         \n",
       "873 0         \n",
       "874 0         \n",
       "875 0         \n",
       "876 0         \n",
       "877 0         \n",
       "878 0         \n",
       "879 0         \n",
       "880 0         \n",
       "881 0         \n",
       "882 0         \n",
       "883 0         \n",
       "884 0         \n",
       "885 0         \n",
       "886 1         \n",
       "887 0         \n",
       "888 0         \n",
       "889 0         \n",
       "890 0         \n",
       "891 1         "
      ]
     },
     "metadata": {},
     "output_type": "display_data"
    }
   ],
   "source": [
    "titanic_dummy"
   ]
  },
  {
   "cell_type": "code",
   "execution_count": 31,
   "metadata": {},
   "outputs": [],
   "source": [
    "titanic_x = titanic_dummy[,c(\"Survived\",\"Pclass\", \"Sex\", \"Age\", \"Embarked.C\", \"Embarked.Q\")]"
   ]
  },
  {
   "cell_type": "code",
   "execution_count": 32,
   "metadata": {},
   "outputs": [],
   "source": [
    "titanic_x$Survived <- ifelse(titanic_x$Survived == 1, \"Vivo\", \"Muerto\")"
   ]
  },
  {
   "cell_type": "code",
   "execution_count": 33,
   "metadata": {},
   "outputs": [],
   "source": [
    "titanic_x$Survived = as.factor(titanic_x$Survived)"
   ]
  },
  {
   "cell_type": "code",
   "execution_count": 34,
   "metadata": {},
   "outputs": [
    {
     "data": {
      "text/plain": [
       "   Survived       Pclass           Sex              Age          Embarked.C    \n",
       " Muerto:549   Min.   :1.000   Min.   :0.0000   Min.   : 0.42   Min.   :0.0000  \n",
       " Vivo  :342   1st Qu.:2.000   1st Qu.:0.0000   1st Qu.:22.00   1st Qu.:0.0000  \n",
       "              Median :3.000   Median :1.0000   Median :29.70   Median :0.0000  \n",
       "              Mean   :2.309   Mean   :0.6476   Mean   :29.70   Mean   :0.1886  \n",
       "              3rd Qu.:3.000   3rd Qu.:1.0000   3rd Qu.:35.00   3rd Qu.:0.0000  \n",
       "              Max.   :3.000   Max.   :1.0000   Max.   :80.00   Max.   :1.0000  \n",
       "   Embarked.Q     \n",
       " Min.   :0.00000  \n",
       " 1st Qu.:0.00000  \n",
       " Median :0.00000  \n",
       " Mean   :0.08642  \n",
       " 3rd Qu.:0.00000  \n",
       " Max.   :1.00000  "
      ]
     },
     "metadata": {},
     "output_type": "display_data"
    }
   ],
   "source": [
    "summary(titanic_x)"
   ]
  },
  {
   "cell_type": "code",
   "execution_count": 35,
   "metadata": {},
   "outputs": [],
   "source": [
    "X_train = titanic_x[1:600,]\n",
    "X_test = titanic_x[601:891,]"
   ]
  },
  {
   "cell_type": "code",
   "execution_count": 36,
   "metadata": {},
   "outputs": [],
   "source": [
    "treeclf = tree(Survived ~ ., data = X_train)"
   ]
  },
  {
   "cell_type": "code",
   "execution_count": 37,
   "metadata": {},
   "outputs": [
    {
     "data": {
      "text/plain": [
       "node), split, n, deviance, yval, (yprob)\n",
       "      * denotes terminal node\n",
       "\n",
       " 1) root 600 804.30 Muerto ( 0.60667 0.39333 )  \n",
       "   2) Sex < 0.5 223 251.30 Vivo ( 0.25112 0.74888 )  \n",
       "     4) Pclass < 2.5 119  53.24 Vivo ( 0.05882 0.94118 ) *\n",
       "     5) Pclass > 2.5 104 143.80 Vivo ( 0.47115 0.52885 )  \n",
       "      10) Embarked.Q < 0.5 80 109.70 Muerto ( 0.56250 0.43750 ) *\n",
       "      11) Embarked.Q > 0.5 24  21.63 Vivo ( 0.16667 0.83333 ) *\n",
       "   3) Sex > 0.5 377 358.90 Muerto ( 0.81698 0.18302 )  \n",
       "     6) Age < 13.5 24  33.10 Vivo ( 0.45833 0.54167 )  \n",
       "      12) Pclass < 2.5 8   0.00 Vivo ( 0.00000 1.00000 ) *\n",
       "      13) Pclass > 2.5 16  19.87 Muerto ( 0.68750 0.31250 ) *\n",
       "     7) Age > 13.5 353 308.80 Muerto ( 0.84136 0.15864 )  \n",
       "      14) Pclass < 1.5 78  92.80 Muerto ( 0.71795 0.28205 ) *\n",
       "      15) Pclass > 1.5 275 205.80 Muerto ( 0.87636 0.12364 ) *"
      ]
     },
     "metadata": {},
     "output_type": "display_data"
    }
   ],
   "source": [
    "treeclf"
   ]
  },
  {
   "cell_type": "code",
   "execution_count": 38,
   "metadata": {},
   "outputs": [],
   "source": [
    "predicciones = predict(object = treeclf, newdata = X_test, type = \"class\")"
   ]
  },
  {
   "cell_type": "code",
   "execution_count": 39,
   "metadata": {},
   "outputs": [
    {
     "data": {
      "image/png": "[encoded data removed]",
      "text/plain": [
       "plot without title"
      ]
     },
     "metadata": {
      "image/png": {
       "height": 420,
       "width": 420
      },
      "text/plain": {
       "height": 420,
       "width": 420
      }
     },
     "output_type": "display_data"
    }
   ],
   "source": [
    "plot(treeclf)\n",
    "text(treeclf, pretty = 0)"
   ]
  },
  {
   "cell_type": "code",
   "execution_count": 40,
   "metadata": {},
   "outputs": [
    {
     "data": {
      "text/plain": [
       "            \n",
       "predicciones Muerto Vivo\n",
       "      Muerto    178   49\n",
       "      Vivo        7   57"
      ]
     },
     "metadata": {},
     "output_type": "display_data"
    }
   ],
   "source": [
    "table(predicciones, X_test$Survived)"
   ]
  },
  {
   "cell_type": "code",
   "execution_count": 41,
   "metadata": {},
   "outputs": [
    {
     "data": {
      "text/html": [
       "0.810344827586207"
      ],
      "text/latex": [
       "0.810344827586207"
      ],
      "text/markdown": [
       "0.810344827586207"
      ],
      "text/plain": [
       "[1] 0.8103448"
      ]
     },
     "metadata": {},
     "output_type": "display_data"
    }
   ],
   "source": [
    "(178+57)/290"
   ]
  },
  {
   "cell_type": "markdown",
   "metadata": {},
   "source": [
    "He aquí algunas ventajas y desventajas de los árboles de decisión de los que aún no hemos hablado:"
   ]
  },
  {
   "cell_type": "markdown",
   "metadata": {},
   "source": [
    "- Pueden especificarse como una serie de reglas, y se piensa que se aproximan más a la toma de decisiones humanas que otros modelos.\n",
    "- Altamente interpretables incluso mas que la regresion lineal\n",
    "- Pueden ser utilizados para regresion o clasificacion\n",
    "- Puede visualizarse gráficamente\n",
    "- Tiende a ignorar características irrelevantes\n",
    "- Las funciones no necesitan escalado\n"
   ]
  },
  {
   "cell_type": "markdown",
   "metadata": {},
   "source": [
    "Desventajas:"
   ]
  },
  {
   "cell_type": "markdown",
   "metadata": {},
   "source": [
    "- El rendimiento (generalmente) no es competitivo con los mejores métodos de aprendizaje supervisado\n",
    "- Puede fácilmente sobredimensionar los datos de entrenamiento (se requiere afinación)\n",
    "- Pequeñas variaciones en los datos pueden resultar en un árbol completamente diferente (alta varianza)\n",
    "- La división binaria recurrente toma decisiones \"localmente óptimas\" que pueden no resultar en un árbol globalmente óptimo.\n",
    "- No suele funcionar bien si las clases están muy desequilibradas\n",
    "- No tiende a funcionar bien con conjuntos de datos muy pequeños\n"
   ]
  },
  {
   "cell_type": "markdown",
   "metadata": {},
   "source": [
    "Es de resaltar que existe variantes del algoritmo de árbol de decisión: "
   ]
  },
  {
   "cell_type": "markdown",
   "metadata": {},
   "source": [
    "algoritmos por particionamiento: \n",
    "    \n",
    "- C4.5\n",
    "- CART\n",
    "- ID3\n",
    "- CHAID\n"
   ]
  },
  {
   "cell_type": "markdown",
   "metadata": {},
   "source": [
    "Algoritmos por cobertura:\n",
    "- AQ\n",
    "- CN2"
   ]
  },
  {
   "cell_type": "markdown",
   "metadata": {},
   "source": [
    "# Random Forests (Bosques aleatorios)"
   ]
  },
  {
   "cell_type": "markdown",
   "metadata": {},
   "source": [
    "Por que no utilizar un cojunto de arboles para predecir. Esta es la idea detras de Random Forest, la combinacion de multiples arboles de decision. <br>\n",
    "los bosques aleatorios han ganado gran popularidad y acogida por la comunidad practicante de aprendizaje automatico debido a su buen rendimiento en tareas de clasificacion, escalabilidad y facilidad de uso. Los arboles aleatorios promedian multiples arboles de decision(profundos) que sufren indivudualmente una alta varianza, para construir un modelo mas robusto que sea menos suceptible a tener sobre ajuste y por consiguiente tenga mejor rendimiento o generalizacion."
   ]
  },
  {
   "cell_type": "markdown",
   "metadata": {},
   "source": [
    "Es una tecnica de aprendizaje en conjunto  o ensamble learning, tecnica muy poderosa y con mucha popularidad en consursos de aprendizaje automatico.<br>\n",
    "Se basa en la salida de muchos modelos individuales que combinan dichas salidas de una manera inteligente para producir un modelo de aprendizaje automatico mas fuerte y robusto.<br>\n",
    "El aprendizaje en conjunto funciona mejor cuando los modelos individuales que componen el conjunto son tan diferentes entre sí como sea posible."
   ]
  },
  {
   "cell_type": "code",
   "execution_count": 44,
   "metadata": {},
   "outputs": [
    {
     "name": "stderr",
     "output_type": "stream",
     "text": [
      "Installing package into 'C:/Users/JHOVANNY/Documents/R/win-library/3.6'\n",
      "(as 'lib' is unspecified)\n",
      "\n"
     ]
    },
    {
     "name": "stdout",
     "output_type": "stream",
     "text": [
      "package 'randomForest' successfully unpacked and MD5 sums checked\n",
      "\n",
      "The downloaded binary packages are in\n",
      "\tC:\\Users\\JHOVANNY\\AppData\\Local\\Temp\\RtmpKWSRxl\\downloaded_packages\n"
     ]
    }
   ],
   "source": [
    "install.packages(\"randomForest\")"
   ]
  },
  {
   "cell_type": "code",
   "execution_count": 45,
   "metadata": {},
   "outputs": [
    {
     "name": "stderr",
     "output_type": "stream",
     "text": [
      "Warning message:\n",
      "\"package 'randomForest' was built under R version 3.6.3\"\n",
      "randomForest 4.6-14\n",
      "\n",
      "Type rfNews() to see new features/changes/bug fixes.\n",
      "\n"
     ]
    }
   ],
   "source": [
    "library(randomForest)"
   ]
  },
  {
   "cell_type": "code",
   "execution_count": null,
   "metadata": {},
   "outputs": [],
   "source": [
    "X_train"
   ]
  },
  {
   "cell_type": "code",
   "execution_count": 46,
   "metadata": {},
   "outputs": [],
   "source": [
    "bosque = randomForest(Survived ~ ., data = X_train, ntree = 42)"
   ]
  },
  {
   "cell_type": "code",
   "execution_count": 47,
   "metadata": {},
   "outputs": [],
   "source": [
    "predicciones = predict(object = bosque, newdata = X_test, type = \"class\")"
   ]
  },
  {
   "cell_type": "code",
   "execution_count": 48,
   "metadata": {},
   "outputs": [
    {
     "data": {
      "text/plain": [
       "            \n",
       "predicciones Muerto Vivo\n",
       "      Muerto    175   42\n",
       "      Vivo       10   64"
      ]
     },
     "metadata": {},
     "output_type": "display_data"
    }
   ],
   "source": [
    "table(predicciones, X_test$Survived)"
   ]
  },
  {
   "cell_type": "code",
   "execution_count": 49,
   "metadata": {},
   "outputs": [
    {
     "data": {
      "text/html": [
       "<table>\n",
       "<caption>A matrix: 5 × 1 of type dbl</caption>\n",
       "<thead>\n",
       "\t<tr><th></th><th scope=col>MeanDecreaseGini</th></tr>\n",
       "</thead>\n",
       "<tbody>\n",
       "\t<tr><th scope=row>Pclass</th><td>21.824470</td></tr>\n",
       "\t<tr><th scope=row>Sex</th><td>80.495576</td></tr>\n",
       "\t<tr><th scope=row>Age</th><td>28.569743</td></tr>\n",
       "\t<tr><th scope=row>Embarked.C</th><td> 3.699094</td></tr>\n",
       "\t<tr><th scope=row>Embarked.Q</th><td> 4.177722</td></tr>\n",
       "</tbody>\n",
       "</table>\n"
      ],
      "text/latex": [
       "A matrix: 5 × 1 of type dbl\n",
       "\\begin{tabular}{r|l}\n",
       "  & MeanDecreaseGini\\\\\n",
       "\\hline\n",
       "\tPclass & 21.824470\\\\\n",
       "\tSex & 80.495576\\\\\n",
       "\tAge & 28.569743\\\\\n",
       "\tEmbarked.C &  3.699094\\\\\n",
       "\tEmbarked.Q &  4.177722\\\\\n",
       "\\end{tabular}\n"
      ],
      "text/markdown": [
       "\n",
       "A matrix: 5 × 1 of type dbl\n",
       "\n",
       "| <!--/--> | MeanDecreaseGini |\n",
       "|---|---|\n",
       "| Pclass | 21.824470 |\n",
       "| Sex | 80.495576 |\n",
       "| Age | 28.569743 |\n",
       "| Embarked.C |  3.699094 |\n",
       "| Embarked.Q |  4.177722 |\n",
       "\n"
      ],
      "text/plain": [
       "           MeanDecreaseGini\n",
       "Pclass     21.824470       \n",
       "Sex        80.495576       \n",
       "Age        28.569743       \n",
       "Embarked.C  3.699094       \n",
       "Embarked.Q  4.177722       "
      ]
     },
     "metadata": {},
     "output_type": "display_data"
    }
   ],
   "source": [
    "importance(bosque)"
   ]
  },
  {
   "cell_type": "markdown",
   "metadata": {},
   "source": [
    "Ventajas de los bosques aleatorios"
   ]
  },
  {
   "cell_type": "markdown",
   "metadata": {},
   "source": [
    "- El rendimiento es competitivo con los mejores métodos de aprendizaje supervisado\n",
    "- Proporciona una estimación más fiable de la importancia de las características"
   ]
  },
  {
   "cell_type": "markdown",
   "metadata": {},
   "source": [
    "Desventajas"
   ]
  },
  {
   "cell_type": "markdown",
   "metadata": {},
   "source": [
    "- Menos interpretable\n",
    "- Más lento para entrenar\n",
    "- Más lento de predecir"
   ]
  },
  {
   "cell_type": "code",
   "execution_count": null,
   "metadata": {},
   "outputs": [],
   "source": []
  }
 ],
 "metadata": {
  "kernelspec": {
   "display_name": "R",
   "language": "R",
   "name": "ir"
  },
  "language_info": {
   "codemirror_mode": "r",
   "file_extension": ".r",
   "mimetype": "text/x-r-source",
   "name": "R",
   "pygments_lexer": "r",
   "version": "3.6.2"
  }
 },
 "nbformat": 4,
 "nbformat_minor": 2
}

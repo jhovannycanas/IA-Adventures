{
 "cells": [
  {
   "cell_type": "markdown",
   "metadata": {},
   "source": [
    "# Regresión logística"
   ]
  },
  {
   "cell_type": "markdown",
   "metadata": {},
   "source": [
    "Es una adecuación de los modelos lineales, para ser utilizados en tareas de clasificación. Esto sucede primero ajustando el modelo lineal a la probabilidad de que una cierta categoría o clase ocurra ejemplo: correo seguro o correo spam, sano o enfermo; luego mediante el uso de una función se crea un umbral en el cual se especifica el resultado de una de estas categorías o clases, la función utilizada para establecer dicho umbral es la función logística o función sigmoide."
   ]
  },
  {
   "cell_type": "markdown",
   "metadata": {},
   "source": [
    "![funcion_sigmoide](img/funcion_sigmoide.png)"
   ]
  },
  {
   "cell_type": "markdown",
   "metadata": {},
   "source": [
    "La convención para clasificación binaria es tener dos clases 0 y 1.<br>\n",
    "Un ejemplo de cómo utilizar regresión lineal en problemas de clasificación, tomemos como ejemplo los datos que relacionan la cantidad de grasas consumidas y el peso de las personas, esto claramente es un problema de regresión:\n"
   ]
  },
  {
   "cell_type": "markdown",
   "metadata": {},
   "source": [
    "![peso_grasa](img/peso_grasas.png)"
   ]
  },
  {
   "cell_type": "markdown",
   "metadata": {},
   "source": [
    "Si un experto determina que un peso superior a 95 kilogramos implica riesgo de diabetes; entonces el problema se convierte en uno de clasificación: 0 = sano; 1 = en riesgo.<br>\n",
    "Una regresión lineal podría ayudar a estimar el limite sobre el cual estaría en riesgo de diabetes; no obstante, no puede interpretar sus predicciones como probabilidades (sus valores no están en 0 - 1)\n"
   ]
  },
  {
   "cell_type": "markdown",
   "metadata": {},
   "source": [
    "![regresion_peso](img/regresion_peso.png)"
   ]
  },
  {
   "cell_type": "markdown",
   "metadata": {},
   "source": [
    "Utilizando regresión lineal en clasificación<br>\n",
    "Supongamos el siguiente ejemplo, un banco desea determinar si un cliente entrara en mora con sus pagos, la ecuación es similar a:<br>\n",
    "P (cliente = en mora |ingresos mensuales, balance en la cuenta)<br>\n",
    "Y = 1 si en mora (Rojo); Y= 0 no está en mora (Azul)\n"
   ]
  },
  {
   "cell_type": "markdown",
   "metadata": {},
   "source": [
    "![dispersion](img/dispersion.png)"
   ]
  },
  {
   "cell_type": "markdown",
   "metadata": {},
   "source": [
    "Utilizando regresión lineal, se podría plantear el siguiente modelo:<br>\n",
    "P ( y = 1| balance, ingresos) = β0 + β1balance + β2 ingresos<br>\n",
    "Entonces por qué no aplicar regresión lineal, como se puede observar en la siguiente gráfica, se ha calculado una estimada probabilidad utilizando regresión lineal, no obstante puede observarse que algunas probabilidades estimadas son negativas; el grafico de la parte derecha ha calculado las probabilidades estimadas usando regresión logística, donde todas las probabilidades están situadas entre 0 y 1.\n"
   ]
  },
  {
   "cell_type": "markdown",
   "metadata": {},
   "source": [
    "![plano_sigmoide](img/plano_sigmoide.png)"
   ]
  },
  {
   "cell_type": "markdown",
   "metadata": {},
   "source": [
    "Por lo tanto, nosotros podemos pasar la solución de regresión lineal y colocarla dentro de la función sigmoide o logística. Como resultado una probabilidad que va desde 0 a 1, de perteneces a la clase x. Entonces se puede decir que cualquier probabilidad mayor a igual a 0.5, la predicción corresponde a la clase1, cualquier valor por debajo de este corresponde a la clase 0."
   ]
  },
  {
   "cell_type": "markdown",
   "metadata": {},
   "source": [
    "![regresion_logistica](img/regresion_logistica.png)"
   ]
  },
  {
   "cell_type": "markdown",
   "metadata": {},
   "source": [
    "Resumiendo<br>\n",
    "- La regresión logística produce las probabilidades de una clase especifica\n",
    "- Esas probabilidades pueden ser convertidas en predicciones de una clase\n",
    "- La función logística toma la forma de una “s” y limita la salida por 0 y 1.\n"
   ]
  },
  {
   "cell_type": "markdown",
   "metadata": {},
   "source": [
    "Para problemas de clasificación multiclases o de mas de 2 clases, se utilizan los siguientes enfoques:<br>\n",
    "- 1 vs todos, se trata de descomponer el problema en múltiples problemas de clasificación binario\n",
    "- Utilizar la multinomial regresión logística que lo resuelve como un simple problema.\n"
   ]
  },
  {
   "cell_type": "markdown",
   "metadata": {},
   "source": [
    "Ejemplo de regresión logística con scikit-learn<br>\n",
    "Creamos un conjunto de datos con 1000 muestras o registros con 4 características.\n"
   ]
  },
  {
   "cell_type": "code",
   "execution_count": 1,
   "metadata": {},
   "outputs": [],
   "source": [
    "from sklearn.datasets import make_classification\n",
    "X, y = make_classification(n_samples=1000, n_features=4)"
   ]
  },
  {
   "cell_type": "code",
   "execution_count": 2,
   "metadata": {},
   "outputs": [],
   "source": [
    "# Importando el modelo\n",
    "from sklearn.linear_model import LogisticRegression\n",
    "\n",
    "rlog = LogisticRegression() # Creando el modelo"
   ]
  },
  {
   "cell_type": "code",
   "execution_count": 3,
   "metadata": {},
   "outputs": [],
   "source": [
    "# Dividiendo el dataset en entrenamiento y evaluacion\n",
    "X_entrenamiento = X[:-200]\n",
    "X_evaluacion = X[-200:]\n",
    "y_entrenamiento = y[:-200]\n",
    "y_evaluacion = y[-200:]"
   ]
  },
  {
   "cell_type": "code",
   "execution_count": 4,
   "metadata": {},
   "outputs": [
    {
     "name": "stderr",
     "output_type": "stream",
     "text": [
      "c:\\users\\jhovanny.canas.pino\\appdata\\local\\programs\\python\\python36\\lib\\site-packages\\sklearn\\linear_model\\logistic.py:433: FutureWarning: Default solver will be changed to 'lbfgs' in 0.22. Specify a solver to silence this warning.\n",
      "  FutureWarning)\n"
     ]
    },
    {
     "data": {
      "text/plain": [
       "LogisticRegression(C=1.0, class_weight=None, dual=False, fit_intercept=True,\n",
       "          intercept_scaling=1, max_iter=100, multi_class='warn',\n",
       "          n_jobs=None, penalty='l2', random_state=None, solver='warn',\n",
       "          tol=0.0001, verbose=0, warm_start=False)"
      ]
     },
     "execution_count": 4,
     "metadata": {},
     "output_type": "execute_result"
    }
   ],
   "source": [
    "rlog.fit(X_entrenamiento, y_entrenamiento) #ajustando el modelo"
   ]
  },
  {
   "cell_type": "code",
   "execution_count": 5,
   "metadata": {},
   "outputs": [],
   "source": [
    "# Realizando las predicciones\n",
    "y_predic_entrenamiento = rlog.predict(X_entrenamiento) \n",
    "y_predic_evaluacion = rlog.predict(X_evaluacion)\n"
   ]
  },
  {
   "cell_type": "code",
   "execution_count": 6,
   "metadata": {},
   "outputs": [
    {
     "name": "stdout",
     "output_type": "stream",
     "text": [
      "sobre datos de entrenamiento: 0.94\n",
      "sobre datos de evaluación: 0.91\n"
     ]
    }
   ],
   "source": [
    "# Verificando la exactitud del modelo\n",
    "entrenamiento = (y_predic_entrenamiento == y_entrenamiento).sum().astype(float) / y_entrenamiento.shape[0]\n",
    "print(\"sobre datos de entrenamiento: {0:.2f}\".format(entrenamiento))\n",
    "evaluacion = (y_predic_evaluacion == y_evaluacion).sum().astype(float) / y_evaluacion.shape[0]\n",
    "print(\"sobre datos de evaluación: {0:.2f}\".format(evaluacion))\n"
   ]
  },
  {
   "cell_type": "markdown",
   "metadata": {},
   "source": [
    "evaluación de un modelo de regresión logística"
   ]
  },
  {
   "cell_type": "markdown",
   "metadata": {},
   "source": [
    "Se utiliza una matriz de confusión para evaluar la clasificación del modelo"
   ]
  },
  {
   "cell_type": "markdown",
   "metadata": {},
   "source": [
    "![matiz_confusion](img/matriz_confusion.png)"
   ]
  },
  {
   "cell_type": "markdown",
   "metadata": {},
   "source": [
    "Cuando se toman decisiones en ambiente de incertidumbre, estas decisiones pueden ser incorrectas. En situaciones de incertidumbre pueden cometerse dos tipos de errores:<br>\n",
    "- Una decision positiva falsa, tambien conocida como error de tipo I\n",
    "- y Una decision negativa falsa, tambien conocida como error de tipo II.\n"
   ]
  },
  {
   "cell_type": "markdown",
   "metadata": {},
   "source": [
    "En un caso de diagnóstico médico, por ejemplo, los posibles errores son:<br>\n",
    "- Error de Tipo I: Un paciente no tiene la enfermedad pero el doctor concluye que la tiene.\n",
    "- Error de Tipo II: Un paciente tiene la enfermedad pero el doctor concluye que no la tiene.\n"
   ]
  },
  {
   "cell_type": "markdown",
   "metadata": {},
   "source": [
    "<b>Exactitud(Accuracy)</b>: Número relativo de instancias correctamente clasificadas frente al total de instancias clasificadas.<br>\n",
    "<b>Precision</b> (por clase): es el porcentaje de las instancias bien clasificadas en esa clase del total de clasificadas en esa clase.<br>\n",
    "<b>Exhaustividad</b>, cobertura-Recall (por clase): Porcentaje de instancias bien clasificadas en esa clase del total de instancias que debían ser clasificadas en esa clase. \n",
    "\n"
   ]
  },
  {
   "cell_type": "markdown",
   "metadata": {},
   "source": [
    "![sensibilidad](img/sensibilidad.png)"
   ]
  },
  {
   "cell_type": "markdown",
   "metadata": {},
   "source": [
    "Sensibilidad vs. especificidad"
   ]
  },
  {
   "cell_type": "markdown",
   "metadata": {},
   "source": [
    "¿Cuántos de los elementos relevantes fueron correctamente identificados? <b>Sensibilidad</b>= TP / (TP+FN)"
   ]
  },
  {
   "cell_type": "markdown",
   "metadata": {},
   "source": [
    "¿Cuántos elementos no relevantes fueron correctamente identificados?  <b>Especificidad</b>= TN / (TN+FP)"
   ]
  },
  {
   "cell_type": "markdown",
   "metadata": {},
   "source": [
    "![falsos_positivos](img/falsos_positivos.png)"
   ]
  },
  {
   "cell_type": "code",
   "execution_count": 7,
   "metadata": {},
   "outputs": [],
   "source": [
    "from sklearn.metrics import classification_report,confusion_matrix"
   ]
  },
  {
   "cell_type": "code",
   "execution_count": 9,
   "metadata": {},
   "outputs": [
    {
     "name": "stdout",
     "output_type": "stream",
     "text": [
      "              precision    recall  f1-score   support\n",
      "\n",
      "           0       0.92      0.90      0.91       100\n",
      "           1       0.90      0.92      0.91       100\n",
      "\n",
      "   micro avg       0.91      0.91      0.91       200\n",
      "   macro avg       0.91      0.91      0.91       200\n",
      "weighted avg       0.91      0.91      0.91       200\n",
      "\n"
     ]
    }
   ],
   "source": [
    "print(classification_report(y_evaluacion,y_predic_evaluacion))"
   ]
  },
  {
   "cell_type": "code",
   "execution_count": 10,
   "metadata": {},
   "outputs": [
    {
     "name": "stdout",
     "output_type": "stream",
     "text": [
      "[[90 10]\n",
      " [ 8 92]]\n"
     ]
    }
   ],
   "source": [
    "print(confusion_matrix(y_evaluacion,y_predic_evaluacion))"
   ]
  },
  {
   "cell_type": "markdown",
   "metadata": {},
   "source": [
    "Ventajas de la regresión logística\n",
    "- Entrenamiento del modelo y predicción son rápidos\n",
    "- No requiere configuración de parámetros o “tuning”\n",
    "- Produce pronósticos de probabilidades bien calibradas\n",
    "- Pueden funcionar bien con un número pequeño de observaciones\n"
   ]
  },
  {
   "cell_type": "markdown",
   "metadata": {},
   "source": [
    "Desventajas \n",
    "- Presume una linear relación entre las variables y la respuesta\n"
   ]
  },
  {
   "cell_type": "markdown",
   "metadata": {},
   "source": [
    "Reconocimiento y agradecimiento especial a:"
   ]
  },
  {
   "cell_type": "markdown",
   "metadata": {},
   "source": [
    "- [Kevin Markham](https://github.com/justmarkham)\n",
    "- [Alejandro Correa](https://github.com/albahnsen)\n",
    "- [Janani Ravi](https://www.pluralsight.com/authors/janani-ravi)"
   ]
  },
  {
   "cell_type": "code",
   "execution_count": 1,
   "metadata": {},
   "outputs": [
    {
     "data": {
      "text/html": [
       "<style>\n",
       "    @font-face {\n",
       "        font-family: \"Computer Modern\";\n",
       "        src: url('http://mirrors.ctan.org/fonts/cm-unicode/fonts/otf/cmunss.otf');\n",
       "    }\n",
       "    div.cell{\n",
       "        width: 90%;\n",
       "/*        margin-left:auto;*/\n",
       "/*        margin-right:auto;*/\n",
       "    }\n",
       "    ul {\n",
       "        line-height: 145%;\n",
       "        font-size: 90%;\n",
       "    }\n",
       "    li {\n",
       "        margin-bottom: 1em;\n",
       "    }\n",
       "    h1 {\n",
       "        font-family: Helvetica, serif;\n",
       "    }\n",
       "    h4{\n",
       "        margin-top: 12px;\n",
       "        margin-bottom: 3px;\n",
       "       }\n",
       "    div.text_cell_render{\n",
       "        font-family: Computer Modern, \"Helvetica Neue\", Arial, Helvetica, Geneva, sans-serif;\n",
       "        line-height: 145%;\n",
       "        font-size: 130%;\n",
       "        width: 90%;\n",
       "        margin-left:auto;\n",
       "        margin-right:auto;\n",
       "    }\n",
       "    .CodeMirror{\n",
       "            font-family: \"Source Code Pro\", source-code-pro,Consolas, monospace;\n",
       "    }\n",
       "/*    .prompt{\n",
       "        display: None;\n",
       "    }*/\n",
       "    .text_cell_render h5 {\n",
       "        font-weight: 300;\n",
       "        font-size: 16pt;\n",
       "        color: #4057A1;\n",
       "        font-style: italic;\n",
       "        margin-bottom: 0.5em;\n",
       "        margin-top: 0.5em;\n",
       "        display: block;\n",
       "    }\n",
       "\n",
       "    .warning{\n",
       "        color: rgb( 240, 20, 20 )\n",
       "        }\n",
       "</style>\n",
       "<script>\n",
       "    MathJax.Hub.Config({\n",
       "                        TeX: {\n",
       "                           extensions: [\"AMSmath.js\"]\n",
       "                           },\n",
       "                tex2jax: {\n",
       "                    inlineMath: [ ['$','$'], [\"\\\\(\",\"\\\\)\"] ],\n",
       "                    displayMath: [ ['$$','$$'], [\"\\\\[\",\"\\\\]\"] ]\n",
       "                },\n",
       "                displayAlign: 'center', // Change this to 'center' to center equations.\n",
       "                \"HTML-CSS\": {\n",
       "                    styles: {'.MathJax_Display': {\"margin\": 4}}\n",
       "                }\n",
       "        });\n",
       "</script>"
      ],
      "text/plain": [
       "<IPython.core.display.HTML object>"
      ]
     },
     "execution_count": 1,
     "metadata": {},
     "output_type": "execute_result"
    }
   ],
   "source": [
    "from IPython.core.display import HTML\n",
    "def css_styling():\n",
    "    styles = open(\"estilos/custom.css\", \"r\").read()\n",
    "    return HTML(styles)\n",
    "css_styling()"
   ]
  },
  {
   "cell_type": "code",
   "execution_count": null,
   "metadata": {},
   "outputs": [],
   "source": []
  }
 ],
 "metadata": {
  "kernelspec": {
   "display_name": "Python 3",
   "language": "python",
   "name": "python3"
  },
  "language_info": {
   "codemirror_mode": {
    "name": "ipython",
    "version": 3
   },
   "file_extension": ".py",
   "mimetype": "text/x-python",
   "name": "python",
   "nbconvert_exporter": "python",
   "pygments_lexer": "ipython3",
   "version": "3.6.3rc1"
  }
 },
 "nbformat": 4,
 "nbformat_minor": 2
}

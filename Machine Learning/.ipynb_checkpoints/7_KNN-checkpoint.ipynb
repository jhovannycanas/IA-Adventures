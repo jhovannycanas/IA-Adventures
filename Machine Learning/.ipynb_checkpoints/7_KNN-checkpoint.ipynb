{
 "cells": [
  {
   "cell_type": "markdown",
   "metadata": {},
   "source": [
    "# KNN o k vecinos más cercanos"
   ]
  },
  {
   "cell_type": "markdown",
   "metadata": {},
   "source": [
    "kNN, o k-Nearest Neighbors, es un algoritmo supervizado de clasificación y regresion. Sin embargo, difiere de los clasificadores descritos anteriormente porque es un modelo de aprendizaje perezoso."
   ]
  },
  {
   "cell_type": "markdown",
   "metadata": {},
   "source": [
    "¿Qué es un modelo de aprendizaje perezoso? "
   ]
  },
  {
   "cell_type": "markdown",
   "metadata": {},
   "source": [
    "Un modelo de aprendizaje perezoso no hace mucho durante el proceso de capacitación más que almacenar los datos de la capacitación. Sólo cuando se introducen nuevos datos sin etiquetar, este tipo de modelo busca clasificar."
   ]
  },
  {
   "cell_type": "markdown",
   "metadata": {},
   "source": [
    "Por otro lado, un modelo aprendizaje activo construye un modelo de clasificación durante la capacitación. Cuando se introducen nuevos datos no etiquetados, este tipo de modelo introduce los datos en el modelo de clasificación."
   ]
  },
  {
   "cell_type": "markdown",
   "metadata": {},
   "source": [
    "Aprendizaje perezoso: en realidad el algoritmo solo se ejecuta en el momento que se requiere predecir una nueva instancia a partir de una predicción local. Este algoritmo no aprende una función discriminatoria de los datos de entrenamiento, sino que memoriza el conjunto de datos de entrenamiento."
   ]
  },
  {
   "cell_type": "markdown",
   "metadata": {},
   "source": [
    "Entonces, ¿qué hace KNN?<br>\n",
    "kNN no construye ningún modelo de clasificación de este tipo. En su lugar, sólo almacena los datos de formación etiquetados.\n"
   ]
  },
  {
   "cell_type": "markdown",
   "metadata": {},
   "source": [
    "El algoritmo KNN en sí mismo es bastante sencillo y se puede resumir en los siguientes pasos:<br>\n",
    "\n",
    "- Elija el número de k y una métrica de distancia.\n",
    "- Encuentra los vecinos más cercanos de la muestra que queremos clasificar.\n",
    "- Asigne la etiqueta de clase por mayoría de votos."
   ]
  },
  {
   "cell_type": "markdown",
   "metadata": {},
   "source": [
    "Algunas caracteristicas de KNN\n",
    "- Sencillo: asignar la clase o valor agregado de las instancias conocidas que se encuentran mas cerca de la instancia a predecir, \n",
    "- Basado en las instancias de aprendizaje, \n",
    "- No en un modelo subyacente probabilístico/estadístico\n"
   ]
  },
  {
   "cell_type": "markdown",
   "metadata": {},
   "source": [
    "Cuando llegan nuevos datos sin etiquetar, kNN funciona en dos pasos básicos:\n",
    "En primer lugar, examina los k puntos de datos de entrenamiento más cercanos, es decir, los vecinos más cercanos.\n",
    "Segundo, usando las clases de los vecinos, kNN obtiene una mejor idea de cómo se deben clasificar los nuevos datos.\n"
   ]
  },
  {
   "cell_type": "markdown",
   "metadata": {},
   "source": [
    "En la siguiente figura ilustra como un nuevo punto de datos(?) se le asigna la etiqueta de la clase triangulo basado en la votacion de sus cinco vecinos mas cercanos:"
   ]
  },
  {
   "cell_type": "markdown",
   "metadata": {},
   "source": [
    "![knn](img/knn.png)"
   ]
  },
  {
   "cell_type": "markdown",
   "metadata": {},
   "source": [
    "¿Cómo se da cuenta kNN de lo que está más cerca? <br>\n",
    "Para los datos continuos, kNN utiliza una métrica de distancia como la distancia euclídea. La elección de la métrica de distancia depende en gran medida de los datos. Algunos incluso sugieren aprender una métrica de distancia basada en los datos de la capacitación. Hay muchos más detalles y documentos sobre las métricas de distancia kNN.\n"
   ]
  },
  {
   "cell_type": "markdown",
   "metadata": {},
   "source": [
    "Uso de la distancia de Hamming como métrica para la \"cercanía\" de dos cadenas de texto.\n",
    "\n",
    "Depende de la definición de una función de distancia, que se escogerá según la cantidad y características de las variables independientes\n",
    "\n",
    "\n",
    "Transformación de datos discretos en características binarias.\n"
   ]
  },
  {
   "cell_type": "markdown",
   "metadata": {},
   "source": [
    "¿Cómo clasifica kNN los nuevos datos cuando los vecinos no están de acuerdo? \n",
    "kNN tiene un tiempo fácil cuando todos los vecinos son de la misma clase. La intuición es que si todos los vecinos están de acuerdo, entonces el nuevo punto de datos probablemente caiga en la misma clase.\n"
   ]
  },
  {
   "cell_type": "markdown",
   "metadata": {},
   "source": [
    "¿Cómo decide kNN la clase cuando los vecinos no tienen la misma clase?"
   ]
  },
  {
   "cell_type": "markdown",
   "metadata": {},
   "source": [
    "2 técnicas comunes para tratar con esto son:<br>\n",
    "\n",
    "Tomar una mayoría simple de votos de los vecinos. Cualquier clase que tenga el mayor número de votos se convierte en la clase para el nuevo punto de datos.\n",
    "Tomar un voto similar, excepto dar un peso mayor a los vecinos que están más cerca. Una manera sencilla de hacer esto es usar la distancia recíproca, por ejemplo, si el vecino está a 5 unidades de distancia, entonces pondere su voto 1/5. A medida que el vecino se aleja, la distancia recíproca se hace cada vez más pequeña.... ¡exactamente lo que queremos!\n"
   ]
  },
  {
   "cell_type": "markdown",
   "metadata": {},
   "source": [
    "¿Por qué usar kNN? \n",
    "La facilidad de comprensión e implementación son dos de las razones clave para usar kNN. Dependiendo de la métrica de distancia, el kNN puede ser bastante preciso.\n"
   ]
  },
  {
   "cell_type": "markdown",
   "metadata": {},
   "source": [
    "Aquí hay 5 cosas a las que hay que prestar atención:\n",
    "\n",
    "kNN puede resultar muy costoso desde el punto de vista computacional cuando se trata de determinar los vecinos más cercanos en un conjunto de datos de gran tamaño.<br>\n",
    "Los datos ruidosos pueden desviar las clasificaciones kNN.<br>\n",
    "Las características con un rango mayor de valores pueden dominar la métrica de distancia en relación con las características que tienen un rango menor, por lo que el escalado de características es importante.<br>\n",
    "Dado que el procesamiento de datos es diferido, el kNN generalmente requiere mayores requerimientos de almacenamiento que los clasificadores ansiosos.<br>\n",
    "La selección de una buena métrica de distancia es crucial para la precisión del kNN.<br>\n"
   ]
  },
  {
   "cell_type": "markdown",
   "metadata": {},
   "source": [
    "Que significa el parámetro K\n",
    "\n",
    "Número de vecinos mas cercanos a considerar para establecer la clase o valor de una nueva instancia\n"
   ]
  },
  {
   "cell_type": "markdown",
   "metadata": {},
   "source": [
    "Consideraciones a tener en cuenta con el parámetro K:\n",
    "\n",
    "\n",
    "K controla el overfitting(sobre aprendizaje) y el underfitting(sub aprendizaje\n",
    "•Modelos más sencillos (K mas grandes) previenen el overfitting, pero pueden por el contrario irse hacia el underfitting\n",
    "•Modelos mas complejos (K mas pequeños) previenen el underfitting, pero pueden por el contrario irse hacia el overfitting\n",
    "•El K ideal que sirva para todos los casos no existe, depende de cada datasetespecífico\n"
   ]
  },
  {
   "cell_type": "markdown",
   "metadata": {},
   "source": [
    "Las mismas consideraciones aplican tanto para la clasificación como para la regresión a partir de KNN (encontrar el K ideal para prevenir el over/underfitting)<br>\n",
    "Ejemplo: puntos en rojo resultado de una función lineal con ruido (lo que se quiere aprender)<vr>\n",
    "- 2 modelos KNN en azul (izquierda y derecha)\n",
    "- 3 modelo lineal ideal en negro\n",
    "- ¿En cuál de los dos modelos KNN hay overfitting)?\n"
   ]
  },
  {
   "cell_type": "markdown",
   "metadata": {},
   "source": [
    "![overfiting](img/overfiting.png)"
   ]
  },
  {
   "cell_type": "code",
   "execution_count": 1,
   "metadata": {},
   "outputs": [
    {
     "data": {
      "text/plain": [
       "['sepal length (cm)',\n",
       " 'sepal width (cm)',\n",
       " 'petal length (cm)',\n",
       " 'petal width (cm)']"
      ]
     },
     "execution_count": 1,
     "metadata": {},
     "output_type": "execute_result"
    }
   ],
   "source": [
    "from sklearn.datasets import load_iris\n",
    "\n",
    "# Creando el dataset iris\n",
    "iris = load_iris()\n",
    "X = iris.data\n",
    "y = iris.target\n",
    "iris.feature_names"
   ]
  },
  {
   "cell_type": "code",
   "execution_count": 5,
   "metadata": {},
   "outputs": [],
   "source": [
    "# importando KNN \n",
    "from sklearn.neighbors import KNeighborsClassifier\n",
    "import numpy as np"
   ]
  },
  {
   "cell_type": "code",
   "execution_count": 19,
   "metadata": {},
   "outputs": [],
   "source": [
    "knnr = KNeighborsClassifier(n_neighbors=1, p=2, metric='minkowski')"
   ]
  },
  {
   "cell_type": "code",
   "execution_count": 20,
   "metadata": {},
   "outputs": [],
   "source": [
    "from sklearn.model_selection import train_test_split"
   ]
  },
  {
   "cell_type": "code",
   "execution_count": 21,
   "metadata": {},
   "outputs": [],
   "source": [
    "x_train, x_test, y_train, y_test = train_test_split(X, y, test_size= 0.1, random_state =1)"
   ]
  },
  {
   "cell_type": "code",
   "execution_count": 22,
   "metadata": {},
   "outputs": [
    {
     "data": {
      "text/plain": [
       "KNeighborsClassifier(algorithm='auto', leaf_size=30, metric='minkowski',\n",
       "           metric_params=None, n_jobs=None, n_neighbors=1, p=2,\n",
       "           weights='uniform')"
      ]
     },
     "execution_count": 22,
     "metadata": {},
     "output_type": "execute_result"
    }
   ],
   "source": [
    "knnr.fit(x_train, y_train) # Ajustando el modelo"
   ]
  },
  {
   "cell_type": "code",
   "execution_count": 23,
   "metadata": {},
   "outputs": [
    {
     "name": "stdout",
     "output_type": "stream",
     "text": [
      "El error medio del modelo es: 0.00\n"
     ]
    }
   ],
   "source": [
    "# Verificando el error medio del modelo\n",
    "print(\"El error medio del modelo es: {:.2f}\".format(np.power(y - knnr.predict(X),2).mean()))\n"
   ]
  },
  {
   "cell_type": "code",
   "execution_count": 24,
   "metadata": {},
   "outputs": [],
   "source": [
    "pred = knnr.predict(x_test)"
   ]
  },
  {
   "cell_type": "code",
   "execution_count": 25,
   "metadata": {},
   "outputs": [
    {
     "data": {
      "text/plain": [
       "array([0, 1, 1, 0, 2, 1, 2, 0, 0, 2, 1, 0, 2, 1, 1])"
      ]
     },
     "execution_count": 25,
     "metadata": {},
     "output_type": "execute_result"
    }
   ],
   "source": [
    "pred"
   ]
  },
  {
   "cell_type": "code",
   "execution_count": 26,
   "metadata": {},
   "outputs": [],
   "source": [
    "from sklearn.metrics import classification_report,confusion_matrix\n",
    "from sklearn.metrics import accuracy_score"
   ]
  },
  {
   "cell_type": "code",
   "execution_count": 27,
   "metadata": {},
   "outputs": [
    {
     "name": "stdout",
     "output_type": "stream",
     "text": [
      "Accuracy: 1.00\n"
     ]
    }
   ],
   "source": [
    "print('Accuracy: %.2f' % accuracy_score(y_test, pred))"
   ]
  },
  {
   "cell_type": "code",
   "execution_count": 30,
   "metadata": {},
   "outputs": [
    {
     "name": "stdout",
     "output_type": "stream",
     "text": [
      "[[5 0 0]\n",
      " [0 6 0]\n",
      " [0 0 4]]\n"
     ]
    }
   ],
   "source": [
    "print(confusion_matrix(y_test, pred))"
   ]
  },
  {
   "cell_type": "markdown",
   "metadata": {},
   "source": [
    "Elegir el K"
   ]
  },
  {
   "cell_type": "markdown",
   "metadata": {},
   "source": [
    "Elegir correctamente el K es crucial para el balance entre sobre ajuste o sub ajuste del modelo, a continuacion se muestra como puede estimarse este valor:"
   ]
  },
  {
   "cell_type": "code",
   "execution_count": 28,
   "metadata": {},
   "outputs": [],
   "source": [
    "error_rate = []\n",
    "\n",
    "# Will take some time\n",
    "for i in range(1,40):\n",
    "    \n",
    "    knn = KNeighborsClassifier(n_neighbors=i)\n",
    "    knn.fit(x_train,y_train)\n",
    "    pred_i = knn.predict(x_test)\n",
    "    error_rate.append(np.mean(pred_i != y_test))"
   ]
  },
  {
   "cell_type": "code",
   "execution_count": 29,
   "metadata": {},
   "outputs": [
    {
     "data": {
      "text/plain": [
       "Text(0, 0.5, 'Error Rate')"
      ]
     },
     "execution_count": 29,
     "metadata": {},
     "output_type": "execute_result"
    },
    {
     "data": {
      "image/png": "[encoded data removed]",
      "text/plain": [
       "<Figure size 720x432 with 1 Axes>"
      ]
     },
     "metadata": {
      "needs_background": "light"
     },
     "output_type": "display_data"
    }
   ],
   "source": [
    "import matplotlib.pyplot as plt\n",
    "import numpy as np\n",
    "%matplotlib inline\n",
    "\n",
    "plt.figure(figsize=(10,6))\n",
    "plt.plot(range(1,40),error_rate,color='blue', linestyle='dashed', marker='o',\n",
    "         markerfacecolor='red', markersize=10)\n",
    "plt.title('Error Rate vs. K Value')\n",
    "plt.xlabel('K')\n",
    "plt.ylabel('Error Rate')"
   ]
  },
  {
   "cell_type": "markdown",
   "metadata": {},
   "source": [
    "Ventajas de KNN"
   ]
  },
  {
   "cell_type": "markdown",
   "metadata": {},
   "source": [
    "- Enfoque basado en la memoria es que el clasificador se adapta inmediatamente a medida que recopilamos nuevos datos de entrenamiento"
   ]
  },
  {
   "cell_type": "markdown",
   "metadata": {},
   "source": [
    "Desventajas"
   ]
  },
  {
   "cell_type": "markdown",
   "metadata": {},
   "source": [
    "- la complejidad computacional para clasificar nuevas muestras crece linealmente con el número de muestras en el conjunto de datos de capacitación\n",
    "- Muy sensible a sobre ajuste debido a la maldicion de la dimensionalidad(La maldición de la dimensionalidad describe el fenómeno en el que el espacio de la característica se vuelve cada vez más escaso para un número creciente de dimensiones de un conjunto de datos de formación de tamaño fijo)"
   ]
  },
  {
   "cell_type": "code",
   "execution_count": null,
   "metadata": {},
   "outputs": [],
   "source": []
  }
 ],
 "metadata": {
  "kernelspec": {
   "display_name": "Python 3",
   "language": "python",
   "name": "python3"
  },
  "language_info": {
   "codemirror_mode": {
    "name": "ipython",
    "version": 3
   },
   "file_extension": ".py",
   "mimetype": "text/x-python",
   "name": "python",
   "nbconvert_exporter": "python",
   "pygments_lexer": "ipython3",
   "version": "3.6.3rc1"
  }
 },
 "nbformat": 4,
 "nbformat_minor": 2
}

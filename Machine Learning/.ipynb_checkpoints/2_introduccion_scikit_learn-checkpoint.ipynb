{
 "cells": [
  {
   "cell_type": "markdown",
   "metadata": {},
   "source": [
    "# Introducción al aprendizaje automático utilizando scikit-learn"
   ]
  },
  {
   "cell_type": "markdown",
   "metadata": {},
   "source": [
    "El aprendizaje automático resumiendo en una frase trata de algoritmos que son capaces de aprender de los datos, si vemos el enunciado anterior, el insumo esencial para trabajar con estos algoritmos es disponer de datos para poder empezar a crear nuestros modelos con scikit-learn, a continuación se presenta varios enlaces a sitios que colocan a disposición conjuntos de datos(Datasets) para ser utilizado para diferentes propósitos como análisis estadístico, machine learning,IA , entre otros, es de resaltar que no es una lista exhaustiva, no obstante tienen bastante difusión en la comunidad practicante de machine learning."
   ]
  },
  {
   "cell_type": "markdown",
   "metadata": {},
   "source": [
    "- https://archive.ics.uci.edu/ml/index.php\n",
    "\n",
    "- https://data.iadb.org/Datacatalog/Dataset#\n",
    "\n",
    "- http://rs.io/100-interesting-data-sets-for-statistics/\n",
    "\n",
    "- https://toolbox.google.com/datasetsearch\n"
   ]
  },
  {
   "cell_type": "markdown",
   "metadata": {},
   "source": [
    "Representación de datos en Scikit-learn<br>\n",
    "El aprendizaje automático consiste en crear modelos a partir de datos: por esa razón, empezaremos por discutir cómo se pueden representar los datos para que sean entendidos por el ordenador. Junto con esto, nos basaremos en nuestros ejemplos de matplotlib de la sección anterior y mostraremos algunos ejemplos de cómo visualizar los datos.<br>\n",
    "\n",
    "La mayoría de los algoritmos de aprendizaje implementados en scikit-learn esperan que los datos se almacenen en una matriz bidimensional. Las matrices pueden ser matrices numéricas o, en algunos casos, matrices scipy.sparse. Se espera que el tamaño de la matriz sea[n_muestras, n_características]<br>\n",
    "\n",
    "n_muestras: El número de muestras: cada muestra es un elemento a procesar (por ejemplo, clasificar). Una muestra puede ser un documento, una imagen, un sonido, un vídeo, un objeto astronómico, una fila en una base de datos o un archivo CSV, o cualquier cosa que se pueda describir con un conjunto fijo de rasgos cuantitativos.<br>\n",
    "n_características: El número de características o rasgos distintivos que se pueden utilizar para describir cada artículo de manera cuantitativa. Las características son generalmente de valor real, pero pueden ser de valor booleano o discreto en algunos casos.<br>\n",
    "El número de características debe fijarse de antemano. Sin embargo, puede ser muy dimensional (por ejemplo, millones de características) y la mayoría de ellas son ceros para una muestra determinada. Este es un caso en el que las matrices scipy.sparse pueden ser útiles, ya que son mucho más eficientes en términos de memoria que los arreglos numéricos."
   ]
  },
  {
   "cell_type": "markdown",
   "metadata": {},
   "source": [
    "Interfaz del estimador de Scikit-learn<br>\n",
    "Scikit-learn se esfuerza por tener una interfaz uniforme en todos los métodos, y veremos ejemplos de ello a continuación. Dado un objeto estimador de scikit-learn llamado modelo, los siguientes métodos están disponibles:<br>\n",
    "\n",
    "Disponible en todos los Estimadores<br>\n",
    "model.fit() : datos de entrenamiento de ajuste. Para las aplicaciones de aprendizaje supervisado, esto acepta dos argumentos: los datos X y las etiquetas y (por ejemplo, model.fit(X, y)). Para las aplicaciones de aprendizaje no supervisadas, esto acepta sólo un único argumento, los datos X (por ejemplo, model.fit(X)).<br>\n",
    "Disponible en estimadores supervisados<br>\n",
    "model.predict() : dado un modelo entrenado, predice la etiqueta de un nuevo conjunto de datos. Este método acepta un argumento, el nuevo dato X_new (por ejemplo, model.predict(X_new)), y devuelve la etiqueta aprendida para cada objeto de la matriz.<br>\n",
    "model.predict_proba() : Para problemas de clasificación, algunos estimadores también proporcionan este método, que devuelve la probabilidad de que una nueva observación tenga cada etiqueta de categoría. En este caso, la etiqueta con la mayor probabilidad es devuelta por model.predict().<br>\n",
    "model.score() : para problemas de clasificación o regresión, la mayoría de los estimadores implementan un método de puntuación. Las puntuaciones están entre 0 y 1, y una mayor puntuación indica un mejor ajuste.<br>\n",
    "Disponible en estimadores no supervisados<br>\n",
    "model.predict() : predice etiquetas en algoritmos de clustering.<br>\n",
    "model.transform() : dado un modelo no supervisado, transforma los nuevos datos en la nueva base. Esto también acepta un argumento X_new, y devuelve la nueva representación de los datos basada en el modelo no supervisado.<br>\n",
    "model.fit_transform() : algunos estimadores implementan este método, que realiza más eficientemente un ajuste y una transformación en los mismos datos de entrada.\n"
   ]
  },
  {
   "cell_type": "markdown",
   "metadata": {},
   "source": [
    "Reconocimiento y agradecimiento especial para [Alejandro Correa](https://github.com/albahnsen)"
   ]
  },
  {
   "cell_type": "code",
   "execution_count": 1,
   "metadata": {},
   "outputs": [
    {
     "data": {
      "text/html": [
       "<style>\n",
       "    @font-face {\n",
       "        font-family: \"Computer Modern\";\n",
       "        src: url('http://mirrors.ctan.org/fonts/cm-unicode/fonts/otf/cmunss.otf');\n",
       "    }\n",
       "    div.cell{\n",
       "        width: 90%;\n",
       "/*        margin-left:auto;*/\n",
       "/*        margin-right:auto;*/\n",
       "    }\n",
       "    ul {\n",
       "        line-height: 145%;\n",
       "        font-size: 90%;\n",
       "    }\n",
       "    li {\n",
       "        margin-bottom: 1em;\n",
       "    }\n",
       "    h1 {\n",
       "        font-family: Helvetica, serif;\n",
       "    }\n",
       "    h4{\n",
       "        margin-top: 12px;\n",
       "        margin-bottom: 3px;\n",
       "       }\n",
       "    div.text_cell_render{\n",
       "        font-family: Computer Modern, \"Helvetica Neue\", Arial, Helvetica, Geneva, sans-serif;\n",
       "        line-height: 145%;\n",
       "        font-size: 130%;\n",
       "        width: 90%;\n",
       "        margin-left:auto;\n",
       "        margin-right:auto;\n",
       "    }\n",
       "    .CodeMirror{\n",
       "            font-family: \"Source Code Pro\", source-code-pro,Consolas, monospace;\n",
       "    }\n",
       "/*    .prompt{\n",
       "        display: None;\n",
       "    }*/\n",
       "    .text_cell_render h5 {\n",
       "        font-weight: 300;\n",
       "        font-size: 16pt;\n",
       "        color: #4057A1;\n",
       "        font-style: italic;\n",
       "        margin-bottom: 0.5em;\n",
       "        margin-top: 0.5em;\n",
       "        display: block;\n",
       "    }\n",
       "\n",
       "    .warning{\n",
       "        color: rgb( 240, 20, 20 )\n",
       "        }\n",
       "</style>\n",
       "<script>\n",
       "    MathJax.Hub.Config({\n",
       "                        TeX: {\n",
       "                           extensions: [\"AMSmath.js\"]\n",
       "                           },\n",
       "                tex2jax: {\n",
       "                    inlineMath: [ ['$','$'], [\"\\\\(\",\"\\\\)\"] ],\n",
       "                    displayMath: [ ['$$','$$'], [\"\\\\[\",\"\\\\]\"] ]\n",
       "                },\n",
       "                displayAlign: 'center', // Change this to 'center' to center equations.\n",
       "                \"HTML-CSS\": {\n",
       "                    styles: {'.MathJax_Display': {\"margin\": 4}}\n",
       "                }\n",
       "        });\n",
       "</script>"
      ],
      "text/plain": [
       "<IPython.core.display.HTML object>"
      ]
     },
     "execution_count": 1,
     "metadata": {},
     "output_type": "execute_result"
    }
   ],
   "source": [
    "from IPython.core.display import HTML\n",
    "def css_styling():\n",
    "    styles = open(\"estilos/custom.css\", \"r\").read()\n",
    "    return HTML(styles)\n",
    "css_styling()"
   ]
  },
  {
   "cell_type": "code",
   "execution_count": null,
   "metadata": {},
   "outputs": [],
   "source": []
  }
 ],
 "metadata": {
  "kernelspec": {
   "display_name": "Python 3",
   "language": "python",
   "name": "python3"
  },
  "language_info": {
   "codemirror_mode": {
    "name": "ipython",
    "version": 3
   },
   "file_extension": ".py",
   "mimetype": "text/x-python",
   "name": "python",
   "nbconvert_exporter": "python",
   "pygments_lexer": "ipython3",
   "version": "3.6.3rc1"
  }
 },
 "nbformat": 4,
 "nbformat_minor": 2
}

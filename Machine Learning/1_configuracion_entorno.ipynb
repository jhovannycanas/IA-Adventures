{
 "cells": [
  {
   "cell_type": "markdown",
   "metadata": {},
   "source": [
    "# Configuración del entorno de trabajo para machine learning con Python: Jupyter, scikit-learn, pandas, numpy.\n"
   ]
  },
  {
   "cell_type": "markdown",
   "metadata": {},
   "source": [
    "scikit-learn es una biblioteca de código abierto creada en el lenguaje Python, cuenta con implementaciones de para muchos de los problemas abordados con aprendizaje automático: clasificación, regresión, clustering, reducción de dimensionalidad, entre otras. Además también dispone de una serie de funcionalidades para el preprocesamiento de los datos antes de ser utilizados en los algoritmos."
   ]
  },
  {
   "cell_type": "markdown",
   "metadata": {},
   "source": [
    "## Instalación de scikit-learn y Jupyter"
   ]
  },
  {
   "cell_type": "markdown",
   "metadata": {},
   "source": [
    "Existen dos formas de instalar la librería son:\n",
    "- Opción 1: instalar scikit-learn y todas las dependencias necesarias.\n",
    "- Opción 2: instalar Anaconda Python, la cual scikit-learn, las dependencias, además de un gran número de librerías de Python para el análisis de datos.\n",
    "\n",
    "En este caso, para el curso optaremos por la primera opción:\n"
   ]
  },
  {
   "cell_type": "markdown",
   "metadata": {},
   "source": [
    "[Instalar Jupyter](https://jupyter.readthedocs.io/en/latest/install.html) "
   ]
  },
  {
   "cell_type": "markdown",
   "metadata": {},
   "source": [
    "[Instalar scikit-learn](https://scikit-learn.org/stable/install.html) Libreria de machine learning"
   ]
  },
  {
   "cell_type": "markdown",
   "metadata": {},
   "source": [
    "También instalaremos las siguientes librerías:"
   ]
  },
  {
   "cell_type": "markdown",
   "metadata": {},
   "source": [
    "- Instalar [Pandas](https://pandas.pydata.org/pandas-docs/stable/install.html) librería de Python para el análisis de datos, permite cargar, manipular y procesar datos en diferentes formatos.\n",
    "Por favor leer la siguiente presentación donde se amplia mas sobre pandas y Numpy en [github](https://github.com/jhovannycanas/Ciencia_datos/blob/master/diapositivas%20clase/Python_R_Pandas_Intro.pptx), otra librería útil para el aprendizaje automática, que proporciona arreglos o matrices multidimensionales optimizados para el máximo rendimiento.\n",
    "- Instalar [numpy](https://scipy.org/install.html) librería para cálculos científicos\n",
    "- Instalar [matplotlib](https://matplotlib.org/users/installing.html) librería que permite graficar.\n"
   ]
  },
  {
   "cell_type": "markdown",
   "metadata": {},
   "source": [
    "Los talleres prácticos se realizaran mediante la herramienta Jupyer notebook(anteriormente el proyecto Ipython), los cuadernos de Jupyer son útiles para presentar código, comentarios, resultados de forma interactiva con un solo Shell.\n",
    "Una vez instalado, para ejecutar Jupyter, inicie una consola o cmd, luego escriba jupyter notebook; importante no cerrar la ventana de la consola mientras este utilizando jupyter\n"
   ]
  },
  {
   "cell_type": "markdown",
   "metadata": {},
   "source": [
    "## Recursos para instalacion de Jupyer y scikit-learn"
   ]
  },
  {
   "cell_type": "markdown",
   "metadata": {},
   "source": [
    "[Install scikit-learn](https://github.com/justmarkham/scikit-learn-videos/blob/master/02_machine_learning_setup.ipynb)"
   ]
  },
  {
   "cell_type": "markdown",
   "metadata": {},
   "source": [
    "Reconocimiento y agradecimiento especial a [Kevin Markham](https://github.com/justmarkham)"
   ]
  },
  {
   "cell_type": "code",
   "execution_count": null,
   "metadata": {},
   "outputs": [],
   "source": []
  }
 ],
 "metadata": {
  "kernelspec": {
   "display_name": "Python 3",
   "language": "python",
   "name": "python3"
  },
  "language_info": {
   "codemirror_mode": {
    "name": "ipython",
    "version": 3
   },
   "file_extension": ".py",
   "mimetype": "text/x-python",
   "name": "python",
   "nbconvert_exporter": "python",
   "pygments_lexer": "ipython3",
   "version": "3.6.3rc1"
  }
 },
 "nbformat": 4,
 "nbformat_minor": 2
}
